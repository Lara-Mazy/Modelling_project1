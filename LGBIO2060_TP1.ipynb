{
  "nbformat": 4,
  "nbformat_minor": 0,
  "metadata": {
    "colab": {
      "name": "LGBIO2060_TP1",
      "provenance": [],
      "collapsed_sections": []
    },
    "kernelspec": {
      "name": "python3",
      "display_name": "Python 3"
    },
    "widgets": {
      "application/vnd.jupyter.widget-state+json": {
        "2dcde48eb2424706bd1ee40e277f5730": {
          "model_module": "@jupyter-widgets/controls",
          "model_name": "VBoxModel",
          "state": {
            "_view_name": "VBoxView",
            "_dom_classes": [
              "widget-interact"
            ],
            "_model_name": "VBoxModel",
            "_view_module": "@jupyter-widgets/controls",
            "_model_module_version": "1.5.0",
            "_view_count": null,
            "_view_module_version": "1.5.0",
            "box_style": "",
            "layout": "IPY_MODEL_a5960de397a54d41a56892f063a714d0",
            "_model_module": "@jupyter-widgets/controls",
            "children": [
              "IPY_MODEL_a12328bc805b433e890e24801385be20",
              "IPY_MODEL_c1909a9f929c4006aab01385d2fe1605",
              "IPY_MODEL_d4efdee302934da79403ffe18252a5f1"
            ]
          }
        },
        "a5960de397a54d41a56892f063a714d0": {
          "model_module": "@jupyter-widgets/base",
          "model_name": "LayoutModel",
          "state": {
            "_view_name": "LayoutView",
            "grid_template_rows": null,
            "right": null,
            "justify_content": null,
            "_view_module": "@jupyter-widgets/base",
            "overflow": null,
            "_model_module_version": "1.2.0",
            "_view_count": null,
            "flex_flow": null,
            "width": null,
            "min_width": null,
            "border": null,
            "align_items": null,
            "bottom": null,
            "_model_module": "@jupyter-widgets/base",
            "top": null,
            "grid_column": null,
            "overflow_y": null,
            "overflow_x": null,
            "grid_auto_flow": null,
            "grid_area": null,
            "grid_template_columns": null,
            "flex": null,
            "_model_name": "LayoutModel",
            "justify_items": null,
            "grid_row": null,
            "max_height": null,
            "align_content": null,
            "visibility": null,
            "align_self": null,
            "height": null,
            "min_height": null,
            "padding": null,
            "grid_auto_rows": null,
            "grid_gap": null,
            "max_width": null,
            "order": null,
            "_view_module_version": "1.2.0",
            "grid_template_areas": null,
            "object_position": null,
            "object_fit": null,
            "grid_auto_columns": null,
            "margin": null,
            "display": null,
            "left": null
          }
        },
        "a12328bc805b433e890e24801385be20": {
          "model_module": "@jupyter-widgets/controls",
          "model_name": "FloatSliderModel",
          "state": {
            "_view_name": "FloatSliderView",
            "style": "IPY_MODEL_a1fbe8051be34e9ea564051d8b6be67f",
            "_dom_classes": [],
            "description": "mu:",
            "step": 0.1,
            "_model_name": "FloatSliderModel",
            "orientation": "horizontal",
            "max": 7,
            "_view_module": "@jupyter-widgets/controls",
            "_model_module_version": "1.5.0",
            "value": 2,
            "_view_count": null,
            "disabled": false,
            "_view_module_version": "1.5.0",
            "min": -7,
            "continuous_update": true,
            "readout_format": ".2f",
            "description_tooltip": null,
            "readout": true,
            "_model_module": "@jupyter-widgets/controls",
            "layout": "IPY_MODEL_971a893d9bff491caa49e6912432f803"
          }
        },
        "c1909a9f929c4006aab01385d2fe1605": {
          "model_module": "@jupyter-widgets/controls",
          "model_name": "FloatSliderModel",
          "state": {
            "_view_name": "FloatSliderView",
            "style": "IPY_MODEL_ca9cdf8ff0cd4af3a3ffaf10252f9fa9",
            "_dom_classes": [],
            "description": "sigma",
            "step": 0.1,
            "_model_name": "FloatSliderModel",
            "orientation": "horizontal",
            "max": 10,
            "_view_module": "@jupyter-widgets/controls",
            "_model_module_version": "1.5.0",
            "value": 4.7,
            "_view_count": null,
            "disabled": false,
            "_view_module_version": "1.5.0",
            "min": 0.5,
            "continuous_update": true,
            "readout_format": ".2f",
            "description_tooltip": null,
            "readout": true,
            "_model_module": "@jupyter-widgets/controls",
            "layout": "IPY_MODEL_db673ca207c84cfbb69349d1021fd79e"
          }
        },
        "d4efdee302934da79403ffe18252a5f1": {
          "model_module": "@jupyter-widgets/output",
          "model_name": "OutputModel",
          "state": {
            "_view_name": "OutputView",
            "msg_id": "",
            "_dom_classes": [],
            "_model_name": "OutputModel",
            "outputs": [
              {
                "output_type": "display_data",
                "metadata": {
                  "tags": [],
                  "needs_background": "light"
                },
                "image/png": "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\n",
                "text/plain": "<Figure size 432x288 with 1 Axes>"
              }
            ],
            "_view_module": "@jupyter-widgets/output",
            "_model_module_version": "1.0.0",
            "_view_count": null,
            "_view_module_version": "1.0.0",
            "layout": "IPY_MODEL_e2f779d09ad24342b546ed41458a8cb7",
            "_model_module": "@jupyter-widgets/output"
          }
        },
        "a1fbe8051be34e9ea564051d8b6be67f": {
          "model_module": "@jupyter-widgets/controls",
          "model_name": "SliderStyleModel",
          "state": {
            "_view_name": "StyleView",
            "handle_color": null,
            "_model_name": "SliderStyleModel",
            "description_width": "initial",
            "_view_module": "@jupyter-widgets/base",
            "_model_module_version": "1.5.0",
            "_view_count": null,
            "_view_module_version": "1.2.0",
            "_model_module": "@jupyter-widgets/controls"
          }
        },
        "971a893d9bff491caa49e6912432f803": {
          "model_module": "@jupyter-widgets/base",
          "model_name": "LayoutModel",
          "state": {
            "_view_name": "LayoutView",
            "grid_template_rows": null,
            "right": null,
            "justify_content": null,
            "_view_module": "@jupyter-widgets/base",
            "overflow": null,
            "_model_module_version": "1.2.0",
            "_view_count": null,
            "flex_flow": null,
            "width": null,
            "min_width": null,
            "border": null,
            "align_items": null,
            "bottom": null,
            "_model_module": "@jupyter-widgets/base",
            "top": null,
            "grid_column": null,
            "overflow_y": null,
            "overflow_x": null,
            "grid_auto_flow": null,
            "grid_area": null,
            "grid_template_columns": null,
            "flex": null,
            "_model_name": "LayoutModel",
            "justify_items": null,
            "grid_row": null,
            "max_height": null,
            "align_content": null,
            "visibility": null,
            "align_self": null,
            "height": null,
            "min_height": null,
            "padding": null,
            "grid_auto_rows": null,
            "grid_gap": null,
            "max_width": null,
            "order": null,
            "_view_module_version": "1.2.0",
            "grid_template_areas": null,
            "object_position": null,
            "object_fit": null,
            "grid_auto_columns": null,
            "margin": null,
            "display": null,
            "left": null
          }
        },
        "ca9cdf8ff0cd4af3a3ffaf10252f9fa9": {
          "model_module": "@jupyter-widgets/controls",
          "model_name": "SliderStyleModel",
          "state": {
            "_view_name": "StyleView",
            "handle_color": null,
            "_model_name": "SliderStyleModel",
            "description_width": "initial",
            "_view_module": "@jupyter-widgets/base",
            "_model_module_version": "1.5.0",
            "_view_count": null,
            "_view_module_version": "1.2.0",
            "_model_module": "@jupyter-widgets/controls"
          }
        },
        "db673ca207c84cfbb69349d1021fd79e": {
          "model_module": "@jupyter-widgets/base",
          "model_name": "LayoutModel",
          "state": {
            "_view_name": "LayoutView",
            "grid_template_rows": null,
            "right": null,
            "justify_content": null,
            "_view_module": "@jupyter-widgets/base",
            "overflow": null,
            "_model_module_version": "1.2.0",
            "_view_count": null,
            "flex_flow": null,
            "width": null,
            "min_width": null,
            "border": null,
            "align_items": null,
            "bottom": null,
            "_model_module": "@jupyter-widgets/base",
            "top": null,
            "grid_column": null,
            "overflow_y": null,
            "overflow_x": null,
            "grid_auto_flow": null,
            "grid_area": null,
            "grid_template_columns": null,
            "flex": null,
            "_model_name": "LayoutModel",
            "justify_items": null,
            "grid_row": null,
            "max_height": null,
            "align_content": null,
            "visibility": null,
            "align_self": null,
            "height": null,
            "min_height": null,
            "padding": null,
            "grid_auto_rows": null,
            "grid_gap": null,
            "max_width": null,
            "order": null,
            "_view_module_version": "1.2.0",
            "grid_template_areas": null,
            "object_position": null,
            "object_fit": null,
            "grid_auto_columns": null,
            "margin": null,
            "display": null,
            "left": null
          }
        },
        "e2f779d09ad24342b546ed41458a8cb7": {
          "model_module": "@jupyter-widgets/base",
          "model_name": "LayoutModel",
          "state": {
            "_view_name": "LayoutView",
            "grid_template_rows": null,
            "right": null,
            "justify_content": null,
            "_view_module": "@jupyter-widgets/base",
            "overflow": null,
            "_model_module_version": "1.2.0",
            "_view_count": null,
            "flex_flow": null,
            "width": null,
            "min_width": null,
            "border": null,
            "align_items": null,
            "bottom": null,
            "_model_module": "@jupyter-widgets/base",
            "top": null,
            "grid_column": null,
            "overflow_y": null,
            "overflow_x": null,
            "grid_auto_flow": null,
            "grid_area": null,
            "grid_template_columns": null,
            "flex": null,
            "_model_name": "LayoutModel",
            "justify_items": null,
            "grid_row": null,
            "max_height": null,
            "align_content": null,
            "visibility": null,
            "align_self": null,
            "height": null,
            "min_height": null,
            "padding": null,
            "grid_auto_rows": null,
            "grid_gap": null,
            "max_width": null,
            "order": null,
            "_view_module_version": "1.2.0",
            "grid_template_areas": null,
            "object_position": null,
            "object_fit": null,
            "grid_auto_columns": null,
            "margin": null,
            "display": null,
            "left": null
          }
        },
        "a055ca5776a946c088e98a65d29cc6a7": {
          "model_module": "@jupyter-widgets/controls",
          "model_name": "VBoxModel",
          "state": {
            "_view_name": "VBoxView",
            "_dom_classes": [
              "widget-interact"
            ],
            "_model_name": "VBoxModel",
            "_view_module": "@jupyter-widgets/controls",
            "_model_module_version": "1.5.0",
            "_view_count": null,
            "_view_module_version": "1.5.0",
            "box_style": "",
            "layout": "IPY_MODEL_0d9a64920a51430fa656c4408f4a0ae4",
            "_model_module": "@jupyter-widgets/controls",
            "children": [
              "IPY_MODEL_14600678e3d2405b9a9a487d82fe29e3",
              "IPY_MODEL_641474ff03a44246a0b7e74006a07b9a",
              "IPY_MODEL_8dadfcb2e1254b3b8de66d666f5b805d",
              "IPY_MODEL_58936f80e2ac4dda90e42a94cb844832"
            ]
          }
        },
        "0d9a64920a51430fa656c4408f4a0ae4": {
          "model_module": "@jupyter-widgets/base",
          "model_name": "LayoutModel",
          "state": {
            "_view_name": "LayoutView",
            "grid_template_rows": null,
            "right": null,
            "justify_content": null,
            "_view_module": "@jupyter-widgets/base",
            "overflow": null,
            "_model_module_version": "1.2.0",
            "_view_count": null,
            "flex_flow": null,
            "width": null,
            "min_width": null,
            "border": null,
            "align_items": null,
            "bottom": null,
            "_model_module": "@jupyter-widgets/base",
            "top": null,
            "grid_column": null,
            "overflow_y": null,
            "overflow_x": null,
            "grid_auto_flow": null,
            "grid_area": null,
            "grid_template_columns": null,
            "flex": null,
            "_model_name": "LayoutModel",
            "justify_items": null,
            "grid_row": null,
            "max_height": null,
            "align_content": null,
            "visibility": null,
            "align_self": null,
            "height": null,
            "min_height": null,
            "padding": null,
            "grid_auto_rows": null,
            "grid_gap": null,
            "max_width": null,
            "order": null,
            "_view_module_version": "1.2.0",
            "grid_template_areas": null,
            "object_position": null,
            "object_fit": null,
            "grid_auto_columns": null,
            "margin": null,
            "display": null,
            "left": null
          }
        },
        "14600678e3d2405b9a9a487d82fe29e3": {
          "model_module": "@jupyter-widgets/controls",
          "model_name": "FloatSliderModel",
          "state": {
            "_view_name": "FloatSliderView",
            "style": "IPY_MODEL_67015ada684944e09d8afd9c6dd5d7f8",
            "_dom_classes": [],
            "description": "sigma",
            "step": 0.05,
            "_model_name": "FloatSliderModel",
            "orientation": "horizontal",
            "max": 10,
            "_view_module": "@jupyter-widgets/controls",
            "_model_module_version": "1.5.0",
            "value": 5,
            "_view_count": null,
            "disabled": false,
            "_view_module_version": "1.5.0",
            "min": 0.05,
            "continuous_update": true,
            "readout_format": ".2f",
            "description_tooltip": null,
            "readout": true,
            "_model_module": "@jupyter-widgets/controls",
            "layout": "IPY_MODEL_969870c92876499e86525116354478f3"
          }
        },
        "641474ff03a44246a0b7e74006a07b9a": {
          "model_module": "@jupyter-widgets/controls",
          "model_name": "IntSliderModel",
          "state": {
            "_view_name": "IntSliderView",
            "style": "IPY_MODEL_7271f66b50584b97b7b9301fdc412e6a",
            "_dom_classes": [],
            "description": "stop_time",
            "step": 5,
            "_model_name": "IntSliderModel",
            "orientation": "horizontal",
            "max": 500,
            "_view_module": "@jupyter-widgets/controls",
            "_model_module_version": "1.5.0",
            "value": 425,
            "_view_count": null,
            "disabled": false,
            "_view_module_version": "1.5.0",
            "min": 5,
            "continuous_update": true,
            "readout_format": "d",
            "description_tooltip": null,
            "readout": true,
            "_model_module": "@jupyter-widgets/controls",
            "layout": "IPY_MODEL_f83369b1fa484c66b0f599ed89f5ea99"
          }
        },
        "8dadfcb2e1254b3b8de66d666f5b805d": {
          "model_module": "@jupyter-widgets/controls",
          "model_name": "DropdownModel",
          "state": {
            "_options_labels": [
              "0",
              "1"
            ],
            "_view_name": "DropdownView",
            "style": "IPY_MODEL_b45022084cc044d48b24c8edcb377694",
            "_dom_classes": [],
            "description": "true_dist",
            "_model_name": "DropdownModel",
            "index": 1,
            "_view_module": "@jupyter-widgets/controls",
            "_model_module_version": "1.5.0",
            "_view_count": null,
            "disabled": false,
            "_view_module_version": "1.5.0",
            "description_tooltip": null,
            "_model_module": "@jupyter-widgets/controls",
            "layout": "IPY_MODEL_e8e8852da2124327a3f2965ff507dce9"
          }
        },
        "58936f80e2ac4dda90e42a94cb844832": {
          "model_module": "@jupyter-widgets/output",
          "model_name": "OutputModel",
          "state": {
            "_view_name": "OutputView",
            "msg_id": "",
            "_dom_classes": [],
            "_model_name": "OutputModel",
            "outputs": [
              {
                "output_type": "display_data",
                "metadata": {
                  "tags": [],
                  "needs_background": "light"
                },
                "image/png": "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\n",
                "text/plain": "<Figure size 432x288 with 1 Axes>"
              }
            ],
            "_view_module": "@jupyter-widgets/output",
            "_model_module_version": "1.0.0",
            "_view_count": null,
            "_view_module_version": "1.0.0",
            "layout": "IPY_MODEL_a6057e6e18b04105932e806f5c960995",
            "_model_module": "@jupyter-widgets/output"
          }
        },
        "67015ada684944e09d8afd9c6dd5d7f8": {
          "model_module": "@jupyter-widgets/controls",
          "model_name": "SliderStyleModel",
          "state": {
            "_view_name": "StyleView",
            "handle_color": null,
            "_model_name": "SliderStyleModel",
            "description_width": "",
            "_view_module": "@jupyter-widgets/base",
            "_model_module_version": "1.5.0",
            "_view_count": null,
            "_view_module_version": "1.2.0",
            "_model_module": "@jupyter-widgets/controls"
          }
        },
        "969870c92876499e86525116354478f3": {
          "model_module": "@jupyter-widgets/base",
          "model_name": "LayoutModel",
          "state": {
            "_view_name": "LayoutView",
            "grid_template_rows": null,
            "right": null,
            "justify_content": null,
            "_view_module": "@jupyter-widgets/base",
            "overflow": null,
            "_model_module_version": "1.2.0",
            "_view_count": null,
            "flex_flow": null,
            "width": null,
            "min_width": null,
            "border": null,
            "align_items": null,
            "bottom": null,
            "_model_module": "@jupyter-widgets/base",
            "top": null,
            "grid_column": null,
            "overflow_y": null,
            "overflow_x": null,
            "grid_auto_flow": null,
            "grid_area": null,
            "grid_template_columns": null,
            "flex": null,
            "_model_name": "LayoutModel",
            "justify_items": null,
            "grid_row": null,
            "max_height": null,
            "align_content": null,
            "visibility": null,
            "align_self": null,
            "height": null,
            "min_height": null,
            "padding": null,
            "grid_auto_rows": null,
            "grid_gap": null,
            "max_width": null,
            "order": null,
            "_view_module_version": "1.2.0",
            "grid_template_areas": null,
            "object_position": null,
            "object_fit": null,
            "grid_auto_columns": null,
            "margin": null,
            "display": null,
            "left": null
          }
        },
        "7271f66b50584b97b7b9301fdc412e6a": {
          "model_module": "@jupyter-widgets/controls",
          "model_name": "SliderStyleModel",
          "state": {
            "_view_name": "StyleView",
            "handle_color": null,
            "_model_name": "SliderStyleModel",
            "description_width": "",
            "_view_module": "@jupyter-widgets/base",
            "_model_module_version": "1.5.0",
            "_view_count": null,
            "_view_module_version": "1.2.0",
            "_model_module": "@jupyter-widgets/controls"
          }
        },
        "f83369b1fa484c66b0f599ed89f5ea99": {
          "model_module": "@jupyter-widgets/base",
          "model_name": "LayoutModel",
          "state": {
            "_view_name": "LayoutView",
            "grid_template_rows": null,
            "right": null,
            "justify_content": null,
            "_view_module": "@jupyter-widgets/base",
            "overflow": null,
            "_model_module_version": "1.2.0",
            "_view_count": null,
            "flex_flow": null,
            "width": null,
            "min_width": null,
            "border": null,
            "align_items": null,
            "bottom": null,
            "_model_module": "@jupyter-widgets/base",
            "top": null,
            "grid_column": null,
            "overflow_y": null,
            "overflow_x": null,
            "grid_auto_flow": null,
            "grid_area": null,
            "grid_template_columns": null,
            "flex": null,
            "_model_name": "LayoutModel",
            "justify_items": null,
            "grid_row": null,
            "max_height": null,
            "align_content": null,
            "visibility": null,
            "align_self": null,
            "height": null,
            "min_height": null,
            "padding": null,
            "grid_auto_rows": null,
            "grid_gap": null,
            "max_width": null,
            "order": null,
            "_view_module_version": "1.2.0",
            "grid_template_areas": null,
            "object_position": null,
            "object_fit": null,
            "grid_auto_columns": null,
            "margin": null,
            "display": null,
            "left": null
          }
        },
        "b45022084cc044d48b24c8edcb377694": {
          "model_module": "@jupyter-widgets/controls",
          "model_name": "DescriptionStyleModel",
          "state": {
            "_view_name": "StyleView",
            "_model_name": "DescriptionStyleModel",
            "description_width": "",
            "_view_module": "@jupyter-widgets/base",
            "_model_module_version": "1.5.0",
            "_view_count": null,
            "_view_module_version": "1.2.0",
            "_model_module": "@jupyter-widgets/controls"
          }
        },
        "e8e8852da2124327a3f2965ff507dce9": {
          "model_module": "@jupyter-widgets/base",
          "model_name": "LayoutModel",
          "state": {
            "_view_name": "LayoutView",
            "grid_template_rows": null,
            "right": null,
            "justify_content": null,
            "_view_module": "@jupyter-widgets/base",
            "overflow": null,
            "_model_module_version": "1.2.0",
            "_view_count": null,
            "flex_flow": null,
            "width": null,
            "min_width": null,
            "border": null,
            "align_items": null,
            "bottom": null,
            "_model_module": "@jupyter-widgets/base",
            "top": null,
            "grid_column": null,
            "overflow_y": null,
            "overflow_x": null,
            "grid_auto_flow": null,
            "grid_area": null,
            "grid_template_columns": null,
            "flex": null,
            "_model_name": "LayoutModel",
            "justify_items": null,
            "grid_row": null,
            "max_height": null,
            "align_content": null,
            "visibility": null,
            "align_self": null,
            "height": null,
            "min_height": null,
            "padding": null,
            "grid_auto_rows": null,
            "grid_gap": null,
            "max_width": null,
            "order": null,
            "_view_module_version": "1.2.0",
            "grid_template_areas": null,
            "object_position": null,
            "object_fit": null,
            "grid_auto_columns": null,
            "margin": null,
            "display": null,
            "left": null
          }
        },
        "a6057e6e18b04105932e806f5c960995": {
          "model_module": "@jupyter-widgets/base",
          "model_name": "LayoutModel",
          "state": {
            "_view_name": "LayoutView",
            "grid_template_rows": null,
            "right": null,
            "justify_content": null,
            "_view_module": "@jupyter-widgets/base",
            "overflow": null,
            "_model_module_version": "1.2.0",
            "_view_count": null,
            "flex_flow": null,
            "width": null,
            "min_width": null,
            "border": null,
            "align_items": null,
            "bottom": null,
            "_model_module": "@jupyter-widgets/base",
            "top": null,
            "grid_column": null,
            "overflow_y": null,
            "overflow_x": null,
            "grid_auto_flow": null,
            "grid_area": null,
            "grid_template_columns": null,
            "flex": null,
            "_model_name": "LayoutModel",
            "justify_items": null,
            "grid_row": null,
            "max_height": null,
            "align_content": null,
            "visibility": null,
            "align_self": null,
            "height": null,
            "min_height": null,
            "padding": null,
            "grid_auto_rows": null,
            "grid_gap": null,
            "max_width": null,
            "order": null,
            "_view_module_version": "1.2.0",
            "grid_template_areas": null,
            "object_position": null,
            "object_fit": null,
            "grid_auto_columns": null,
            "margin": null,
            "display": null,
            "left": null
          }
        }
      }
    }
  },
  "cells": [
    {
      "cell_type": "markdown",
      "metadata": {
        "id": "UKmvg4dBQvTT",
        "colab_type": "text"
      },
      "source": [
        "# LGBIO2060 - Exercise session 1\n",
        "# Sequential probability ratio test and urgency gating\n",
        "\n",
        "After this first tutorial, you should be able to understand and explain the likelihood function as well as the drift diffusion model. You should also be able to implement the DDM and to discuss the different stopping criteria as well as a the speed accuracy tradeoff."
      ]
    },
    {
      "cell_type": "markdown",
      "metadata": {
        "id": "JFUQpn3td9Zk",
        "colab_type": "text"
      },
      "source": [
        "## Imports and helper functions\n",
        "**Please execute the cell(s) below to initialize the notebook environment.**"
      ]
    },
    {
      "cell_type": "code",
      "metadata": {
        "id": "tg1WKjlfQuXF",
        "colab_type": "code",
        "cellView": "both",
        "colab": {}
      },
      "source": [
        "#Import the libraries \n",
        "import numpy as np #for the math stuff\n",
        "import matplotlib.pyplot as plt #for the plot handling\n",
        "from scipy.stats import norm\n"
      ],
      "execution_count": 2,
      "outputs": []
    },
    {
      "cell_type": "code",
      "metadata": {
        "id": "I_77qbA4d2Ee",
        "colab_type": "code",
        "colab": {}
      },
      "source": [
        "def plot_my_gaussian(x,px):\n",
        "  \"\"\"\n",
        "  This function plots a Gaussian distribution\n",
        "\n",
        "  Inputs : x (numpy array) along which we want to represent the distribution\n",
        "           px(numpy array) values taken by the distribution\n",
        "  \"\"\"\n",
        "\n",
        "  fig, ax=plt.subplots()\n",
        "  ax.plot(x,px,'C1',LineWidth=2,label='Estimated state')\n",
        "  ax.axvline(x[px.argmax()],label='Latent state')\n",
        "  ax.legend()\n",
        "  ax.set_ylabel('Probability')\n",
        "  ax.set_xlabel('Value')\n",
        "\n",
        "  return ax"
      ],
      "execution_count": 3,
      "outputs": []
    },
    {
      "cell_type": "markdown",
      "metadata": {
        "id": "QiIIrg38RKLh",
        "colab_type": "text"
      },
      "source": [
        "___\n",
        "# Part 1 : Gaussian distribution - Inferring the world through sensory input\n",
        "\n",
        "*Click [here](https://github.com/fblondiaux/LGBIO2060-2020/blob/master/WorkFromHomeText/TP1-Part1.txt) for more context*.\n",
        "\n",
        "\n",
        "We want to observe a latent state (ie. the real state that we cannot exactly know) through our senses that are noisy. Therefore, this latent state will be observed through some noise. We will assume that the observed state can be modelled by a Gaussian distribution whose mean is the real value of the latent state (unknown) and whose variance characterises the amount of noise present in the sensory system. We can therefore write that the observation $y$ follows a Gaussian distribution of mean $\\mu$ and standard deviation $\\sigma$ :\n",
        "\n",
        "\\\\\n",
        "\n",
        "$$\n",
        "y\\sim\\mathcal{N}\\left(\\mu,\\, \\sigma^2\\right)\n",
        "$$\n",
        "\n",
        "\\\\\n",
        "\n",
        "\n",
        "As a reminder, a Gaussian distribution is characterised by the following probability density function : \\\\\n",
        "\n",
        "\n",
        "$$\\mathcal{N}\\left(\\mu,\\sigma^2\\right) = \\frac{1}{\\sqrt{2\\pi \\sigma^2}}\\exp\\left(\\frac{-\\left(x-\\mu\\right)^2}{2\\sigma^2}\\right)$$\n",
        "\n",
        "**Exercise 1**\n",
        "\n",
        "Implement a function that generates a gaussian distribution given its parameters and the domain where it will be evaluated, $x_{vector}$\n"
      ]
    },
    {
      "cell_type": "code",
      "metadata": {
        "id": "gVyupXhkUqc-",
        "colab_type": "code",
        "colab": {
          "base_uri": "https://localhost:8080/",
          "height": 297
        },
        "outputId": "8c8e6dc4-3cb3-45aa-b5ba-529b88f0c0a1"
      },
      "source": [
        "def my_gaussian(x_vector,mu,sigma):\n",
        "  \"\"\"\n",
        "  Author: Antoine de Comite \n",
        "  This function computes the gaussian distribution characterised by mu & sigma on the set x_vector\n",
        "  \n",
        "  Inputs : x_vector (numpy array) the set over which you want to compute the gaussian distribution\n",
        "           mu (double) mean value of the gaussian distribution\n",
        "           sigma (double) standard deviation of the gaussian distribution\n",
        "  Outputs: px (numpy array) is the gaussian distribution evaluated over x_vector\n",
        "  \"\"\"\n",
        "  \n",
        "  px = 1/(np.sqrt(2*np.pi*sigma**2)) *np.exp((-(x_vector-mu)**2)/(2*sigma**2))\n",
        "  return px\n",
        "\n",
        "# Test your function on a gaussian of mean 0, variance 1 that you compute over\n",
        "# the set [-5,5]. Create a graphical representation of your distribution\n",
        "\n",
        "x_vector = np.arange(-5,5,0.1)\n",
        "mu = 0\n",
        "sigma = 1 \n",
        "px = my_gaussian(x_vector,mu,sigma)\n",
        "\n",
        "fig, ax = plt.subplots()\n",
        "ax.plot(x_vector,px,'C1')\n",
        "ax.set_ylabel('Probability')\n",
        "ax.set_xlabel('Position')"
      ],
      "execution_count": 4,
      "outputs": [
        {
          "output_type": "execute_result",
          "data": {
            "text/plain": [
              "Text(0.5, 0, 'Position')"
            ]
          },
          "metadata": {
            "tags": []
          },
          "execution_count": 4
        },
        {
          "output_type": "display_data",
          "data": {
            "image/png": "[encoded data removed]",
            "text/plain": [
              "<Figure size 432x288 with 1 Axes>"
            ]
          },
          "metadata": {
            "tags": [],
            "needs_background": "light"
          }
        }
      ]
    },
    {
      "cell_type": "markdown",
      "metadata": {
        "id": "kiPj-_jnXp3D",
        "colab_type": "text"
      },
      "source": [
        "Click [here](https://github.com/fblondiaux/LGBIO2060-2020/blob/master/Solutions/Exercise1Solution) for solution.\n",
        "\n",
        "*Example output:*\n",
        "\n",
        "\n",
        "<img alt='Solution hint' align='left' width=413 height=300 src=https://raw.githubusercontent.com/fblondiaux/LGBIO2060-2020/master/Solutions/TP1_Ex1.png>"
      ]
    },
    {
      "cell_type": "markdown",
      "metadata": {
        "id": "XKKrdnaEggOB",
        "colab_type": "text"
      },
      "source": [
        "\n",
        "Use the widget herebelow to investigate the impact of the mean and standard deviation on the shape of the gaussian distribution (be patient, the widget updates every few seconds). \n",
        "Your function of exercise 1 should be working for this widget to work.\n",
        "\n",
        "\n",
        "**Make sure to execute the cell before playing with the widget**"
      ]
    },
    {
      "cell_type": "code",
      "metadata": {
        "id": "x7NLOnUlsCTF",
        "colab_type": "code",
        "colab": {
          "base_uri": "https://localhost:8080/",
          "height": 343,
          "referenced_widgets": [
            "2dcde48eb2424706bd1ee40e277f5730",
            "a5960de397a54d41a56892f063a714d0",
            "a12328bc805b433e890e24801385be20",
            "c1909a9f929c4006aab01385d2fe1605",
            "d4efdee302934da79403ffe18252a5f1",
            "a1fbe8051be34e9ea564051d8b6be67f",
            "971a893d9bff491caa49e6912432f803",
            "ca9cdf8ff0cd4af3a3ffaf10252f9fa9",
            "db673ca207c84cfbb69349d1021fd79e",
            "e2f779d09ad24342b546ed41458a8cb7"
          ]
        },
        "outputId": "9fa3de4f-19f2-4837-fe31-ec005ceb724c"
      },
      "source": [
        "#@title\n",
        "\n",
        "x = np.arange(-10,11,0.1)\n",
        "\n",
        "import ipywidgets as widgets\n",
        "\n",
        "def refresh(mu=1,sigma=1):\n",
        "  gaussian = my_gaussian(x,mu,sigma)\n",
        "\n",
        "  ax = plot_my_gaussian(x,gaussian)\n",
        "  plt.show()\n",
        "\n",
        "style = {'description_width' : 'initial'}\n",
        "\n",
        "_ = widgets.interact(refresh,\n",
        "    mu = widgets.FloatSlider(value=2, min=-7, max=7, steps=0.5, description=\"mu:\", style = style),\n",
        "    sigma = widgets.FloatSlider(value=0.5, min=0.5, max=10, steps=0.5, description=\"sigma\",style=style),\n",
        ")"
      ],
      "execution_count": 5,
      "outputs": [
        {
          "output_type": "display_data",
          "data": {
            "application/vnd.jupyter.widget-view+json": {
              "model_id": "2dcde48eb2424706bd1ee40e277f5730",
              "version_minor": 0,
              "version_major": 2
            },
            "text/plain": [
              "interactive(children=(FloatSlider(value=2.0, description='mu:', max=7.0, min=-7.0, style=SliderStyle(descripti…"
            ]
          },
          "metadata": {
            "tags": []
          }
        }
      ]
    },
    {
      "cell_type": "markdown",
      "metadata": {
        "id": "hIcFqEROimqK",
        "colab_type": "text"
      },
      "source": [
        "**Summary**\n",
        "\n",
        "The gaussian distribution can be very useful in many situations and fields. In this tutorial, it is used to model the noise present in our sensory inputs. Therefore, the observations of our environment that we make are drawn from a Gaussian distribution that characterizes our sensory inputs. This variability we observe in the way we infer the external world is also present in nature. Indeed, there is much variability in the of size of living tissue (length, height, skin area, weight), the length of inert appendages (hair, claws, nails, teeth), in the behaviour of animals and humans...\n",
        "\n",
        "Let's see how we can deal with this variability to perform decision making ! \n",
        "\n",
        "\n",
        "---"
      ]
    },
    {
      "cell_type": "markdown",
      "metadata": {
        "id": "FNA_YTl5Xx8U",
        "colab_type": "text"
      },
      "source": [
        "# Part 2 : Sequential probability ratio test (SPRT) - Decision making\n",
        "\n",
        "*Click [here](https://github.com/fblondiaux/LGBIO2060-2020/blob/master/WorkFromHomeText/TPLGBIO2060.pdf) for more explanations*\n",
        "\n",
        "Let us consider a toy experiment. On each trial $i$, the subject is shown a dot moving on a screen. The horizontal velocity, $v_i$, is generated by a probability distribution, which we know to be either: \n",
        "\n",
        "\n",
        "$$\n",
        "\\\\\n",
        "\\begin{eqnarray}\n",
        "p_L &=& \\mathcal{N}\\left(-1,\\sigma^2\\right)\\\\\n",
        "&& \\textrm{or}\\\\\n",
        "p_R &=& \\mathcal{N}\\left(+1,\\sigma^2\\right)\\\\\n",
        "\\end{eqnarray}\n",
        "$$\n",
        "\n",
        "By looking at a large number of dots (so by doing the experiment for a long time), we want to determine which distribution amongst $p_L$ and $p_R$ is the true data generating one. The decision process is based on the time-evolution of the log likelihood ratio between these two hypotheses. \n",
        "For both alternatives, we will define the likelihood function that will quantify how probable it is that the data point $x_i$ comes from a each distribution. For a given occurence of the point $x_i$, the two likelihood functions will be defined by $p_L\\left(x_i|z=0\\right)$ and $p_R\\left(x_i|z=1\\right)$, which are two gaussian distributions and where $z$ is a binary variable used to identify which distribution is the true one.\n",
        "\n",
        "\n",
        "Using the following gaussian observations models for the two alternative distributions\n",
        "\n",
        "$$\\begin{eqnarray}\n",
        "p_L\\left(x|z=0\\right) & = & \\mathcal{N}\\left(\\mu_L,\\sigma_L^2\\right)\\\\\n",
        "p_R\\left(x|z=1\\right) & = & \\mathcal{N}\\left(\\mu_R,\\sigma_R^2\\right)\\\\\n",
        "\\end{eqnarray}\n",
        "$$\n",
        "\n",
        "and the definition of the log-likelihood ratio $\\Lambda_i = \\dfrac{\\log\\left(p_L\\right)}{\\log\\left(p_R\\right)}$\n",
        "\n",
        "**Compute the expression of $\\Lambda_i$, the log-likelihood ratio at iteration $i$** \n",
        "\n",
        "Click [here](https://github.com/fblondiaux/LGBIO2060-2020/blob/master/Solutions/Tuto1SolLikelihood) for solution\n",
        "\n",
        "\n",
        "Using the expression of the log-likelihood ratio you just computed, implement the function *compute_SPRT_fixedtime* whose signature is given below. This function implements the drift diffusion model. \n"
      ]
    },
    {
      "cell_type": "code",
      "metadata": {
        "id": "4Nuwv7vf6uIZ",
        "colab_type": "code",
        "colab": {
          "base_uri": "https://localhost:8080/",
          "height": 279
        },
        "outputId": "ad6bff2e-fa5c-4d6b-df7e-10172abfd74f"
      },
      "source": [
        "def compute_SPRT_fixedtime(sigma,true_dist,stopTime):\n",
        "    \"\"\"\n",
        "    This function performs the sequential probability ratio test using the fixed time stopping criterion\n",
        "    Authors : Florence Blondiaux & Antoine de Comite \n",
        "\n",
        "    Inputs :  sigma (float) is the standard deviation of both distribution\n",
        "              true_dist (int) is the true distribution 0 or 1\n",
        "              stopTime (int) number of samples to take before stopping\n",
        "    Output : evidence_history (numpy vector) containing the history of evidence\n",
        "            decision (integer) 0 or 1 depending on the most probable decision at the end of trial\n",
        "    \"\"\"\n",
        "\n",
        "    ##########################\n",
        "    ##### Your code here #####\n",
        "    ##########################\n",
        "    muL = -1.0; muR = 1.0\n",
        "   \n",
        "    # Generate a random sequence of data\n",
        "    pL = norm(loc=muL,scale=sigma)\n",
        "    pR = norm(loc=muR,scale=sigma)\n",
        "    if true_dist == 1:\n",
        "      data = pR.rvs(size=stopTime)\n",
        "    else:\n",
        "      data = pL.rvs(size=stopTime)\n",
        "\n",
        "    evidence_history = []\n",
        "    current_evidence = 0.0\n",
        "    for i in range(stopTime):\n",
        "        ll_ratio = np.log(sigma/sigma) + 0.5*(data[i]-muL)**2/(sigma**2) - 0.5*(data[i]-muR)**2/(sigma**2)\n",
        "        evidence_history.append(ll_ratio+current_evidence)\n",
        "        current_evidence = evidence_history[-1]\n",
        "    evidence_history = np.array(evidence_history)\n",
        "    if evidence_history[-1]>0:\n",
        "        decision = 1\n",
        "    elif evidence_history[-1]<0:\n",
        "        decision = 0\n",
        "    else:\n",
        "        decision = np.random.randint(2)\n",
        "    return evidence_history,decision\n",
        "\n",
        "\n",
        "\n"
      ],
      "execution_count": 6,
      "outputs": [
        {
          "output_type": "display_data",
          "data": {
            "image/png": "[encoded data removed]",
            "text/plain": [
              "<Figure size 432x288 with 1 Axes>"
            ]
          },
          "metadata": {
            "tags": [],
            "needs_background": "light"
          }
        }
      ]
    },
    {
      "cell_type": "code",
      "metadata": {
        "id": "S1LyE2XtOppG",
        "colab_type": "code",
        "colab": {}
      },
      "source": [
        "# Simulate 10 trials and plot their evidence history.\n",
        "# For the example of solution, the true distribution was pR and sigma was set to 3.5\n",
        "\n",
        "\n",
        "def simulate_and_plot_SPRT_fixedtime(nb_trials, sigma=3.5, true_dist = 1,stopTime = 150 ):\n",
        "    '''\n",
        "    Simulate and plot a SPRT for a fixed amount of time given a std.\n",
        "    Authors : Florence Blondiaux & Antoine de Comite \n",
        "    Input: nb_trials: Number of simulations to run per stopping time\n",
        "          sigma (float) is the standard deviation of both distribution\n",
        "          true_dist (int) is the true distribution 0 or 1\n",
        "          stopTime (int) number of samples to take before stopping\n",
        "\n",
        "    '''\n",
        "    ##########################\n",
        "    ##### Your code here #####\n",
        "    ##########################\n",
        "\n",
        "np.random.seed(100) \n",
        "simulate_and_plot_SPRT_fixedtime(10)"
      ],
      "execution_count": null,
      "outputs": []
    },
    {
      "cell_type": "markdown",
      "metadata": {
        "id": "dGHamr24rhJj",
        "colab_type": "text"
      },
      "source": [
        "Click [here](https://github.com/fblondiaux/LGBIO2060-2020/blob/master/Solutions/Exercise2Solution) for solution\n",
        "\n",
        "*Example output:*\n",
        "\n",
        "<img alt='Solution hint' align='left' width=573 height=416 src=https://raw.githubusercontent.com/fblondiaux/LGBIO2060-2020/master/Solutions/TP1_Ex2.png>\n"
      ]
    },
    {
      "cell_type": "markdown",
      "metadata": {
        "id": "GWP8oQgDKhF8",
        "colab_type": "text"
      },
      "source": [
        "Explore different values for *sigma* and *stop_time* using the following widget.\n",
        "\n",
        "**Make sure to execute this cell to enable the widget**"
      ]
    },
    {
      "cell_type": "code",
      "metadata": {
        "id": "dyObW5eIEdFI",
        "colab_type": "code",
        "cellView": "both",
        "colab": {
          "base_uri": "https://localhost:8080/",
          "height": 375,
          "referenced_widgets": [
            "a055ca5776a946c088e98a65d29cc6a7",
            "0d9a64920a51430fa656c4408f4a0ae4",
            "14600678e3d2405b9a9a487d82fe29e3",
            "641474ff03a44246a0b7e74006a07b9a",
            "8dadfcb2e1254b3b8de66d666f5b805d",
            "58936f80e2ac4dda90e42a94cb844832",
            "67015ada684944e09d8afd9c6dd5d7f8",
            "969870c92876499e86525116354478f3",
            "7271f66b50584b97b7b9301fdc412e6a",
            "f83369b1fa484c66b0f599ed89f5ea99",
            "b45022084cc044d48b24c8edcb377694",
            "e8e8852da2124327a3f2965ff507dce9",
            "a6057e6e18b04105932e806f5c960995"
          ]
        },
        "outputId": "9924487a-11ca-4229-a4d7-a4a1b4ad8433"
      },
      "source": [
        "#@title\n",
        "np.random.seed(100)\n",
        "num_sample = 10\n",
        "\n",
        "@widgets.interact\n",
        "def plot(sigma=(0.05, 10.0, 0.05), stop_time=(5, 500, 5),true_dist= [0,1]):\n",
        "  simulate_and_plot_SPRT_fixedtime(num_sample,sigma,true_dist,stop_time)"
      ],
      "execution_count": 7,
      "outputs": [
        {
          "output_type": "display_data",
          "data": {
            "application/vnd.jupyter.widget-view+json": {
              "model_id": "a055ca5776a946c088e98a65d29cc6a7",
              "version_minor": 0,
              "version_major": 2
            },
            "text/plain": [
              "interactive(children=(FloatSlider(value=5.0, description='sigma', max=10.0, min=0.05, step=0.05), IntSlider(va…"
            ]
          },
          "metadata": {
            "tags": []
          }
        }
      ]
    },
    {
      "cell_type": "markdown",
      "metadata": {
        "id": "MGkl1TpEFydZ",
        "colab_type": "text"
      },
      "source": [
        "\n",
        "\n",
        "In this first example, the decision is made after a given time (that may be very long); this is not always the optimal way to stop the drift diffusion model. In the next section, we will investigate another stopping criterion."
      ]
    },
    {
      "cell_type": "markdown",
      "metadata": {
        "id": "wMFJ27i1YzGs",
        "colab_type": "text"
      },
      "source": [
        "# Part 3 : Drift diffusion model with fixed threshold\n",
        "Click [here](https://github.com/fblondiaux/LGBIO2060-2020/blob/master/WorkFromHomeText/TP1-Part3.txt) for more explanations. \n",
        "\n",
        "\n",
        "The thresholding stopping rule define a desire error rate and will continue making measurements until that error rate is reached. Experimental evidence suggested that evidence accumulation and thresholding stopping strategy happens at neuronal level (see [this article](https://www.annualreviews.org/doi/abs/10.1146/annurev.neuro.29.051605.113038?journalCode=neuro) for further reading). In this exercise, we will use thresholding as our stopping rule and observe the behavior of the DDM. \n",
        "\n",
        "\n",
        "Mathematically speaking, the threshold is defined based on the likelihood ratio that has been computed before. We define the error rate $\\alpha$ that we want to accept. Based on the properties of probability, we can define the following thresholds for our decision making process.\n",
        "\n",
        "$$\n",
        "\\begin{eqnarray}\n",
        "th_L = \\log \\dfrac{\\alpha}{1-\\alpha} & = & -th_R\\\\\n",
        "th_R = \\log \\dfrac{1-\\alpha}{\\alpha} & = & -th_L\n",
        "\\end{eqnarray}\n",
        "$$\n",
        "\n",
        "The drift diffusion process will be stopped as the log-likelihood ratio cross one of these thresholds.\n",
        "\n",
        "Implement the function *threshold_DDM* whose signature is given below :\n",
        "\n"
      ]
    },
    {
      "cell_type": "code",
      "metadata": {
        "id": "PZD1DxQm-Qh1",
        "colab_type": "code",
        "colab": {}
      },
      "source": [
        "def compute_SPRT_threshold(sigma,true_dist,alpha):\n",
        "    \"\"\"\n",
        "    This function performs the sequential probability ratio test using the threshold stopping criterion\n",
        "    Authors : Florence Blondiaux & Antoine de Comite \n",
        "\n",
        "    Inputs :  sigma (float) is the standard deviation of both distribution\n",
        "              true_dist (int) is the true distribution 0 or 1\n",
        "              alpha (int): Desired  error rate that we want to accept.\n",
        "    Output : evidence_history (numpy vector) containing the history of evidence\n",
        "            decision (integer) 0 or 1 depending on the most probable decision at the end of trial\n",
        "    \"\"\"\n",
        "\n",
        "\n",
        "    ##########################\n",
        "    ##### Your code here #####\n",
        "    ##########################\n",
        "    muL = -1.0; muR = 1.0\n",
        "    pL = norm(loc=muL,scale=sigma)\n",
        "    pR = norm(loc=muR,scale=sigma)\n",
        "    evidence_history = []\n",
        "    current_evidence = 0.0\n",
        "    threshold_reached = False\n",
        "    # Definition of the threshold level - Because of the logarithmic fct we can use only the absolute value\n",
        "    threshold = np.log(alpha/(1-alpha))\n",
        "    while not threshold_reached:\n",
        "        if true_dist == 1:\n",
        "            data = pR.rvs()\n",
        "        else:\n",
        "            data = pL.rvs()\n",
        "        ll_ratio = np.log(sigma/sigma) - 0.5*(data-muR)**2/(sigma**2) + 0.5*(data-muL)**2/(sigma**2)\n",
        "        evidence_history.append(ll_ratio+current_evidence)\n",
        "        current_evidence = evidence_history[-1]\n",
        "        if abs(current_evidence)> abs(threshold):\n",
        "            threshold_reached = True\n",
        "\n",
        "\n",
        "    evidence_history = np.array(evidence_history)\n",
        "    if evidence_history[-1]>0:\n",
        "        decision = 1\n",
        "    elif evidence_history[-1]<0:\n",
        "        decision = 0\n",
        "    else:\n",
        "        decision = np.random.randint(2)\n",
        "    \n",
        "    return evidence_history,decision\n",
        "    \n",
        "    return evidence_history,decision"
      ],
      "execution_count": 8,
      "outputs": []
    },
    {
      "cell_type": "code",
      "metadata": {
        "id": "HxT8K5moQRkP",
        "colab_type": "code",
        "colab": {
          "base_uri": "https://localhost:8080/",
          "height": 279
        },
        "outputId": "ea28cdb7-53e6-4137-ffa6-d78717c98a6c"
      },
      "source": [
        "def simulate_and_plot_SPRT_threshold(nb_trials, sigma = 2.9, true_dist = 1, alpha = 1e-3):\n",
        "    '''\n",
        "    Simulate and plot a SPRT for a fixed amount of time given a std.\n",
        "    Authors : Florence Blondiaux & Antoine de Comite \n",
        "    Input: nb_trials: Number of simulations to run\n",
        "           sigma (float) is the standard deviation of both distribution\n",
        "           true_dist (int) is the true distribution 0 or 1\n",
        "           alpha (int): Desired  error rate that we want to accept.\n",
        "    '''\n",
        "\n",
        "    ##########################\n",
        "    ##### Your code here #####\n",
        "    ##########################\n",
        "    for i in range(nb_trials):\n",
        "        evidence, decision = compute_SPRT_threshold(sigma,true_dist,alpha)\n",
        "        plt.plot(evidence)\n",
        "    plt.xlabel(\"Time\")\n",
        "    plt.ylabel(\"Cumulated log likelihood ratio\")\n",
        "    axes = plt.gca()\n",
        "    _, xmax = axes.get_xlim()\n",
        "    threshold = np.log(alpha/(1-alpha))\n",
        "    plt.plot(np.zeros(int(xmax)),\"r--\")\n",
        "    plt.plot(np.zeros(int(xmax))+threshold,\"r\")\n",
        "    plt.plot(np.zeros(int(xmax))-threshold,\"r\")\n",
        "\n",
        "np.random.seed(100) \n",
        "simulate_and_plot_SPRT_threshold(10, sigma = 2.9, true_dist = 1, alpha = 1e-3)"
      ],
      "execution_count": 9,
      "outputs": [
        {
          "output_type": "display_data",
          "data": {
            "image/png": "[encoded data removed]",
            "text/plain": [
              "<Figure size 432x288 with 1 Axes>"
            ]
          },
          "metadata": {
            "tags": [],
            "needs_background": "light"
          }
        }
      ]
    },
    {
      "cell_type": "markdown",
      "metadata": {
        "id": "Porl1QVJBCP2",
        "colab_type": "text"
      },
      "source": [
        "Click [here](https://github.com/fblondiaux/LGBIO2060-2020/blob/master/Solutions/Exercise3Solution) for solution\n",
        "\n",
        "*Example output:*\n",
        "\n",
        "<img alt='Solution hint' align='left' width=573 height=416 src=https://raw.githubusercontent.com/fblondiaux/LGBIO2060-2020/master/Solutions/TP1_Ex3.png>\n",
        "\n",
        "Explore different values for sigma and alpha using the following widget."
      ]
    },
    {
      "cell_type": "markdown",
      "metadata": {
        "id": "OU_krit5EdLY",
        "colab_type": "text"
      },
      "source": [
        "**Make sure your execute this cell to enable the widget**\n",
        "The error rate $\\alpha$ is expressed in percentage"
      ]
    },
    {
      "cell_type": "code",
      "metadata": {
        "id": "kI1FN93yw3lm",
        "colab_type": "code",
        "colab": {}
      },
      "source": [
        "#@title\n",
        "\n",
        "#@markdown Make sure you execute this cell to enable the widget!\n",
        "\n",
        "\n",
        "#@markdown The error rate alpha is in percent.\n",
        "np.random.seed(100)\n",
        "num_sample = 10\n",
        "\n",
        "@widgets.interact\n",
        "def plot(sigma=(0.05, 10.0, 0.05), alpha=(0.1, 10, 0.1),true_dist= [0,1]):\n",
        "  simulate_and_plot_SPRT_threshold(num_sample,sigma,true_dist,alpha*1e-2)"
      ],
      "execution_count": null,
      "outputs": []
    },
    {
      "cell_type": "markdown",
      "metadata": {
        "id": "f-CN1piiYzQE",
        "colab_type": "text"
      },
      "source": [
        "# Part 4 : Accuracy vs. Threshold\n",
        "\n",
        "Click [here](https://github.com/fblondiaux/LGBIO2060-2020/blob/master/WorkFromHomeText/TP1-Part4.txt) for more explanations.\n",
        "\n",
        "The faster you make a decision, the lower your accuracy is. This phenomenon is known as the **speed/accuracy tradeoff**. \n",
        "To illustrate the speed/accuracy tradeoff under thresholding stopping rule, let us run some simulations with different thresholds and look at how average decision speed (1/length) changes with average decision accuracy.\n",
        "\n",
        "Complete the function simulate_accuracy_vs_threshold to simulate and compute accuracies vs. average decision lengths for a list of error thresholds. You will need to supply code to calculate average decision \"speed\" from the lengts of trials. You should also calculate the overall accuracy across these trials.\n",
        "\n",
        "We have set up a list of error thresholds. Run repeated simulations and collect average accuracy with average length for each error rate in this list."
      ]
    },
    {
      "cell_type": "code",
      "metadata": {
        "id": "Ari5EnLd7TUv",
        "colab_type": "code",
        "colab": {}
      },
      "source": [
        "def simulate_accuracy_vs_threshold(sigma, alpha_list, num_sample):\n",
        "  \"\"\"Calculate the average decision accuracy vs. average decision speed by\n",
        "  running repeated SPRT simulations with thresholding stopping rule for each\n",
        "  threshold.\n",
        "  Args:\n",
        "      sigma (float): standard deviation for observation model\n",
        "      alpha_list (list-like object): a list of error rates alpha to run\n",
        "                                          over\n",
        "      num_sample (int): number of simulations to run\n",
        "  Returns:\n",
        "      accuracy_list: a list of average accuracies corresponding to input\n",
        "                      `threshold_list`\n",
        "      decision_speed_list: a list of average decision speeds\n",
        "  \"\"\"\n",
        "    ##########################\n",
        "    ##### Your code here #####\n",
        "    ##########################\n",
        "\n",
        "  return accuracy_list, decision_speed_list\n"
      ],
      "execution_count": null,
      "outputs": []
    },
    {
      "cell_type": "code",
      "metadata": {
        "id": "75rHmBPIRxJz",
        "colab_type": "code",
        "colab": {}
      },
      "source": [
        "def simulate_and_plot_accuracy_vs_threshold(sigma, threshold_list, num_sample):\n",
        "  \"\"\"Simulate and plot a SPRT for a set of thresholds given a std.\n",
        "\n",
        "  Args:\n",
        "    sigma (float): Standard deviation of the observations.\n",
        "    alpha_list (float): List of thresholds for making a decision.\n",
        "    num_sample (int): The number of samples to plot.\n",
        "  \"\"\"\n",
        "    ##########################\n",
        "    ##### Your code here #####\n",
        "    ##########################\n",
        "\n",
        "np.random.seed(100)\n",
        "sigma = 3.75\n",
        "num_sample = 200\n",
        "alpha_list = np.linspace(0.001,0.5, 9) \n",
        "simulate_and_plot_accuracy_vs_threshold(sigma, alpha_list, num_sample)"
      ],
      "execution_count": null,
      "outputs": []
    },
    {
      "cell_type": "markdown",
      "metadata": {
        "id": "nr10qZ20DqIh",
        "colab_type": "text"
      },
      "source": [
        "Click [here](https://github.com/fblondiaux/LGBIO2060-2020/blob/master/Solutions/Exercise4Solution) for solution\n",
        "\n",
        "*Example output:*\n",
        "\n",
        "<img alt='Solution hint' align='left' width=573 height=416 src=https://raw.githubusercontent.com/fblondiaux/LGBIO2060-2020/master/Solutions/TP1_Ex4.png>"
      ]
    }
  ]
}