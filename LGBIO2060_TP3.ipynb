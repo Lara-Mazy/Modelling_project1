{
  "nbformat": 4,
  "nbformat_minor": 0,
  "metadata": {
    "colab": {
      "name": "LGBIO2060_TP3.ipynb",
      "provenance": [],
      "collapsed_sections": [],
      "authorship_tag": "ABX9TyN0dTDSG6VXdwaTYXBL6KP2",
      "include_colab_link": true
    },
    "kernelspec": {
      "name": "python3",
      "display_name": "Python 3"
    }
  },
  "cells": [
    {
      "cell_type": "markdown",
      "metadata": {
        "id": "view-in-github",
        "colab_type": "text"
      },
      "source": [
        "<a href=\"https://colab.research.google.com/github/fblondiaux/LGBIO2060-2020/blob/TP3/LGBIO2060_TP3.ipynb\" target=\"_parent\"><img src=\"https://colab.research.google.com/assets/colab-badge.svg\" alt=\"Open In Colab\"/></a>"
      ]
    },
    {
      "cell_type": "markdown",
      "metadata": {
        "id": "rd-uRhH1cmSn",
        "colab_type": "text"
      },
      "source": [
        "# LGBIO2060 - Exercise session 3\n",
        "Kalman filtering or how to implement the prior and likelihood dynamically? \n"
      ]
    },
    {
      "cell_type": "markdown",
      "metadata": {
        "id": "cEi52Hd4c3OE",
        "colab_type": "text"
      },
      "source": [
        "## Import and helper functions\n",
        "**Please execute the cell below to initialize the notebook environment**"
      ]
    },
    {
      "cell_type": "code",
      "metadata": {
        "id": "X_He_4QlckhJ",
        "colab_type": "code",
        "colab": {}
      },
      "source": [
        "import numpy as np\n",
        "import matplotlib.pyplot as plt\n",
        "\n"
      ],
      "execution_count": null,
      "outputs": []
    },
    {
      "cell_type": "code",
      "metadata": {
        "id": "DDxnOtZ78iG5",
        "colab_type": "code",
        "colab": {}
      },
      "source": [
        "def plot_my_system():\n",
        "  \"\"\"\n",
        "  Do not edit this function...\n",
        "\n",
        "  the aim of this function is to represent the time-evolution of a dynamical linear system\n",
        "  Author : Antoine de Comite \n",
        "  \"\"\"\n",
        "  if axes is None:\n",
        "    fig, ax = plt.subplots(figsize=(8,6))\n",
        "  xlim = None\n",
        "  ylim = None\n",
        "  ax.scatter(state_evolution[0,:],state_evolution[1,:],c='m',s=100,alpha=0.7)\n",
        "  ax.plot(state.evolution[0,:],state_evolution[1,:],LineWidth=2,c='b')\n",
        "  ax.set_xlabel(\"x_1\")\n",
        "  ax.set_ylabel(\"x_2\")\n",
        "  ax.set(xlim=xlim)\n",
        "  ax.set(ylim=ylim)\n",
        "  return ax\n",
        "  \n"
      ],
      "execution_count": null,
      "outputs": []
    },
    {
      "cell_type": "markdown",
      "metadata": {
        "id": "Ytv17jb8dhEH",
        "colab_type": "text"
      },
      "source": [
        "## Tutorial objectives \n",
        "\n",
        "At the end of this tutorial, you should be able to explain the concepts of dynamical system and continuous dynamic application of Bayes' theorem. "
      ]
    },
    {
      "cell_type": "markdown",
      "metadata": {
        "id": "vYDwDdw8eMLJ",
        "colab_type": "text"
      },
      "source": [
        "# Section 1 - Dynamical systems"
      ]
    },
    {
      "cell_type": "markdown",
      "metadata": {
        "id": "zP7Ct3GneUt6",
        "colab_type": "text"
      },
      "source": [
        "In this tutorial, we will be applying Bayes' theorem to dynamical systems. A dynamical system is a system for which the time-evolution of any point can be described by a time-dependent function. Many systems that we encounter in our daily life are dynamical systems: eyes movements, reaching movements, walking, population dynamics,... \n",
        "\n",
        "\n",
        "A dynamical system can be observed through some noise and uncertainty similarly to fixed variable (see the first two tutorials). Therefore, in order to obtain the best estimate of the latent state of the system, we can apply Bayes theorem at every time step. This is what we will do in this tutorial.\n",
        "\n",
        "\n",
        "A dynamical system has the following form : \n",
        "\n",
        "\\begin{eqnarray}\n",
        "\\dot{x}\\left(t\\right) & = & A x\\left(t\\right) + \\xi\\left(t\\right)\n",
        "\\end{eqnarray}\n",
        "\n",
        "where $A$ is called the $\\textit{state-transition}$ matrix and $\\xi\\left(t\\right)$ is Gaussian white noise.\n",
        "\n",
        "The latent state $x$ can have more than one entry, for example we may want to estimate the x- and y-positions of a fly. In this case, the latent state will become a latent state vector $x = \\left[x_1,x_2 \\right]$ and the dynamical can be written : \n",
        "\n",
        "\n",
        "\\begin{equation}\n",
        "\\begin{bmatrix}\n",
        "  \\dot{x_1}(t) \\\\\n",
        "  \\dot{x_2}(t)\n",
        "  \\end{bmatrix} = \\begin{bmatrix}A_{11} & A_{12}\\\\ A_{21} & A_{22} \\end{bmatrix}\\begin{bmatrix}x_1(t)\\\\ x_2(t)\\end{bmatrix} + \\begin{bmatrix}\\xi_1(t) \\\\ \\xi_2(t) \\end{bmatrix}\n",
        "\\end{equation}\n",
        "\n",
        "**Ajouter la discretisation ou au moins expliquer pq on bosse avec du discret derrière**\n",
        "\n",
        "\n",
        "\n",
        "**Exercise 1 - Implement a function that defines the system mentionned above**\n",
        "\n",
        "\n"
      ]
    },
    {
      "cell_type": "code",
      "metadata": {
        "id": "VSquLf_cvD2W",
        "colab_type": "code",
        "colab": {}
      },
      "source": [
        "def my_system(nsteps,x0,A,dt):\n",
        "  \"\"\"\n",
        "  my_system is a function that model the time-evolution of a linear dynamical system\n",
        "  with state transition matrix A.\n",
        "  Inputs : nsteps is the number of time steps to model\n",
        "           x0 is the initial state (where we are starting from)\n",
        "           A is the state-transition matrix\n",
        "           dt is the time step used in the discretization\n",
        "  Outputs : state_evolution is a numpy array that contains the time-evolution of \n",
        "            the state vector\n",
        "  \"\"\"\n",
        "  \n",
        "  state_evolution = np.zeros([len(x0),nsteps+1])\n",
        "  state_evolution[:,0] = x0\n",
        "  for ii in range(nsteps):\n",
        "    state_evolution[:,ii+1] = A * state_evolution[:,ii]\n",
        "  return state_evolution\n",
        "\n",
        "# Run the lines below to test your code\n",
        "\n",
        "nsteps = 50\n",
        "x0 = [[0],[0]]\n",
        "A = np.array([[1.,1.],[-(2*np.pi/20.)**2.,0.9]])\n",
        "state_evolution = my_system(nsteps,x0,A,dt)\n",
        "plot_my_system(state_evolution)\n"
      ],
      "execution_count": null,
      "outputs": []
    },
    {
      "cell_type": "markdown",
      "metadata": {
        "id": "7nQ__9qRFBLA",
        "colab_type": "text"
      },
      "source": [
        "**Mettre ici un exemple d'output**\n",
        "\n",
        "*Some questions*\n",
        "\n",
        "blablablablabla"
      ]
    },
    {
      "cell_type": "markdown",
      "metadata": {
        "id": "064vvCvAFyQB",
        "colab_type": "text"
      },
      "source": [
        "However, as we saw in the previous tutorials, our sense are not perfect and it is impossible to know the real latent state; we can only get a rough estimate of it. The observation of the latent state is characterised by : \n",
        "\n",
        "\n",
        "$\\begin{equation}\n",
        "\\begin{bmatrix}y_1\\\\ y_2\\end{bmatrix} = \\underbrace{\\begin{bmatrix}1 & 0 \\\\ 0 & 1\\end{bmatrix}}_{H} \\begin{bmatrix}x_1 \\\\ x_2\\end{bmatrix} + \\begin{bmatrix}\\eta_1(t)\\\\ \\eta_2(t)\\end{bmatrix}\n",
        "\\end{equation}$\n",
        "\n",
        "where $H$ is the observation matrix and the last term is a vector of Gaussian white noise (aka sensory noise) such that $\\eta_i(t) \\sim \\mathcal{N}\\left(0,\\Omega_{sensory}\\right)$. \n",
        "\n",
        "**Exercise 2 - Implement the observation of the latent state**"
      ]
    },
    {
      "cell_type": "code",
      "metadata": {
        "id": "LeCRZ5oQPgXm",
        "colab_type": "code",
        "colab": {}
      },
      "source": [
        "def my_system_with_obs(nsteps,x0,A,H,dt,motor_noise,sensory_noise):\n",
        "  \"\"\"\n",
        "  my_system_with_obs is a function that model the time-evolution of the latent state \n",
        "  and its observation\n",
        "  \"\"\"\n",
        "\n",
        "\n",
        "\n",
        "  return state_evolution,obs_evolution\n",
        "\n",
        "# Run the lines below to test your code \n",
        "nsteps = 50\n",
        "x0 = [[0],[0]]\n",
        "A = np.array([[1.,1.],[-(2*np.pi/20.)**2.,0.9]])\n",
        "H = np.eye(2)\n",
        "motor_noise = TBD\n",
        "sensory_noise = TBD\n"
      ],
      "execution_count": null,
      "outputs": []
    },
    {
      "cell_type": "markdown",
      "metadata": {
        "id": "HMV7buBNxZoj",
        "colab_type": "text"
      },
      "source": [
        "## Section 2 - Kalman filter or the optimal observation of continuous linear dynamical systems"
      ]
    }
  ]
}