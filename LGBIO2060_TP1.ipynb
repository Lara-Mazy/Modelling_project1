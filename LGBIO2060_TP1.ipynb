{
  "nbformat": 4,
  "nbformat_minor": 0,
  "metadata": {
    "colab": {
      "name": "LGBIO2060_TP1",
      "provenance": [],
      "collapsed_sections": []
    },
    "kernelspec": {
      "name": "python3",
      "display_name": "Python 3"
    }
  },
  "cells": [
    {
      "cell_type": "markdown",
      "metadata": {
        "id": "UKmvg4dBQvTT",
        "colab_type": "text"
      },
      "source": [
        "# LGBIO2060 - Exercise session 1\n",
        "# Sequential probability ratio test\n",
        "\n",
        "After this first tutorial, you should be able to understand and explain the likelihood function as well as the drift diffusion model. You should also be able to implement the DDM and to discuss the different stopping criteria as well as a the speed accuracy tradeoff."
      ]
    },
    {
      "cell_type": "markdown",
      "metadata": {
        "id": "JFUQpn3td9Zk",
        "colab_type": "text"
      },
      "source": [
        "## Imports and helper functions\n",
        "**Please execute the cell(s) below to initialize the notebook environment.**"
      ]
    },
    {
      "cell_type": "code",
      "metadata": {
        "id": "tg1WKjlfQuXF",
        "colab_type": "code",
        "cellView": "both",
        "colab": {}
      },
      "source": [
        "#Import the libraries \n",
        "import numpy as np #for the math stuff\n",
        "import matplotlib.pyplot as plt #for the plot handling\n",
        "from scipy.stats import norm\n"
      ],
      "execution_count": null,
      "outputs": []
    },
    {
      "cell_type": "code",
      "metadata": {
        "id": "I_77qbA4d2Ee",
        "colab_type": "code",
        "colab": {}
      },
      "source": [
        "def plot_my_gaussian(x,px):\n",
        "  \"\"\"\n",
        "  This function plots a Gaussian distribution\n",
        "\n",
        "  Inputs : x (numpy array) along which we want to represent the distribution\n",
        "           px(numpy array) values taken by the distribution\n",
        "  \"\"\"\n",
        "\n",
        "  fig, ax=plt.subplots()\n",
        "  ax.plot(x,px,'C1',LineWidth=2,label='Estimated state')\n",
        "  ax.axvline(x[px.argmax()],label='Latent state')\n",
        "  ax.legend()\n",
        "  ax.set_ylabel('Probability')\n",
        "  ax.set_xlabel('Value')\n",
        "\n",
        "  return ax"
      ],
      "execution_count": null,
      "outputs": []
    },
    {
      "cell_type": "markdown",
      "metadata": {
        "id": "QiIIrg38RKLh",
        "colab_type": "text"
      },
      "source": [
        "___\n",
        "# Part 1 : Gaussian distribution - Inferring the world through sensory input\n",
        "\n",
        "*Click [here](https://github.com/fblondiaux/LGBIO2060-2020/blob/master/WorkFromHomeText/TP1-Part1.txt) for more context*.\n",
        "\n",
        "\n",
        "We want to observe a latent state (ie. the real state that we cannot exactly know) through our senses that are noisy. Therefore, this latent state will be observed through some noise. We will assume that the observed state can be modelled by a Gaussian distribution whose mean is the real value of the latent state (unknown) and whose variance characterises the amount of noise present in the sensory system. We can therefore write that the observation $y$ follows a Gaussian distribution of mean $\\mu$ and standard deviation $\\sigma$ :\n",
        "\n",
        "\\\\\n",
        "\n",
        "$$\n",
        "y\\sim\\mathcal{N}\\left(\\mu,\\, \\sigma^2\\right)\n",
        "$$\n",
        "\n",
        "\\\\\n",
        "\n",
        "\n",
        "As a reminder, a Gaussian distribution is characterised by the following probability density function : \\\\\n",
        "\n",
        "\n",
        "$$\\mathcal{N}\\left(\\mu,\\sigma^2\\right) = \\frac{1}{\\sqrt{2\\pi \\sigma^2}}\\exp\\left(\\frac{-\\left(x-\\mu\\right)^2}{2\\sigma^2}\\right)$$\n",
        "\n",
        "**Exercise 1**\n",
        "\n",
        "Implement a function that generates a gaussian distribution given its parameters and the domain where it will be evaluated, $x_{vector}$\n"
      ]
    },
    {
      "cell_type": "code",
      "metadata": {
        "id": "gVyupXhkUqc-",
        "colab_type": "code",
        "colab": {}
      },
      "source": [
        "def my_gaussian(x_vector,mu,sigma):\n",
        "  \"\"\"\n",
        "  Author: Antoine de Comite \n",
        "  This function computes the gaussian distribution characterised by mu & sigma on the set x_vector\n",
        "  \n",
        "  Inputs : x_vector (numpy array) the set over which you want to compute the gaussian distribution\n",
        "           mu (double) mean value of the gaussian distribution\n",
        "           sigma (double) standard deviation of the gaussian distribution\n",
        "  Outputs: px (numpy array) is the gaussian distribution evaluated over x_vector\n",
        "  \"\"\"\n",
        "  \n",
        "  #######################\n",
        "  ### your code here ####\n",
        "  #######################\n",
        "  return px\n",
        "\n",
        "# Test your function on a gaussian of mean 0, variance 1 that you compute over\n",
        "# the set [-5,5]. Create a graphical representation of your distribution\n",
        "\n",
        "  #######################\n",
        "  ### your code here ####\n",
        "  #######################"
      ],
      "execution_count": null,
      "outputs": []
    },
    {
      "cell_type": "markdown",
      "metadata": {
        "id": "kiPj-_jnXp3D",
        "colab_type": "text"
      },
      "source": [
        "Click [here](https://github.com/fblondiaux/LGBIO2060-2020/blob/master/Solutions/Exercise1Solution) for solution.\n",
        "\n",
        "*Example output:*\n",
        "\n",
        "\n",
        "<img alt='Solution hint' align='left' width=413 height=300 src=https://raw.githubusercontent.com/fblondiaux/LGBIO2060-2020/master/Solutions/TP1_Ex1.png>"
      ]
    },
    {
      "cell_type": "markdown",
      "metadata": {
        "id": "XKKrdnaEggOB",
        "colab_type": "text"
      },
      "source": [
        "\n",
        "Use the widget herebelow to investigate the impact of the mean and standard deviation on the shape of the gaussian distribution (be patient, the widget updates every few seconds). \n",
        "Your function of exercise 1 should be working for this widget to work.\n",
        "\n",
        "\n",
        "**Make sure to execute the cell before playing with the widget**"
      ]
    },
    {
      "cell_type": "code",
      "metadata": {
        "id": "x7NLOnUlsCTF",
        "colab_type": "code",
        "colab": {}
      },
      "source": [
        "#@title\n",
        "\n",
        "x = np.arange(-10,11,0.1)\n",
        "\n",
        "import ipywidgets as widgets\n",
        "\n",
        "def refresh(mu=1,sigma=1):\n",
        "  gaussian = my_gaussian(x,mu,sigma)\n",
        "\n",
        "  ax = plot_my_gaussian(x,gaussian)\n",
        "  plt.show()\n",
        "\n",
        "style = {'description_width' : 'initial'}\n",
        "\n",
        "_ = widgets.interact(refresh,\n",
        "    mu = widgets.FloatSlider(value=2, min=-7, max=7, steps=0.5, description=\"mu:\", style = style),\n",
        "    sigma = widgets.FloatSlider(value=0.5, min=0.5, max=10, steps=0.5, description=\"sigma\",style=style),\n",
        ")"
      ],
      "execution_count": null,
      "outputs": []
    },
    {
      "cell_type": "markdown",
      "metadata": {
        "id": "hIcFqEROimqK",
        "colab_type": "text"
      },
      "source": [
        "**Summary**\n",
        "\n",
        "The gaussian distribution can be very useful in many situations and fields. In this tutorial, it is used to model the noise present in our sensory inputs. Therefore, the observations of our environment that we make are drawn from a Gaussian distribution that characterizes our sensory inputs. This variability we observe in the way we infer the external world is also present in nature. Indeed, there is much variability in the of size of living tissue (length, height, skin area, weight), the length of inert appendages (hair, claws, nails, teeth), in the behaviour of animals and humans...\n",
        "\n",
        "Let's see how we can deal with this variability to perform decision making ! \n",
        "\n",
        "\n",
        "---"
      ]
    },
    {
      "cell_type": "markdown",
      "metadata": {
        "id": "FNA_YTl5Xx8U",
        "colab_type": "text"
      },
      "source": [
        "# Part 2 : Sequential probability ratio test (SPRT) - Decision making\n",
        "\n",
        "*Click [here](https://github.com/fblondiaux/LGBIO2060-2020/blob/master/WorkFromHomeText/TPLGBIO2060.pdf) for more explanations*\n",
        "\n",
        "Let us consider a toy experiment. On each trial $i$, the subject is shown a dot moving on a screen. The horizontal velocity, $v_i$, is generated by a probability distribution, which we know to be either: \n",
        "\n",
        "\n",
        "$$\n",
        "\\\\\n",
        "\\begin{eqnarray}\n",
        "p_L &=& \\mathcal{N}\\left(-1,\\sigma^2\\right)\\\\\n",
        "&& \\textrm{or}\\\\\n",
        "p_R &=& \\mathcal{N}\\left(+1,\\sigma^2\\right)\\\\\n",
        "\\end{eqnarray}\n",
        "$$\n",
        "\n",
        "By looking at a large number of dots (so by doing the experiment for a long time), we want to determine which distribution amongst $p_L$ and $p_R$ is the true data generating one. The decision process is based on the time-evolution of the log likelihood ratio between these two hypotheses. \n",
        "For both alternatives, we will define the likelihood function that will quantify how probable it is that the data point $x_i$ comes from a each distribution. For a given occurence of the point $x_i$, the two likelihood functions will be defined by $p_L\\left(x_i|z=0\\right)$ and $p_R\\left(x_i|z=1\\right)$, which are two gaussian distributions and where $z$ is a binary variable used to identify which distribution is the true one.\n",
        "\n",
        "\n",
        "Using the following gaussian observations models for the two alternative distributions\n",
        "\n",
        "$$\\begin{eqnarray}\n",
        "p_L\\left(x|z=0\\right) & = & \\mathcal{N}\\left(\\mu_L,\\sigma_L^2\\right)\\\\\n",
        "p_R\\left(x|z=1\\right) & = & \\mathcal{N}\\left(\\mu_R,\\sigma_R^2\\right)\\\\\n",
        "\\end{eqnarray}\n",
        "$$\n",
        "\n",
        "and the definition of the log-likelihood ratio $\\Lambda_i = \\log \\dfrac{ p_L }{ p_R }$\n",
        "\n",
        "**Compute the expression of $\\Lambda_i$, the log-likelihood ratio at iteration $i$** \n",
        "\n",
        "Click [here](https://github.com/fblondiaux/LGBIO2060-2020/blob/master/Solutions/Tuto1SolLikelihood) for solution\n",
        "\n",
        "\n",
        "Using the expression of the log-likelihood ratio you just computed, implement the function *compute_SPRT_fixedtime* whose signature is given below. This function implements the drift diffusion model. \n"
      ]
    },
    {
      "cell_type": "code",
      "metadata": {
        "id": "4Nuwv7vf6uIZ",
        "colab_type": "code",
        "colab": {}
      },
      "source": [
        "def compute_SPRT_fixedtime(sigma,true_dist,stopTime):\n",
        "    \"\"\"\n",
        "    This function performs the sequential probability ratio test using the fixed time stopping criterion\n",
        "    Authors : Florence Blondiaux & Antoine de Comite \n",
        "\n",
        "    Inputs :  sigma (float) is the standard deviation of both distribution\n",
        "              true_dist (int) is the true distribution 0 or 1\n",
        "              stopTime (int) number of samples to take before stopping\n",
        "    Output : evidence_history (numpy vector) containing the history of evidence\n",
        "            decision (integer) 0 or 1 depending on the most probable decision at the end of trial\n",
        "    \"\"\"\n",
        "\n",
        "\n",
        "    muL = -1.0; muR = 1.0\n",
        "   \n",
        "    # Generate a random sequence of data\n",
        "    pL = norm(loc=muL,scale=sigma)\n",
        "    pR = norm(loc=muR,scale=sigma)\n",
        "    if true_dist == 1:\n",
        "      data = pR.rvs(size=stopTime)\n",
        "    else:\n",
        "      data = pL.rvs(size=stopTime)\n",
        "\n",
        "    ##########################\n",
        "    ##### Your code here #####\n",
        "    ##########################\n",
        "    \n",
        "    return evidence_history,decision\n",
        "\n",
        "\n",
        "\n"
      ],
      "execution_count": null,
      "outputs": []
    },
    {
      "cell_type": "code",
      "metadata": {
        "id": "S1LyE2XtOppG",
        "colab_type": "code",
        "colab": {}
      },
      "source": [
        "# Simulate 10 trials and plot their evidence history.\n",
        "# For the example of solution, the true distribution was pR and sigma was set to 3.5\n",
        "\n",
        "\n",
        "def simulate_and_plot_SPRT_fixedtime(nb_trials, sigma=3.5, true_dist = 1,stopTime = 150 ):\n",
        "    '''\n",
        "    Simulate and plot a SPRT for a fixed amount of time given a std.\n",
        "    Authors : Florence Blondiaux & Antoine de Comite \n",
        "    Input: nb_trials: Number of simulations to run per stopping time\n",
        "          sigma (float) is the standard deviation of both distribution\n",
        "          true_dist (int) is the true distribution 0 or 1\n",
        "          stopTime (int) number of samples to take before stopping\n",
        "\n",
        "    '''\n",
        "    ##########################\n",
        "    ##### Your code here #####\n",
        "    ##########################\n",
        "\n",
        "np.random.seed(100) \n",
        "simulate_and_plot_SPRT_fixedtime(10)"
      ],
      "execution_count": null,
      "outputs": []
    },
    {
      "cell_type": "markdown",
      "metadata": {
        "id": "dGHamr24rhJj",
        "colab_type": "text"
      },
      "source": [
        "Click [here](https://github.com/fblondiaux/LGBIO2060-2020/blob/master/Solutions/Exercise2Solution) for solution\n",
        "\n",
        "*Example output:*\n",
        "\n",
        "<img alt='Solution hint' align='left' width=573 height=416 src=https://raw.githubusercontent.com/fblondiaux/LGBIO2060-2020/master/Solutions/TP1_Ex2.png>\n"
      ]
    },
    {
      "cell_type": "markdown",
      "metadata": {
        "id": "GWP8oQgDKhF8",
        "colab_type": "text"
      },
      "source": [
        "Explore different values for *sigma* and *stop_time* using the following widget.\n",
        "\n",
        "**Make sure to execute this cell to enable the widget**"
      ]
    },
    {
      "cell_type": "code",
      "metadata": {
        "id": "dyObW5eIEdFI",
        "colab_type": "code",
        "cellView": "both",
        "colab": {}
      },
      "source": [
        "#@title\n",
        "np.random.seed(100)\n",
        "num_sample = 10\n",
        "\n",
        "@widgets.interact\n",
        "def plot(sigma=(0.05, 10.0, 0.05), stop_time=(5, 500, 5),true_dist= [0,1]):\n",
        "  simulate_and_plot_SPRT_fixedtime(num_sample,sigma,true_dist,stop_time)"
      ],
      "execution_count": null,
      "outputs": []
    },
    {
      "cell_type": "markdown",
      "metadata": {
        "id": "MGkl1TpEFydZ",
        "colab_type": "text"
      },
      "source": [
        "\n",
        "\n",
        "In this first example, the decision is made after a given time (that may be very long); this is not always the optimal way to stop the drift diffusion model. In the next section, we will investigate another stopping criterion."
      ]
    },
    {
      "cell_type": "markdown",
      "metadata": {
        "id": "wMFJ27i1YzGs",
        "colab_type": "text"
      },
      "source": [
        "# Part 3 : Drift diffusion model with fixed threshold\n",
        "Click [here](https://github.com/fblondiaux/LGBIO2060-2020/blob/master/WorkFromHomeText/TP1-Part3.txt) for more explanations. \n",
        "\n",
        "\n",
        "The thresholding stopping rule define a desire error rate and will continue making measurements until that error rate is reached. Experimental evidence suggested that evidence accumulation and thresholding stopping strategy happens at neuronal level (see [this article](https://www.annualreviews.org/doi/abs/10.1146/annurev.neuro.29.051605.113038?journalCode=neuro) for further reading). In this exercise, we will use thresholding as our stopping rule and observe the behavior of the DDM. \n",
        "\n",
        "\n",
        "Mathematically speaking, the threshold is defined based on the likelihood ratio that has been computed before. We define the error rate $\\alpha$ that we want to accept. Based on the properties of probability, we can define the following thresholds for our decision making process.\n",
        "\n",
        "$$\n",
        "\\begin{eqnarray}\n",
        "th_L = \\log \\dfrac{\\alpha}{1-\\alpha} & = & -th_R\\\\\n",
        "th_R = \\log \\dfrac{1-\\alpha}{\\alpha} & = & -th_L\n",
        "\\end{eqnarray}\n",
        "$$\n",
        "\n",
        "The drift diffusion process will be stopped as the log-likelihood ratio cross one of these thresholds.\n",
        "\n",
        "Implement the function *threshold_DDM* whose signature is given below :\n",
        "\n"
      ]
    },
    {
      "cell_type": "code",
      "metadata": {
        "id": "PZD1DxQm-Qh1",
        "colab_type": "code",
        "colab": {}
      },
      "source": [
        "def compute_SPRT_threshold(sigma,true_dist,alpha):\n",
        "    \"\"\"\n",
        "    This function performs the sequential probability ratio test using the threshold stopping criterion\n",
        "    Authors : Florence Blondiaux & Antoine de Comite \n",
        "\n",
        "    Inputs :  sigma (float) is the standard deviation of both distribution\n",
        "              true_dist (int) is the true distribution 0 or 1\n",
        "              alpha (int): Desired  error rate that we want to accept.\n",
        "    Output : evidence_history (numpy vector) containing the history of evidence\n",
        "            decision (integer) 0 or 1 depending on the most probable decision at the end of trial\n",
        "    \"\"\"\n",
        "\n",
        "\n",
        "    ##########################\n",
        "    ##### Your code here #####\n",
        "    ##########################\n",
        "    \n",
        "    \n",
        "    return evidence_history,decision"
      ],
      "execution_count": null,
      "outputs": []
    },
    {
      "cell_type": "code",
      "metadata": {
        "id": "HxT8K5moQRkP",
        "colab_type": "code",
        "colab": {}
      },
      "source": [
        "def simulate_and_plot_SPRT_threshold(nb_trials, sigma = 2.9, true_dist = 1, alpha = 1e-3):\n",
        "    '''\n",
        "    Simulate and plot a SPRT for a fixed amount of time given a std.\n",
        "    Authors : Florence Blondiaux & Antoine de Comite \n",
        "    Input: nb_trials: Number of simulations to run\n",
        "           sigma (float) is the standard deviation of both distribution\n",
        "           true_dist (int) is the true distribution 0 or 1\n",
        "           alpha (int): Desired  error rate that we want to accept.\n",
        "    '''\n",
        "\n",
        "    ##########################\n",
        "    ##### Your code here #####\n",
        "    ##########################\n",
        "    \n",
        "\n",
        "np.random.seed(100) \n",
        "simulate_and_plot_SPRT_threshold(10, sigma = 2.9, true_dist = 1, alpha = 1e-3)"
      ],
      "execution_count": null,
      "outputs": []
    },
    {
      "cell_type": "markdown",
      "metadata": {
        "id": "Porl1QVJBCP2",
        "colab_type": "text"
      },
      "source": [
        "Click [here](https://github.com/fblondiaux/LGBIO2060-2020/blob/master/Solutions/Exercise3Solution) for solution\n",
        "\n",
        "*Example output:*\n",
        "\n",
        "<img alt='Solution hint' align='left' width=573 height=416 src=https://raw.githubusercontent.com/fblondiaux/LGBIO2060-2020/master/Solutions/TP1_Ex3.png>\n",
        "\n",
        "Explore different values for sigma and alpha using the following widget."
      ]
    },
    {
      "cell_type": "markdown",
      "metadata": {
        "id": "OU_krit5EdLY",
        "colab_type": "text"
      },
      "source": [
        "**Make sure your execute this cell to enable the widget**\n",
        "The error rate $\\alpha$ is expressed in percentage"
      ]
    },
    {
      "cell_type": "code",
      "metadata": {
        "id": "kI1FN93yw3lm",
        "colab_type": "code",
        "colab": {}
      },
      "source": [
        "#@title\n",
        "\n",
        "#@markdown Make sure you execute this cell to enable the widget!\n",
        "\n",
        "\n",
        "#@markdown The error rate alpha is in percent.\n",
        "np.random.seed(100)\n",
        "num_sample = 10\n",
        "\n",
        "@widgets.interact\n",
        "def plot(sigma=(0.05, 10.0, 0.05), alpha=(0.1, 10, 0.1),true_dist= [0,1]):\n",
        "  simulate_and_plot_SPRT_threshold(num_sample,sigma,true_dist,alpha*1e-2)"
      ],
      "execution_count": null,
      "outputs": []
    },
    {
      "cell_type": "markdown",
      "metadata": {
        "id": "f-CN1piiYzQE",
        "colab_type": "text"
      },
      "source": [
        "# Part 4 : Accuracy vs. Threshold\n",
        "\n",
        "Click [here](https://github.com/fblondiaux/LGBIO2060-2020/blob/master/WorkFromHomeText/TP1-Part4.txt) for more explanations.\n",
        "\n",
        "The faster you make a decision, the lower your accuracy is. This phenomenon is known as the **speed/accuracy tradeoff**. \n",
        "To illustrate the speed/accuracy tradeoff under thresholding stopping rule, let us run some simulations with different thresholds and look at how average decision speed (1/length) changes with average decision accuracy.\n",
        "\n",
        "Complete the function simulate_accuracy_vs_threshold to simulate and compute accuracies vs. average decision lengths for a list of error thresholds. You will need to supply code to calculate average decision \"speed\" from the lengts of trials. You should also calculate the overall accuracy across these trials.\n",
        "\n",
        "We have set up a list of error thresholds. Run repeated simulations and collect average accuracy with average length for each error rate in this list."
      ]
    },
    {
      "cell_type": "code",
      "metadata": {
        "id": "Ari5EnLd7TUv",
        "colab_type": "code",
        "colab": {}
      },
      "source": [
        "def simulate_accuracy_vs_threshold(sigma, alpha_list, num_sample):\n",
        "  \"\"\"Calculate the average decision accuracy vs. average decision speed by\n",
        "  running repeated SPRT simulations with thresholding stopping rule for each\n",
        "  threshold.\n",
        "  Args:\n",
        "      sigma (float): standard deviation for observation model\n",
        "      alpha_list (list-like object): a list of error rates alpha to run\n",
        "                                          over\n",
        "      num_sample (int): number of simulations to run\n",
        "  Returns:\n",
        "      accuracy_list: a list of average accuracies corresponding to input\n",
        "                      `threshold_list`\n",
        "      decision_speed_list: a list of average decision speeds\n",
        "  \"\"\"\n",
        "    ##########################\n",
        "    ##### Your code here #####\n",
        "    ##########################\n",
        "\n",
        "  return accuracy_list, decision_speed_list\n"
      ],
      "execution_count": null,
      "outputs": []
    },
    {
      "cell_type": "code",
      "metadata": {
        "id": "75rHmBPIRxJz",
        "colab_type": "code",
        "colab": {}
      },
      "source": [
        "def simulate_and_plot_accuracy_vs_threshold(sigma, threshold_list, num_sample):\n",
        "  \"\"\"Simulate and plot a SPRT for a set of thresholds given a std.\n",
        "\n",
        "  Args:\n",
        "    sigma (float): Standard deviation of the observations.\n",
        "    alpha_list (float): List of thresholds for making a decision.\n",
        "    num_sample (int): The number of samples to plot.\n",
        "  \"\"\"\n",
        "    ##########################\n",
        "    ##### Your code here #####\n",
        "    ##########################\n",
        "\n",
        "np.random.seed(100)\n",
        "sigma = 3.75\n",
        "num_sample = 200\n",
        "alpha_list = np.linspace(0.001,0.5, 9) \n",
        "simulate_and_plot_accuracy_vs_threshold(sigma, alpha_list, num_sample)"
      ],
      "execution_count": null,
      "outputs": []
    },
    {
      "cell_type": "markdown",
      "metadata": {
        "id": "nr10qZ20DqIh",
        "colab_type": "text"
      },
      "source": [
        "Click [here](https://github.com/fblondiaux/LGBIO2060-2020/blob/master/Solutions/Exercise4Solution) for solution\n",
        "\n",
        "*Example output:*\n",
        "\n",
        "<img alt='Solution hint' align='left' width=573 height=416 src=https://raw.githubusercontent.com/fblondiaux/LGBIO2060-2020/master/Solutions/TP1_Ex4.png>"
      ]
    }
  ]
}