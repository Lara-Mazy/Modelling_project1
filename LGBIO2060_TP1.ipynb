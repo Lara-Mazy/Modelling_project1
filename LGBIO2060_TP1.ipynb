{
  "nbformat": 4,
  "nbformat_minor": 0,
  "metadata": {
    "colab": {
      "name": "LGBIO2060_TP1",
      "provenance": [],
      "collapsed_sections": []
    },
    "kernelspec": {
      "name": "python3",
      "display_name": "Python 3"
    },
    "widgets": {
      "application/vnd.jupyter.widget-state+json": {
<<<<<<< HEAD
        "b9ac5614f2334585974d5897022a0db0": {
=======
        "17be8701a0bd4ea4960faae95693660d": {
>>>>>>> Hakuri
          "model_module": "@jupyter-widgets/controls",
          "model_name": "VBoxModel",
          "state": {
            "_view_name": "VBoxView",
            "_dom_classes": [
              "widget-interact"
            ],
            "_model_name": "VBoxModel",
            "_view_module": "@jupyter-widgets/controls",
            "_model_module_version": "1.5.0",
            "_view_count": null,
            "_view_module_version": "1.5.0",
            "box_style": "",
<<<<<<< HEAD
            "layout": "IPY_MODEL_3789aed6fcc446ff8edeebda6db4ccaf",
            "_model_module": "@jupyter-widgets/controls",
            "children": [
              "IPY_MODEL_3af4df8606e244559fb7dd9ce5869897",
              "IPY_MODEL_dd0643402d1244c89801de6d82a22aa5",
              "IPY_MODEL_14511ea8dbfa4b23aa9daa927c45975b"
            ]
          }
        },
        "3789aed6fcc446ff8edeebda6db4ccaf": {
=======
            "layout": "IPY_MODEL_62274e2ea019495a9bfb7f88028367c3",
            "_model_module": "@jupyter-widgets/controls",
            "children": [
              "IPY_MODEL_aee69d37275f4e67bc491372f3a74013",
              "IPY_MODEL_25534a70a1ba45319ad9ffca54cb1d12",
              "IPY_MODEL_ed6fc9600d5148d5af757059e9a9071f",
              "IPY_MODEL_d813df9e9f4d46bca4332d988001324d"
            ]
          }
        },
        "62274e2ea019495a9bfb7f88028367c3": {
>>>>>>> Hakuri
          "model_module": "@jupyter-widgets/base",
          "model_name": "LayoutModel",
          "state": {
            "_view_name": "LayoutView",
            "grid_template_rows": null,
            "right": null,
            "justify_content": null,
            "_view_module": "@jupyter-widgets/base",
            "overflow": null,
            "_model_module_version": "1.2.0",
            "_view_count": null,
            "flex_flow": null,
            "width": null,
            "min_width": null,
            "border": null,
            "align_items": null,
            "bottom": null,
            "_model_module": "@jupyter-widgets/base",
            "top": null,
            "grid_column": null,
            "overflow_y": null,
            "overflow_x": null,
            "grid_auto_flow": null,
            "grid_area": null,
            "grid_template_columns": null,
            "flex": null,
            "_model_name": "LayoutModel",
            "justify_items": null,
            "grid_row": null,
            "max_height": null,
            "align_content": null,
            "visibility": null,
            "align_self": null,
            "height": null,
            "min_height": null,
            "padding": null,
            "grid_auto_rows": null,
            "grid_gap": null,
            "max_width": null,
            "order": null,
            "_view_module_version": "1.2.0",
            "grid_template_areas": null,
            "object_position": null,
            "object_fit": null,
            "grid_auto_columns": null,
            "margin": null,
            "display": null,
            "left": null
          }
        },
<<<<<<< HEAD
        "3af4df8606e244559fb7dd9ce5869897": {
=======
        "aee69d37275f4e67bc491372f3a74013": {
>>>>>>> Hakuri
          "model_module": "@jupyter-widgets/controls",
          "model_name": "FloatSliderModel",
          "state": {
            "_view_name": "FloatSliderView",
<<<<<<< HEAD
            "style": "IPY_MODEL_04a20474464d43eb9c48cf933b0b9af0",
            "_dom_classes": [],
            "description": "mu:",
            "step": 0.1,
=======
            "style": "IPY_MODEL_e4992ae8c0f6480894cb423ee03ea951",
            "_dom_classes": [],
            "description": "sigma",
            "step": 0.05,
>>>>>>> Hakuri
            "_model_name": "FloatSliderModel",
            "orientation": "horizontal",
            "max": 10,
            "_view_module": "@jupyter-widgets/controls",
            "_model_module_version": "1.5.0",
<<<<<<< HEAD
            "value": 2,
            "_view_count": null,
            "disabled": false,
            "_view_module_version": "1.5.0",
            "min": -10,
=======
            "value": 9.95,
            "_view_count": null,
            "disabled": false,
            "_view_module_version": "1.5.0",
            "min": 0.05,
>>>>>>> Hakuri
            "continuous_update": true,
            "readout_format": ".2f",
            "description_tooltip": null,
            "readout": true,
            "_model_module": "@jupyter-widgets/controls",
<<<<<<< HEAD
            "layout": "IPY_MODEL_d14e290393a34fadb01c215978e78b04"
          }
        },
        "dd0643402d1244c89801de6d82a22aa5": {
=======
            "layout": "IPY_MODEL_2dd1aacf45604862bfbf115719a1840e"
          }
        },
        "25534a70a1ba45319ad9ffca54cb1d12": {
>>>>>>> Hakuri
          "model_module": "@jupyter-widgets/controls",
          "model_name": "FloatSliderModel",
          "state": {
            "_view_name": "FloatSliderView",
<<<<<<< HEAD
            "style": "IPY_MODEL_371d56d2bdcd44139eb6c9f53c3a2740",
            "_dom_classes": [],
            "description": "sigma",
=======
            "style": "IPY_MODEL_87dea3b317074b8eb6fc66aa159875fb",
            "_dom_classes": [],
            "description": "alpha10_3",
>>>>>>> Hakuri
            "step": 0.1,
            "_model_name": "FloatSliderModel",
            "orientation": "horizontal",
            "max": 10,
            "_view_module": "@jupyter-widgets/controls",
            "_model_module_version": "1.5.0",
<<<<<<< HEAD
            "value": 0.5,
            "_view_count": null,
            "disabled": false,
            "_view_module_version": "1.5.0",
            "min": 0.5,
=======
            "value": 10,
            "_view_count": null,
            "disabled": false,
            "_view_module_version": "1.5.0",
            "min": 0.1,
>>>>>>> Hakuri
            "continuous_update": true,
            "readout_format": ".2f",
            "description_tooltip": null,
            "readout": true,
            "_model_module": "@jupyter-widgets/controls",
<<<<<<< HEAD
            "layout": "IPY_MODEL_48db1964c9d24834a6b344690f76a774"
          }
        },
        "14511ea8dbfa4b23aa9daa927c45975b": {
=======
            "layout": "IPY_MODEL_c59d72ea0fb54865b72507720844d6bf"
          }
        },
        "ed6fc9600d5148d5af757059e9a9071f": {
          "model_module": "@jupyter-widgets/controls",
          "model_name": "DropdownModel",
          "state": {
            "_options_labels": [
              "0",
              "1"
            ],
            "_view_name": "DropdownView",
            "style": "IPY_MODEL_a0ac21f3018840f085202b2bb3f610d8",
            "_dom_classes": [],
            "description": "true_dist",
            "_model_name": "DropdownModel",
            "index": 1,
            "_view_module": "@jupyter-widgets/controls",
            "_model_module_version": "1.5.0",
            "_view_count": null,
            "disabled": false,
            "_view_module_version": "1.5.0",
            "description_tooltip": null,
            "_model_module": "@jupyter-widgets/controls",
            "layout": "IPY_MODEL_3dc0bf2e17034d01b92a96d8c88e9c09"
          }
        },
        "d813df9e9f4d46bca4332d988001324d": {
>>>>>>> Hakuri
          "model_module": "@jupyter-widgets/output",
          "model_name": "OutputModel",
          "state": {
            "_view_name": "OutputView",
            "msg_id": "",
            "_dom_classes": [],
            "_model_name": "OutputModel",
            "outputs": [
              {
<<<<<<< HEAD
=======
                "output_type": "stream",
                "metadata": {
                  "tags": []
                },
                "text": "3\n",
                "stream": "stdout"
              },
              {
>>>>>>> Hakuri
                "output_type": "display_data",
                "metadata": {
                  "tags": [],
                  "needs_background": "light"
                },
<<<<<<< HEAD
                "image/png": "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\n",
=======
                "image/png": "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\n",
>>>>>>> Hakuri
                "text/plain": "<Figure size 432x288 with 1 Axes>"
              }
            ],
            "_view_module": "@jupyter-widgets/output",
            "_model_module_version": "1.0.0",
            "_view_count": null,
            "_view_module_version": "1.0.0",
<<<<<<< HEAD
            "layout": "IPY_MODEL_6cbfb9e66f4e43a89360b25ad140dc21",
            "_model_module": "@jupyter-widgets/output"
          }
        },
        "04a20474464d43eb9c48cf933b0b9af0": {
=======
            "layout": "IPY_MODEL_e0843c8687e743d1b8ba52d086bd45eb",
            "_model_module": "@jupyter-widgets/output"
          }
        },
        "e4992ae8c0f6480894cb423ee03ea951": {
>>>>>>> Hakuri
          "model_module": "@jupyter-widgets/controls",
          "model_name": "SliderStyleModel",
          "state": {
            "_view_name": "StyleView",
            "handle_color": null,
            "_model_name": "SliderStyleModel",
<<<<<<< HEAD
            "description_width": "initial",
=======
            "description_width": "",
>>>>>>> Hakuri
            "_view_module": "@jupyter-widgets/base",
            "_model_module_version": "1.5.0",
            "_view_count": null,
            "_view_module_version": "1.2.0",
            "_model_module": "@jupyter-widgets/controls"
          }
        },
<<<<<<< HEAD
        "d14e290393a34fadb01c215978e78b04": {
=======
        "2dd1aacf45604862bfbf115719a1840e": {
>>>>>>> Hakuri
          "model_module": "@jupyter-widgets/base",
          "model_name": "LayoutModel",
          "state": {
            "_view_name": "LayoutView",
            "grid_template_rows": null,
            "right": null,
            "justify_content": null,
            "_view_module": "@jupyter-widgets/base",
            "overflow": null,
            "_model_module_version": "1.2.0",
            "_view_count": null,
            "flex_flow": null,
            "width": null,
            "min_width": null,
            "border": null,
            "align_items": null,
            "bottom": null,
            "_model_module": "@jupyter-widgets/base",
            "top": null,
            "grid_column": null,
            "overflow_y": null,
            "overflow_x": null,
            "grid_auto_flow": null,
            "grid_area": null,
            "grid_template_columns": null,
            "flex": null,
            "_model_name": "LayoutModel",
            "justify_items": null,
            "grid_row": null,
            "max_height": null,
            "align_content": null,
            "visibility": null,
            "align_self": null,
            "height": null,
            "min_height": null,
            "padding": null,
            "grid_auto_rows": null,
            "grid_gap": null,
            "max_width": null,
            "order": null,
            "_view_module_version": "1.2.0",
            "grid_template_areas": null,
            "object_position": null,
            "object_fit": null,
            "grid_auto_columns": null,
            "margin": null,
            "display": null,
            "left": null
          }
        },
<<<<<<< HEAD
        "371d56d2bdcd44139eb6c9f53c3a2740": {
=======
        "87dea3b317074b8eb6fc66aa159875fb": {
>>>>>>> Hakuri
          "model_module": "@jupyter-widgets/controls",
          "model_name": "SliderStyleModel",
          "state": {
            "_view_name": "StyleView",
            "handle_color": null,
            "_model_name": "SliderStyleModel",
<<<<<<< HEAD
            "description_width": "initial",
=======
            "description_width": "",
>>>>>>> Hakuri
            "_view_module": "@jupyter-widgets/base",
            "_model_module_version": "1.5.0",
            "_view_count": null,
            "_view_module_version": "1.2.0",
            "_model_module": "@jupyter-widgets/controls"
          }
        },
<<<<<<< HEAD
        "48db1964c9d24834a6b344690f76a774": {
=======
        "c59d72ea0fb54865b72507720844d6bf": {
>>>>>>> Hakuri
          "model_module": "@jupyter-widgets/base",
          "model_name": "LayoutModel",
          "state": {
            "_view_name": "LayoutView",
            "grid_template_rows": null,
            "right": null,
            "justify_content": null,
            "_view_module": "@jupyter-widgets/base",
            "overflow": null,
            "_model_module_version": "1.2.0",
            "_view_count": null,
            "flex_flow": null,
            "width": null,
            "min_width": null,
            "border": null,
            "align_items": null,
            "bottom": null,
            "_model_module": "@jupyter-widgets/base",
            "top": null,
            "grid_column": null,
            "overflow_y": null,
            "overflow_x": null,
            "grid_auto_flow": null,
            "grid_area": null,
            "grid_template_columns": null,
            "flex": null,
            "_model_name": "LayoutModel",
            "justify_items": null,
            "grid_row": null,
            "max_height": null,
            "align_content": null,
            "visibility": null,
            "align_self": null,
            "height": null,
            "min_height": null,
            "padding": null,
            "grid_auto_rows": null,
            "grid_gap": null,
            "max_width": null,
            "order": null,
            "_view_module_version": "1.2.0",
            "grid_template_areas": null,
            "object_position": null,
            "object_fit": null,
            "grid_auto_columns": null,
            "margin": null,
            "display": null,
            "left": null
          }
        },
<<<<<<< HEAD
        "6cbfb9e66f4e43a89360b25ad140dc21": {
=======
        "a0ac21f3018840f085202b2bb3f610d8": {
          "model_module": "@jupyter-widgets/controls",
          "model_name": "DescriptionStyleModel",
          "state": {
            "_view_name": "StyleView",
            "_model_name": "DescriptionStyleModel",
            "description_width": "",
            "_view_module": "@jupyter-widgets/base",
            "_model_module_version": "1.5.0",
            "_view_count": null,
            "_view_module_version": "1.2.0",
            "_model_module": "@jupyter-widgets/controls"
          }
        },
        "3dc0bf2e17034d01b92a96d8c88e9c09": {
          "model_module": "@jupyter-widgets/base",
          "model_name": "LayoutModel",
          "state": {
            "_view_name": "LayoutView",
            "grid_template_rows": null,
            "right": null,
            "justify_content": null,
            "_view_module": "@jupyter-widgets/base",
            "overflow": null,
            "_model_module_version": "1.2.0",
            "_view_count": null,
            "flex_flow": null,
            "width": null,
            "min_width": null,
            "border": null,
            "align_items": null,
            "bottom": null,
            "_model_module": "@jupyter-widgets/base",
            "top": null,
            "grid_column": null,
            "overflow_y": null,
            "overflow_x": null,
            "grid_auto_flow": null,
            "grid_area": null,
            "grid_template_columns": null,
            "flex": null,
            "_model_name": "LayoutModel",
            "justify_items": null,
            "grid_row": null,
            "max_height": null,
            "align_content": null,
            "visibility": null,
            "align_self": null,
            "height": null,
            "min_height": null,
            "padding": null,
            "grid_auto_rows": null,
            "grid_gap": null,
            "max_width": null,
            "order": null,
            "_view_module_version": "1.2.0",
            "grid_template_areas": null,
            "object_position": null,
            "object_fit": null,
            "grid_auto_columns": null,
            "margin": null,
            "display": null,
            "left": null
          }
        },
        "e0843c8687e743d1b8ba52d086bd45eb": {
>>>>>>> Hakuri
          "model_module": "@jupyter-widgets/base",
          "model_name": "LayoutModel",
          "state": {
            "_view_name": "LayoutView",
            "grid_template_rows": null,
            "right": null,
            "justify_content": null,
            "_view_module": "@jupyter-widgets/base",
            "overflow": null,
            "_model_module_version": "1.2.0",
            "_view_count": null,
            "flex_flow": null,
            "width": null,
            "min_width": null,
            "border": null,
            "align_items": null,
            "bottom": null,
            "_model_module": "@jupyter-widgets/base",
            "top": null,
            "grid_column": null,
            "overflow_y": null,
            "overflow_x": null,
            "grid_auto_flow": null,
            "grid_area": null,
            "grid_template_columns": null,
            "flex": null,
            "_model_name": "LayoutModel",
            "justify_items": null,
            "grid_row": null,
            "max_height": null,
            "align_content": null,
            "visibility": null,
            "align_self": null,
            "height": null,
            "min_height": null,
            "padding": null,
            "grid_auto_rows": null,
            "grid_gap": null,
            "max_width": null,
            "order": null,
            "_view_module_version": "1.2.0",
            "grid_template_areas": null,
            "object_position": null,
            "object_fit": null,
            "grid_auto_columns": null,
            "margin": null,
            "display": null,
            "left": null
          }
        }
      }
    }
  },
  "cells": [
    {
<<<<<<< HEAD
=======
      "cell_type": "markdown",
      "metadata": {
        "id": "UKmvg4dBQvTT",
        "colab_type": "text"
      },
      "source": [
        "# LGBIO2060 - Exercise session 1\n",
        "# Sequential probability ratio test and urgency gating\n"
      ]
    },
    {
      "cell_type": "markdown",
      "metadata": {
        "id": "JFUQpn3td9Zk",
        "colab_type": "text"
      },
      "source": [
        "## Imports and helper functions\n",
        "Please execute the cell(s) below to initialize the notebook environment."
      ]
    },
    {
>>>>>>> Hakuri
      "cell_type": "code",
      "metadata": {
        "id": "tg1WKjlfQuXF",
        "colab_type": "code",
<<<<<<< HEAD
=======
        "cellView": "both",
>>>>>>> Hakuri
        "colab": {}
      },
      "source": [
        "import numpy as np\n",
        "import matplotlib.pyplot as plt\n",
<<<<<<< HEAD
        "\n",
        "\n",
        "# Some helper functions\n",
=======
        "from scipy.stats import norm\n"
      ],
      "execution_count": null,
      "outputs": []
    },
    {
      "cell_type": "code",
      "metadata": {
        "id": "I_77qbA4d2Ee",
        "colab_type": "code",
        "colab": {}
      },
      "source": [
        "# @title Some helper functions\n",
>>>>>>> Hakuri
        "\n",
        "def plot_my_gaussian(x,px):\n",
        "  \"\"\"\n",
        "  This function plots a Gaussian distribution\n",
        "\n",
        "  Inputs : x (numpy array) along which we want to represent the distribution\n",
        "           px(numpy array) values taken by the distribution\n",
        "  \"\"\"\n",
        "\n",
        "  fig, ax=plt.subplots()\n",
        "  ax.plot(x,px,'C1',LineWidth=2,label='Estimated state')\n",
<<<<<<< HEAD
        "  ax.axvline(x[px.argmax()],'C2,label='Latent state')\n",
=======
        "  ax.axvline(x[px.argmax()],label='Latent state')\n",
>>>>>>> Hakuri
        "  ax.legend()\n",
        "  ax.set_ylabel('Probability')\n",
        "  ax.set_xlabel('Value')\n",
        "\n",
        "  return ax"
      ],
      "execution_count": null,
      "outputs": []
    },
    {
      "cell_type": "markdown",
      "metadata": {
<<<<<<< HEAD
        "id": "UKmvg4dBQvTT",
        "colab_type": "text"
      },
      "source": [
        "# LGBIO 2060 - Exercise session 1\n",
        "# Sequential probability ratio test and urgency gating\n",
        "\n",
        "Contents : "
      ]
    },
    {
      "cell_type": "markdown",
      "metadata": {
=======
>>>>>>> Hakuri
        "id": "QiIIrg38RKLh",
        "colab_type": "text"
      },
      "source": [
<<<<<<< HEAD
        "# Part 1 : Gaussian distribution - Inferring the world through sensitive input\n",
        "When we try to estimate the exact position of our gaze or limb based on  sensory inputs (vision, proprioception), we always end up with an erroneous estimate. This means that, even though we have perfectly working sensory inputs, they are influenced by noise and therefore the inferred latent state will be a noisy approximation of the real latent state. For example, if the exact position of the tip of your fingernail in a given cartesian space is $[2 cm, 3cm]$, you might end up with an estimate which is $[1.95 cm, 3.07 cm]$ when you rely on sensory input to find it. \\\\\n",
=======
        "___\n",
        "# Part 1 : Gaussian distribution - Inferring the world through sensitive input\n",
        "\n",
        "*Click [here](https://github.com/fblondiaux/LGBIO2060-2020/blob/Hakuri/WorkFromHomeText/TP1-Part1.txt) for more context if you work from home*.\n",
>>>>>>> Hakuri
        "\n",
        "\n",
        "The noisy observation of the latent state can be modelled by a Gaussian distribution whose mean is the value of the latent state and whose variance characterises the amount of noise present in the system. We can therefore write that the observation $y$ of the state $\\mu$ is such that :\n",
        "\n",
        "\\\\\n",
        "\n",
        "$$\n",
        "y\\sim\\mathcal{N}\\left(\\mu,\\, \\sigma^2\\right)\n",
        "$$\n",
        "\n",
        "\\\\\n",
        "\n",
        "\n",
        "As a reminder, au Gaussian distribution is characterised by the following equation : \\\\\n",
        "\n",
        "\n",
        "$$\\mathcal{N}\\left(\\mu,\\sigma^2\\right) = \\frac{1}{\\sqrt{2\\pi \\sigma^2}}\\exp\\left(\\frac{-\\left(x-\\mu\\right)^2}{2\\sigma^2}\\right)$$\n",
        "\n",
        "**Exercise 1**\n",
        "\n",
        "Implement a function that creates a gaussian distribution given its parameters and the *x* vector whose signature is given below\n"
      ]
    },
    {
      "cell_type": "code",
      "metadata": {
        "id": "gVyupXhkUqc-",
        "colab_type": "code",
<<<<<<< HEAD
        "colab": {
          "base_uri": "https://localhost:8080/",
          "height": 297
        },
        "outputId": "899a5316-e1ec-4833-b350-39ed3f22b573"
=======
        "colab": {}
>>>>>>> Hakuri
      },
      "source": [
        "def my_gaussian(x_vector,mu,sigma):\n",
        "  \"\"\"\n",
        "  This function computes the Gaussian distribution of parameters mu and sigma \n",
        "  over the set x_vector\n",
        "  \n",
        "  Inputs :\n",
        "    x_vector is the set over which we want to evaluate the distribution\n",
        "    mu is the mean value of the distribution\n",
        "    sigma is the standard deviation of the distribution\n",
        "\n",
        "  Outputs : \n",
<<<<<<< HEAD
        "    px is a numpy array that contains the value of the distribution evaluate at \n",
=======
        "    px is a numpy array that contains the value of the distribution evaluated at \n",
>>>>>>> Hakuri
        "    every points of the set x_vector\n",
        "  \"\"\"\n",
        "  ################\n",
        "  #your code here#\n",
        "  ################\n",
        "\n",
        "  return px\n",
        "\n",
        "# Test your function on a gaussian of mean 0, variance 1 that you compute over\n",
        "# the set [-5,5]. Create a graphical representation of your distribution\n",
        "\n",
        "################\n",
        "#your code here#\n",
        "################"
      ],
      "execution_count": null,
<<<<<<< HEAD
      "outputs": [
        {
          "output_type": "execute_result",
          "data": {
            "text/plain": [
              "Text(0, 0.5, 'Probability')"
            ]
          },
          "metadata": {
            "tags": []
          },
          "execution_count": 16
        },
        {
          "output_type": "display_data",
          "data": {
            "image/png": "iVBORw0KGgoAAAANSUhEUgAAAYgAAAEGCAYAAAB/+QKOAAAABHNCSVQICAgIfAhkiAAAAAlwSFlzAAALEgAACxIB0t1+/AAAADh0RVh0U29mdHdhcmUAbWF0cGxvdGxpYiB2ZXJzaW9uMy4yLjIsIGh0dHA6Ly9tYXRwbG90bGliLm9yZy+WH4yJAAAgAElEQVR4nO3deZhU1bX38e+P0QkQhKAyCCpGMCpoi1MEBRklEBNUjCYa9TpEotHkRnPNG43Jk+uQmMEQo1eNcxBxQhwAu1FxhEYQBSUCDoAaQRAcGGxY7x/7VCiaoru6u06fGtbnec5TdeZVPdQ6Z+999paZ4ZxzzlXXJOkAnHPO5SdPEM455zLyBOGccy4jTxDOOecy8gThnHMuo2ZJB5Ar7du3t27duiUdhnPOFZTZs2evNLMOmdYVTYLo1q0blZWVSYfhnHMFRdJ721vnRUzOOecy8gThnHMuI08QzjnnMvIE4ZxzLiNPEM455zKKNUFIGippoaRFki6vYbvvSjJJZWnLfhHtt1DSkDjjdM45t63YmrlKagqMAwYBy4BZkiaZ2YJq27UCLgZeSVvWCxgDHADsCTwtaT8z2xRXvM4557YW5x1EX2CRmS0xs43AeGBUhu1+A1wLrE9bNgoYb2YbzOwdYFF0POcKz1dfQXk53HADzJ0L3sW+KxBxJohOwNK0+WXRsv+QdAjQxcwer+u+0f7nSqqUVLlixYrcRO1crrzzDvzwh7D77nD88fDTn0KfPrDPPnDZZfD550lH6FyNEqukltQEuAH4aX2PYWa3mFmZmZV16JDxSXHnkrFgARx9NEycCCecAA8/DO+9B7feCj17wu9/D4MHw6efJh2pc9sVZ1cby4EuafOdo2UprYBvAM9IAtgdmCRpZBb7Ope/Xn01fPm3aAEvvwwHHLBl3dlnh+mhh2DMGDjuOJg6FfwCx+WhOO8gZgE9JHWX1IJQ6TwptdLM1phZezPrZmbdgJeBkWZWGW03RlJLSd2BHsDMGGN1LjcqK2HAANh5Z3juua2TQ7rvfAcmTYK33oL+/WHlysaN07ksxJYgzKwKGAtMAd4EJpjZfElXR3cJNe07H5gALACeAi70Fkwu761fD6edBm3awIwZsO++NW8/dCg8+SQsWgQXXdQ4MTpXB7IiaVFRVlZm3purS9QVV8DvfheKjAYNyn6/X/8arroKJk8O9RXONSJJs82sLNM6f5LauVx47TW47jo444y6JQeAyy+HXr3gggvgs8/iic+5evAE4VxDVVXBOedAu3bhWYe6atkytG5atgz+539yH59z9eQJwrmGGjcuVE7feGNIEvVx5JHw4x+HY73ySu3bO9cIvA7CuYZYvx66dw+tlaZNg9Bku34++wz23hsOPzzURzjXCLwOwrm43HEHfPRRqKBuSHIAaNUKLr4YHn8c5s3LSXjONYQnCOfqq6oqVEwffjgce2xujnnhhbDLLnDNNbk5nnMN4AnCufqaMCH0t3T55Q2/e0hp2za0Zrr/fli8ODfHdK6ePEE4Vx+bN8P//m9onjqyxuc+6+6SS6B5c7j++twe17k68gThXH08/ji88UbolbVJjv+N9tgDzjwT/vEP+OCD3B7buTrwBOFcffzpT9C1K5x6ajzH//nPQx3HTTfFc3znsuAJwrm6eucdqKgID8c1bx7POfbeO/QIe+edsMm7IXPJ8AThXF3dcUeolD7jjHjPc9ZZsHRpGI3OuQR4gnCuLjZtCnUDgwaFIqY4jRwZnsy+/fZ4z+PcdniCcK4uKirCVf1ZZ8V/rpYt4fTTw2h0q1bFfz7nqvEE4Vxd3H57eFZh1KjGOd9ZZ8HGjXDffY1zPufSxJogJA2VtFDSIkmXZ1h/vqTXJc2V9LykXtHybpLWRcvnSvp7nHE6l5VVq8LV/GmnwQ47NM45Dz4YDjnEi5lcImJLEJKaAuOAYUAv4NRUAkhzn5kdaGa9geuA9L6SF5tZ72g6P644ncvaP/8JGzaEMaUb01lnwZw5YXKuEcV5B9EXWGRmS8xsIzAe2Oq+3MzWps3uDBRH17KuON11F/TuHabGdOqp0KIF3H13457Xlbw4E0QnYGna/LJo2VYkXShpMeEOIn1g3u6S5kh6VtIxmU4g6VxJlZIqV6xYkcvYndvae+/BzJkwZkzjn7tdOxgyBCZODF18ONdIEq+kNrNxZrYPcBnwy2jxh0BXM+sDXArcJ6l1hn1vMbMyMyvr0KFD4wXtSs+DD4bX0aOTOf/o0aH11KxZyZzflaQ4E8RyoEvafOdo2faMB74NYGYbzOyT6P1sYDGwX0xxOle7iROhTx/YZ59kzj9yZHhq+4EHkjm/K0lxJohZQA9J3SW1AMYAk9I3kNQjbfYE4O1oeYeokhtJewM9gCUxxurc9i1bBi+9lNzdA8Cuu4aH8yZOhCIZBdLlv9gShJlVAWOBKcCbwAQzmy/pakmp/pHHSpovaS6hKCnVd0E/YF60fCJwvpn5k0IuGUkXL6WMHh3qQmbPTjYOVzJ8TGrnanPMMbB2Lbz2WrJxrFoFHTvCpZfCtdcmG4srGj4mtXP19cEH8MILyd89QGjNNHCgFzO5RuMJwrmaPPxw+DLOhwQBIY4lS2Du3KQjcSXAE4RzNZk4EQ44AHr2TDqS4NvfhqZNQ1zOxcwThHPbs3o1zJjReB3zZaN9+1An8thjSUfiSoAnCOe2Z8qUMP7Dt76VdCRbGzECXn89tGhyLkaeIJzbnsmTwxX7YYclHcnWTjghvD7+eLJxuKLnCcK5TDZtgiefhOHDQ5l/Pvn618MT3Z4gXMw8QTiXycsvh+cORoxIOpJtSSGu8nL44ouko3FFzBOEc5lMngzNmsHgwUlHktmIEWFsioqKpCNxRcwThHOZTJ4M/fpBmzZJR5JZv36wyy5ezORi5QnCuerefRfeeGNLZXA+atEi3N1MnuxPVbvYeIJwrrrUVXk+1j+kGzECli9Pvo8oV7Q8QThX3eOPQ48esF+eD0EyfHh4nTw52Thc0fIE4Vy6detg+vQtX775rGPH8IzGU08lHYkrUp4gnEs3YwasXw9DhyYdSXaGDAlNctesSToSV4Q8QTiXburUUAHcr1/SkWRn8ODwUJ83d3UxiDVBSBoqaaGkRZIuz7D+fEmvS5or6XlJvdLW/SLab6GkIXHG6dx/TJkSOsPbaaekI8nOEUdAq1YhbudyLLYEEY0pPQ4YBvQCTk1PAJH7zOxAM+sNXAfcEO3bizCG9QHAUOBvqTGqnYvNBx+E5q1DCuh6pHlzGDAgJAhv7upyLM47iL7AIjNbYmYbgfHAVv0mm9natNmdgdRf+ChgvJltMLN3gEXR8ZyLz9Sp4TVfn57ensGDw7MbixYlHYkrMnEmiE7A0rT5ZdGyrUi6UNJiwh3ERXXc91xJlZIqV6xYkbPAXYmaOjW0DDrwwKQjqZtUQkslOOdyJPFKajMbZ2b7AJcBv6zjvreYWZmZlXXo0CGeAF1p2LwZpk0LX7ZNEv+3qJt994W99/YE4XIuzv+E5UCXtPnO0bLtGQ98u577Otcwc+bAypWFV7yUMnhwaMm0cWPSkbgiEmeCmAX0kNRdUgtCpfOk9A0k9UibPQF4O3o/CRgjqaWk7kAPYGaMsbpSl7r6HjQo2Tjqa8gQ+Pzz8EyEcznSLK4Dm1mVpLHAFKApcLuZzZd0NVBpZpOAsZKOB74CVgNnRPvOlzQBWABUARea2aa4YnWOKVOgd+9QB1GIjjsuDGw0ZUrhPMPh8p6sSJrGlZWVWWVlZdJhuEL0xRfQti385Cdw3XVJR1N/3/xmKGKa6TfbLnuSZptZWaZ1BVYb51wMZsyAr74q3OKllOOPh9mzYfXqpCNxRcIThHNPPx261zj66KQjaZiBA0NrrGeeSToSVyQ8QThXXg5HHVU43Wtsz+GHh89QXp50JK5IeIJwpW3lSpg7N1x9F7oWLaB/f08QLmc8QbjSNn16eD3++GTjyJWBA+Gtt8JIc841kCcIV9qefhpat4ayjI04Ck/qTsjvIlwOeIJwpa28PBTLNIvtkaDGddBB0L69JwiXE54gXOl6911YvLg46h9SmjQJ3X+Xl3v3367BPEG40pW6yi6mBAHh8yxfDgsXJh2JK3CeIFzpKi8PXWsccEDSkeRWqsLdi5lcA3mCcKXJLPR+OnAgSElHk1t77w3dunmCcA3mCcKVpgUL4N//DuX1xWjgwPBE9Sbv49LVnycIV5oqKsJrsdU/pAwYEPpkeu21pCNxBcwThCtNFRXQvXsoiilGxx0XXlOJ0Ll68AThSs+mTaH4pViLlwD22AN69vQE4RrEE4QrPXPnwqefFneCgPD5nnsudGXuXD3EmiAkDZW0UNIiSZdnWH+ppAWS5kkql7RX2rpNkuZG06Tq+zpXb6n+l1LFMMVqwIAwGJIPpOXqKbYEIakpMA4YBvQCTpXUq9pmc4AyMzsImAikD+e1zsx6R9PIuOJ0JaiiAvbfPxTDFLP+/UMTXi9mcvUU5x1EX2CRmS0xs43AeGBU+gZmNt3MvoxmXwY6xxiPc6G45bnnir94CWC33eDggz1BuHqLM0F0ApamzS+Llm3P2cCTafM7SKqU9LKkb2faQdK50TaVK1asaHjErvjNmhWKXUohQUD4nC+8AOvXJx2JK0BZJQhJ35IUZ3HU6UAZcH3a4r2igbS/B/xJ0j7V9zOzW8yszMzKOnToEFd4rpikrqaPPTbRMBrNgAGwYQO89FLSkbgClO2X/inA25Kuk7R/lvssB7qkzXeOlm1F0vHAFcBIM9uQWm5my6PXJcAzQJ8sz+vc9lVUQO/eofilFBxzDDRt6sVMrl6yShBmdjrhC3oxcIekl6LinVY17DYL6CGpu6QWwBhgq9ZIkvoANxOSw8dpy9tKahm9bw8cDSyow+dyblvr18OLL5ZO8RKEwZAOO8wThKuXrIuNzGwtoaXReGAP4ETgVUk/3s72VcBYYArwJjDBzOZLulpSqlXS9cAuwAPVmrP2BColvQZMB64xM08QrmFeeikUtxR789bqBgyAmTPh88+TjsQVmKyG0ZI0CjgT2Be4C+hrZh9L2olwZX9jpv3M7AngiWrLfpX2PuNAwGb2InBgNrE5l7WKilDc0q9f0pE0rgED4He/g+efh6FDk47GFZBs7yC+A/zRzA40s+tTxUFRE9WzY4vOuVyqqAhjT7dunXQkjeuoo6BFCy9mcnWWbYL4yMyeS18g6VoAM/NO513+++yzUMxSSvUPKTvuCEce6QnC1Vm2CWJQhmXDchmIc7F6/nmoqirNBAHhc7/6augC3Lks1ZggJF0g6XVg/6i/pNT0DjCvcUJ0LgcqKkIxy1FHJR1JMgYMCKPoPfts0pG4AlJbJfV9hKeb/xdI72zvMzNbFVtUzuXa9OmhmGWnnZKOJBl9+4bPPn06fDtjxwTObaO2IiYzs3eBC4HP0iYktYs3NOdyZPXqULxSqsVLEO6ejjnG6yFcndSWIO6LXmcDldHr7LR55/Lfs8+G4pVSe/6huuOOgzfeCGNxO5eFGouYzGxE9Nq9ccJxLgYVFaElz+GHJx1JslJ3UM88A6eckmgorjDUmCAkHVLTejN7NbfhOBeDiopQvNKiRdKRJKtPH2jTJvw8PEG4LNRWSf2HGtYZUMKFuq4g/PvfMH8+fP/7SUeSvGbNwiBC5f7okstObUVMJV5o6wpeqlK2lCuo0w0YAJMmwfvvQ9euSUfj8lxtRUwDzKxC0ncyrTezh+IJy7kcKS+HXXeFQ2osLS0dAweG1/Jy+OEPk43F5b3aipj6AxXAtzKsM8AThMtv5eVhcKCmTZOOJD8ccAB07OgJwmWltiKmK6NX/0tyhWfJEnj3XfjpT5OOJH9IoZipvDw0/ZWSjsjlsWyHHN1N0l8kvSpptqQ/SyqRIblcwXr66fB6fMZe5UvXwIHw0UewwIdYcTXLtrO+8cAK4LvA6Oj9/XEF5VxOlJfDnnvC17+edCT5Jb0ewrkaZJsg9jCz35jZO9H0W6BjbTtJGippoaRFki7PsP5SSQuiDgDLJe2Vtu4MSW9H0xnZfyTngM2bQwumgQO9GKW6bt1g7709QbhaZZsgpkoaI6lJNJ1MGEp0uyQ1BcYRugXvBZwqqVe1zeYAZWZ2EGE40+uifdsBVwKHA32BKyW1zfZDOcfrr8PKlVuult3WBg4MT1RXVSUdictjtXX3/ZmktcB/Efpl2hhN44Fzazl2X2CRmS0xs9Q+o9I3MLPp0ah0AC8DnaP3Q4BpZrbKzFYD0wAfK9FlL3V17Akis4EDYe1amD076UhcHqsxQZhZKzNrHb02MbNm0dTEzGobt7ETsDRtflm0bHvOJnQtnvW+ks6VVCmpcsWKFbWE40pKeTnstx907lz7tqUo9eCgFzO5GmRbxISktpL6SuqXmnIVhKTTgTLg+rrsZ2a3mFmZmZV16NAhV+G4QrdxY+jB1e8etq9DBzj44C0tvZzLINtmrucAzxHqHX4dvV5Vy27LgS5p852jZdWPfTxwBTDSzDbUZV/nMpo5E774whNEbQYOhBdfhHXrko7E5als7yAuBg4D3ov6Z+oDfFrLPrOAHpK6S2oBjAEmpW8gqQ9wMyE5fJy2agowOLpraQsMppZKcef+Y9o0aNLE+1+qzaBBsGEDzJiRdCQuT2WbINab2XoASS3N7C2gxsblZlYFjCV8sb8JTDCz+ZKuljQy2ux6YBfgAUlzJU2K9l0F/IaQZGYBV/sQpy5rU6fCYYdBW2/4VqN+/UIX6FOnJh2Jy1O19cWUskzSrsAjwDRJq4H3atvJzJ4Anqi27Fdp77f7iKuZ3Q7cnmV8zgWffhqKmK64IulI8t9OO8E3vxnuuJzLIKs7CDM70cw+NbOrgP8H3Ab4yOcu/1RUhIfkBg1KOpLCMGgQzJsHH36YdCQuD9WlFdMhki4CDgKWRc82OJdfpk2DXXaBI45IOpLCMHhwePXWTC6DbFsx/Qq4E9gNaA/8Q9Iv4wzMuXqZOhWOOw6aN086ksLQuze0b+/FTC6jbOsgTgMOTquovgaYC/w2rsCcq7PFi0MX35dcknQkhaNJk9Db7dSp3v2320a2RUwfADukzbfEn0tw+SZ1Fez1D3UzeHAYu/v115OOxOWZ2oYcvZEwctwaYL6kadH8IGBm/OE5VwfTpoVxlvfbL+lICksqoU6bBgcdlGwsLq/UVsRUGb3OBh5OW/5MLNE4V19VVaFfoZNO8mKSuurcGXr2DMVMPvqeS1PbkKN3pt5HT0OnLs0WmtlXcQbmXJ3MmgVr1njxUn0NHgw33xy63dhxx6SjcXki21ZMxwJvE8Z3+Bvwr1x21udcgz31VKhw9f6X6mfIEFi/Hp57LulIXB7JtpL6D8BgM+tvZv0I4zX8Mb6wnKujJ5+Eww+H3Xyo9Ho59ljYYYfwc3Qukm2CaG5mC1MzZvYvwBuau/zw8cehiGn48KQjKVw77hieH3niidq3dSUj2wQxW9Ktko6Npv9jSwW2c8maEnX0O2xYsnEUumHD4O23w/MkzpF9gjgfWABcFE0LgAviCsq5OnniCfja16BPn6QjKWypBOvFTC5S65PUkpoCr5nZ/sAN8YfkXB1s2hTuIEaODJXUrv723Rd69AgJd+zYpKNxeaDW/ygz2wQslNS1EeJxrm5eeQVWr/bipVwZNgymT/dR5hyQfRFTW8KT1OWSJqWm2naSNFTSQkmLJF2eYX0/Sa9KqpI0utq6TdEgQnOzOZcrUU8+Ge4cUr2SuoYZPjw0d33mmaQjcXkg2876/l9dDxwVTY0jdMuxDJglaZKZLUjb7H3gTOBnGQ6xzsx61/W8rsQ88QQceaSPHpcr/fuHFk1PPul3Za7Wvph2IFRQ7wu8DtwWDSWajb7AIjNbEh1rPDCKUMENgJm9G63bXOfInfvoI3j1VfitdyqcMzvsEJq7ekW1o/YipjuBMkJyGEZ4YC5bnYClafPLomXZ2kFSpaSXJfnodW5bTz0VXv1KN7eGD4dFi+Bf/0o6Epew2hJELzM73cxuBkYDxzRCTCl7mVkZ8D3gT5L2qb6BpHOjJFK5YsWKRgzN5YVJk6BTJ2/emmsjRoTXxx5LNg6XuNoSxH865KtD0VLKcqBL2nxn6jCGhJktj16XEHqP3eZbwMxuMbMyMyvr0KFDHcNzBW3dui3NW7331tzaay84+GB49NGkI3EJqy1BHCxpbTR9BhyUei9pbS37zgJ6SOoe9QQ7BsiqNZKktpJaRu/bA0eTVnfhHBUV8OWXIUG43Bs5El54AVauTDoSl6AaE4SZNTWz1tHUysyapb1vXcu+VcBYYArwJjDBzOZLulrSSABJh0laBpwE3CxpfrR7T6BS0mvAdOCaaq2fXKl79FFo1SpUqLrcGzUKNm+Gxx9POhKXIJlZ0jHkRFlZmVVWevdQJWHz5lD3cMwxMGFC0tEUJzPo0gX69oWHHko6GhcjSbOj+t5teN8ErvDMmhWauI4alXQkxUsKxUxTpoQH51xJ8gThCs+kSdC0qTdvjduoUaGep7w86UhcQjxBuMLz6KPQrx+0a5d0JMXt2GNDPY+3ZipZniBcYVm8GObP9+KlxtCyJQwdGp6H2OydHZQiTxCusKSuZr15a+MYOTLU98ycmXQkLgGeIFxhmTgReveG7t2TjqQ0jBgBzZuHn7srOZ4gXOFYuhReeglOPjnpSErHrruGrtQfeCA0fXUlxROEKxypq9iTTko2jlJz0knw/vtezFSCPEG4wjFhQihe2nffpCMpLaNGhWKmBx5IOhLXyDxBuMLw/vvw8stevJQEL2YqWZ4gXGHw4qVknXyyFzOVIE8QrjA88IAXLyVp5EgvZipBniBc/vPipeTtuisMGeLFTCXGE4TLf168lB9SrZleeSXpSFwj8QTh8t8998Chh3rxUtJGjYIddoB77006EtdIPEG4/Pb66zBnDpxxRtKRuDZtQpL45z9h48ako3GNINYEIWmopIWSFkm6PMP6fpJelVQlaXS1dWdIejua/NuhVN11FzRrBmPGJB2Jg5CoP/kEnngi6UhcI4gtQUhqCowDhgG9gFMl9aq22fvAmcB91fZtB1wJHA70Ba6U1DauWF2eqqoKxUvDh0OHDklH4wAGDYKOHUPidkUvzjuIvsAiM1tiZhuB8cBWfTSb2btmNg+o3pfwEGCama0ys9XANGBojLG6fFReHnoS/cEPko7EpTRrBqedBpMnhzsJV9TiTBCdgKVp88uiZTnbV9K5kiolVa5YsaLegbo8dddd0LZt6FHU5Y8f/AC++gruvz/pSFzMCrqS2sxuMbMyMyvr4EUQxWXtWnj44VD30LJl0tG4dAcfDAcd5MVMJSDOBLEc6JI23zlaFve+rhg8+CCsW+fFS/nqBz8Iz0MsXJh0JC5GcSaIWUAPSd0ltQDGAJOy3HcKMFhS26hyenC0zJWKW2+F/faDww9POhKXyfe+B02bwm23JR2Ji1FsCcLMqoCxhC/2N4EJZjZf0tWSRgJIOkzSMuAk4GZJ86N9VwG/ISSZWcDV0TJXCubNgxdfhPPOAynpaFwme+wRnom4/XZYvz7paFxMZEXSr0pZWZlVVlYmHYbLhQsugDvugOXLoV27pKNx2/P006HZ6913w+mnJx2NqydJs82sLNO6gq6kdkVo7drwhXPKKZ4c8t2AAdCjB/ztb0lH4mLiCcLll3vugS++gB/9KOlIXG2aNAl3ey+9BK+9lnQ0LgaeIFz+MIObboJDDoHDDks6GpeNM84IHfjddFPSkbgYeIJw+eOFF+CNN8JVqVdOF4Z27cKzKvfcE4oHXVHxBOHyx7hxocfQU09NOhJXFxdcEIoF/cG5ouMJwuWHd96BCRPgnHNg552TjsbVxWGHwRFHwB/+EDpYdEXDE4TLD3/4Q3jw6pJLko7E1ZUEl10G777rY1YXGU8QLnkrVoQHrk4/HTpl25+jyysjR8L++8O11/qY1UXEE4RL3o03hn6X/vu/k47E1VeTJuH399prMHVq0tG4HPEE4ZL1+efw17+Gbht69kw6GtcQp50Ge+4Z7iJcUfAE4ZJ1662wejVcvs2ItK7QtGwJl14K06fDrFlJR+NywBOES86XX8L110O/fqEVjCt8554Lu+4Kv/510pG4HPAE4ZJz443wwQfw298mHYnLlVatQoumxx+H559POhrXQJ4gXDJWr4ZrroETToBjjkk6GpdLF10UugO/7DJv0VTgPEG4ZFx7LaxZA7/7XdKRuFzbaSe48sowpsfkyUlH4xrAE4RrfMuXw5//HFq9HHRQ0tG4OJx1VugK/Be/gE2bko7G1VOsCULSUEkLJS2StE0zFUktJd0frX9FUrdoeTdJ6yTNjaa/xxmna2S//nX40rj66qQjcXFp3jzULc2fHzrycwUptgQhqSkwDhgG9AJOldSr2mZnA6vNbF/gj0B6A+rFZtY7ms6PK07XyGbNCk1bf/Qj6N496WhcnEaPhr59Q13Ep58mHY2rhzjvIPoCi8xsiZltBMYDo6ptMwq4M3o/ERgoeT/PRauqKowzvfvu3gyyFDRpEsaJWLECrrgi6WhcPcSZIDoBS9Pml0XLMm5jZlXAGmC3aF13SXMkPSspYzMXSedKqpRUuWLFitxG73Jv3DiYMwf+9KfQrbcrfoccAj/+cUgUM2cmHY2ro3ytpP4Q6GpmfYBLgfskta6+kZndYmZlZlbWoUOHRg/S1cGyZfDLX8LQoXDSSUlH4xrT1VeHZq/nnefdgReYOBPEcqBL2nznaFnGbSQ1A9oAn5jZBjP7BMDMZgOLgf1ijNXFySy0ja+qCncRXopYWlq3hr/8BebODa3XXMGIM0HMAnpI6i6pBTAGmFRtm0nAGdH70UCFmZmkDlElN5L2BnoAS2KM1cXpH/+Ahx+Gq66CvfdOOhqXhO98J3QJfsUVocdXVxBiSxBRncJYYArwJjDBzOZLulrSyGiz24DdJC0iFCWlmsL2A+ZJmkuovD7fzFbFFauL0VtvhTLo446Dn/0s6WhcUqTQei01hvUXXyQdkcuCrEgehS8rK7PKysqkw3Dp1q8PnfAtWxauGn0wIFdRAccfHx6ku/XWpKNxgKTZZsIXoT8AAAzwSURBVFaWaV2+VlK7YvDzn4fEcMcdnhxcMGBAeLr6tttg/Piko3G18ATh4nHbbaG31osvhhEjko7G5ZOrroKjjoKzz4bZs5OOxtXAE4TLvalTQ5PGIUPCeA/OpWveHB58EDp0CBcP772XdERuOzxBuNyaNy90sXDAATBhQvgycK663XeHJ54IY5EPH+5dceQpTxAudxYtCuM7tG4dBoxpvc2zjc5t0atXaP789tthTPLPP086IleNJwiXGwsWhKFD160LV4adOycdkSsExx0Hd90FL7wQiiT9TiKveIJwDTdnDvTvH56YfvZZH+PB1c2YMXD//aGn34EDYeXKpCNyEU8QrmGeeipcBe64Izz3XKh7cK6uvvtdeOSRcCd6zDGwcGHSETk8Qbj62rwZfvObUMG4114wY0YYQcy5+ho+PFxwrFwJhx0WEoZLlCcIV3cffxwqFX/1qzBs6EsvhSThXEP17x+ejdh/fzjxxDDY0IYNSUdVsjxBuOyZwZ13Qs+eMGVKeBDurrvCIPXO5UrXruGO9Lzz4LrroE8feP75pKMqSZ4gXHbmzYPBg+HMM0OCmDsXxo71rrtdPFq2hL//PbSI+/LLUC9x3nnw4YdJR1ZSPEG4mi1YACefDAcfHFqZ3HRTqIzuVX14cediMGwYvPEGXHJJ6L5ln31Cr8A+gmSj8AThtrVpEzz2WOgG4RvfgCefDKPBvfMOnH9+GGvYucayyy5www2h6/iTToI//jHUeZ19drhoKZIeqfORd/ftgs2b4ZVXwpOt48fD0qWhO4Rzzgkd7rVvn3SEzgULF8Lvfw/33ReKn/r0CXe5J54IX/960tEVnJq6+/YEUarMYMmS8GDbs8/CtGmhfLdZs9Bf/3/9F3zrW96Xkstfa9bAvfeGEQtT//s9e4aH7fr3D0/2f+1rycZYABJLEJKGAn8GmgK3mtk11da3BO4CDgU+AU4xs3ejdb8AzgY2AReZ2ZSazuUJYjvM4N//Dv0kvf12qFOYMydUMn/ySdimffvwsNuoUaEvpV13TTZm5+pq6dLw3MRjj4VuO778Mizv2hV69w7T/vuHZ3X23df/xtMkkiCiMaX/BQwClhHGqD7VzBakbfMj4CAzO1/SGOBEMztFUi/gn0BfYE/gaWA/M9u0vfMVZYIwg6++CtOGDWGEtvXrw3CNX34ZXteuDVdSa9eGL/yVK8P04YewfHmY1q/fcsyWLeHAA8M/zKGHhqusnj29NZIrHl99FZ6lmDFjy8XQwoWhGDWldeswiFWnTtCxY+h6vH17aNsW2rQJ61u1gp13DtNOO4X/nR12CK8tWkDTpkXxf1NTgmgW43n7AovMbEkUxHhgFLAgbZtRwFXR+4nAXyUpWj7ezDYA70RjVvcFXsp5lKtWwTe/Wft2NSXS9HVmW+ZT79OnzZu3fd20actrVVV4/eqr8L6u2rULf+gdO0LfvuEfoGvXcOXUo0eo3GsW56/duYQ1bx6Guj3iiC3L1q2DxYvDnfSiReGOY/nyMBzu4sXhouqzz+p3rmbNtkxNmoTEkUoeTZps/Zppgq3fp+Yz2d7ygw+Gf/6z7vHXIs5vik7A0rT5ZcDh29vGzKokrQF2i5a/XG3fbcaslHQucC5A165d6xdls2ahpU42arpaqP7Lrf6Lr/5H0qTJlvnUH1STJlv/sTVvHq5UmjcPVy6pq5eddtpyVdO6dbjiadMm3Db7l79z29pxx/B/XtP/+oYNoTfZNWvC9NlnW+7Uv/xyy138hg3hAm7jxjClLuyqqrZc6G3atP2LwvQJtn6fms+kpovU7t3r/jPJQkF/m5jZLcAtEIqY6nWQ1q3DwDbOudLWsmW48+7YMelI8kacDdqXA13S5jtHyzJuI6kZ0IZQWZ3Nvs4552IUZ4KYBfSQ1F1SC2AMMKnaNpOAM6L3o4EKC7Xmk4AxklpK6g70AGbGGKtzzrlqYitiiuoUxgJTCM1cbzez+ZKuBirNbBJwG3B3VAm9ipBEiLabQKjQrgIurKkFk3POudzzB+Wcc66E1dTM1TvVcc45l5EnCOeccxl5gnDOOZeRJwjnnHMZFU0ltaQVwHtJx1EP7YGVSQeRgFL83KX4maE0P3chfea9zKxDphVFkyAKlaTK7bUgKGal+LlL8TNDaX7uYvnMXsTknHMuI08QzjnnMvIEkbxbkg4gIaX4uUvxM0Npfu6i+MxeB+Gccy4jv4NwzjmXkScI55xzGXmCyCOSfirJJLVPOpbGIOl6SW9JmifpYUlFO5K8pKGSFkpaJOnypOOJm6QukqZLWiBpvqSLk46pMUlqKmmOpMlJx9IQniDyhKQuwGDg/aRjaUTTgG+Y2UHAv4BfJBxPLCQ1BcYBw4BewKmSeiUbVeyqgJ+aWS/gCODCEvjM6S4G3kw6iIbyBJE//gj8HCiZVgNmNtXMqqLZlwkjBxajvsAiM1tiZhuB8cCohGOKlZl9aGavRu8/I3xZbjOufDGS1Bk4Abg16VgayhNEHpA0ClhuZq8lHUuCzgKeTDqImHQClqbNL6NEviwBJHUD+gCvJBtJo/kT4WJvc9KBNFRsI8q5rUl6Gtg9w6orgP8hFC8VnZo+t5k9Gm1zBaFI4t7GjM3FT9IuwIPAT8xsbdLxxE3SCOBjM5st6dik42koTxCNxMyOz7Rc0oFAd+A1SRCKWV6V1NfMPmrEEGOxvc+dIulMYAQw0Ir3oZzlQJe0+c7RsqImqTkhOdxrZg8lHU8jORoYKWk4sAPQWtI9ZnZ6wnHViz8ol2ckvQuUmVmh9ARZb5KGAjcA/c1sRdLxxEVSM0Il/EBCYpgFfM/M5icaWIwUrnbuBFaZ2U+SjicJ0R3Ez8xsRNKx1JfXQbgk/RVoBUyTNFfS35MOKA5RRfxYYAqhsnZCMSeHyNHA94EB0e92bnRV7QqI30E455zLyO8gnHPOZeQJwjnnXEaeIJxzzmXkCcI551xGniCcc85l5AnCJULSpqjp4xuSHpC0Ux3331PSxOh97/QmlJJGxt1jqqSLJL0p6d5qy6vHcpWknzXgPMdEvaHOldQp9ZnzjaQnUr3xSvo86XhcbngzV5cISZ+b2S7R+3uB2WZ2Qz2PdSbh4cKxOQyxtnO+BRxvZstqikXSVcDnZvb7ep7n78DzZnZPwyLO+nzN0jpQrO8x/vO7dYXN7yBcPpgB7CupnaRHovEhXpZ0EICk/mkPW82R1EpSt+juowVwNXBKtP4USWdK+mu0bzdJFdExyyV1jZbfIekvkl6UtETS6EyBSbo0Os8bkn4SLfs7sDfwpKRL0rbdJpZoVS9Jz0TnuSht+9MlzYy2vTnqFjz93OcAJwO/kXRv6jNH686U9JCkpyS9Lem6tP3OlvSv6Nj/l/az6CDpQUmzounoaPlVku6W9AJwdzR/+3ZifkTS7Oiu5ty05e+qRMYxKSlm5pNPjT4Rrqoh9Af2KHABcCNwZbR8ADA3ev8YcHT0fpdon27AG9GyM4G/ph37P/PRvmdE788CHone3wE8QLhI6kXojrt6jIcCrwM7R+edD/SJ1r0LtM+wT/VYrgJeBFoC7YFPgOZAzyi25tF2fwN+kOF4dwCjo/fVP/MSoA2hz5/3CP097RnF1i46z4y0n8V9wDej912BN9NinA3sWFPM0bp20euOwBvAbtV/HqnfrU+FP3lnfS4pO0qaG72fAdxG6A76uwBmViFpN0mtgReAG6KiqIfMbFno6icrRwLfid7fDVyXtu4RM9sMLJDUMcO+3wQeNrMvACQ9BBwDzMn25JHHzWwDsEHSx0BHQr9MhwKzos+yI/BxHY9bbmZrotgWAHsRvtCfNbNV0fIHgP2i7Y8n3M2k9m+t0NsqwCQzW1dLzMuAiySdGG3TBehBSCCuCHmCcElZZ2a90xds70vfzK6R9DgwHHhB0hBgfQ5i2JB++hwcL5vzbCL83wm408waMopepuPWpAlwhJlt9bOLfu5f1HZshc7njgeONLMvJT1DuHtxRcrrIFw+mQGcBv/pCXOlma2VtI+ZvW5m1xJ6Qt2/2n6fETr9y+RFYEz0/rToHHWJ59uSdpK0M3BiFvvXFEu6cmC0pK8BRPUve9Uhtu2ZBfSX1FahF9nvpq2bCvw4NSOpd/Wda9EGWB0lh/0JQ4m6IuYJwuWTq4BDJc0DrgHOiJb/JKokngd8xbYjz00nFJ2kVwyn/Bj4YbTv9wljBWfFwpCZdwAzCcVft5pZbcVLNcWSfuwFwC+BqVFs04A9so2thuMuB34XxfwCoW5gTbT6IqAsqrBfAJxfx8M/RbiTeJPw+3m5ofG6/ObNXJ0rMpJ2MbPPozuIh4HbzezhpONyhcfvIJwrPldFDQDeAN4BHkk4Hleg/A7COedcRn4H4ZxzLiNPEM455zLyBOGccy4jTxDOOecy8gThnHMuo/8PRIi467VAbzMAAAAASUVORK5CYII=\n",
            "text/plain": [
              "<Figure size 432x288 with 1 Axes>"
            ]
          },
          "metadata": {
            "tags": [],
            "needs_background": "light"
          }
        }
      ]
=======
      "outputs": []
>>>>>>> Hakuri
    },
    {
      "cell_type": "markdown",
      "metadata": {
        "id": "kiPj-_jnXp3D",
        "colab_type": "text"
      },
      "source": [
        "Click [here](https://github.com/fblondiaux/LGBIO2060-2020/blob/Hakuri/Solutions/Exercise1Solution) for solution.\n",
        "\n",
<<<<<<< HEAD
=======
        "*Example output:*\n",
        "<img alt='Solution hint' align='left' width=573 height=416 src=https://raw.githubusercontent.com/fblondiaux/LGBIO2060-2020/Hakuri/Solutions/TP1_Ex1.png>"
      ]
    },
    {
      "cell_type": "markdown",
      "metadata": {
        "id": "XKKrdnaEggOB",
        "colab_type": "text"
      },
      "source": [
>>>>>>> Hakuri
        "\n",
        "Use the widget herebelow to investigate the impact of the mean and standard deviation on the shape of the gaussian distribution. \n",
        "\n",
        "\n",
        "**Make sure to execute the cell before playing with the widget**"
      ]
    },
    {
      "cell_type": "code",
      "metadata": {
        "id": "x7NLOnUlsCTF",
        "colab_type": "code",
<<<<<<< HEAD
        "colab": {
          "base_uri": "https://localhost:8080/",
          "height": 343,
          "referenced_widgets": [
            "b9ac5614f2334585974d5897022a0db0",
            "3789aed6fcc446ff8edeebda6db4ccaf",
            "3af4df8606e244559fb7dd9ce5869897",
            "dd0643402d1244c89801de6d82a22aa5",
            "14511ea8dbfa4b23aa9daa927c45975b",
            "04a20474464d43eb9c48cf933b0b9af0",
            "d14e290393a34fadb01c215978e78b04",
            "371d56d2bdcd44139eb6c9f53c3a2740",
            "48db1964c9d24834a6b344690f76a774",
            "6cbfb9e66f4e43a89360b25ad140dc21"
          ]
        },
        "outputId": "162d7170-43d7-43c0-deb8-f9b94258acd3"
=======
        "colab": {}
>>>>>>> Hakuri
      },
      "source": [
        "#@title\n",
        "#@markdown Make sure you execute this cell to enable the widget\n",
        "\n",
        "x = np.arange(-10,11,0.1)\n",
        "\n",
        "import ipywidgets as widgets\n",
        "\n",
        "def refresh(mu=1,sigma=1):\n",
<<<<<<< HEAD
        "  gaussian = my_gaussian(x_vector,mu,sigma)\n",
        "\n",
        "  ax = plot_my_gaussian(x_vector,gaussian)\n",
=======
        "  gaussian = my_gaussian(x,mu,sigma)\n",
        "\n",
        "  ax = plot_my_gaussian(x,gaussian)\n",
>>>>>>> Hakuri
        "  plt.show()\n",
        "\n",
        "style = {'description_width' : 'initial'}\n",
        "\n",
        "_ = widgets.interact(refresh,\n",
<<<<<<< HEAD
        "    mu = widgets.FloatSlider(value=2, min=-10, max=10, steps=0.5, description=\"mu:\", style = style),\n",
=======
        "    mu = widgets.FloatSlider(value=2, min=-7, max=7, steps=0.5, description=\"mu:\", style = style),\n",
>>>>>>> Hakuri
        "    sigma = widgets.FloatSlider(value=0.5, min=0.5, max=10, steps=0.5, description=\"sigma\",style=style),\n",
        ")"
      ],
      "execution_count": null,
<<<<<<< HEAD
      "outputs": [
        {
          "output_type": "display_data",
          "data": {
            "application/vnd.jupyter.widget-view+json": {
              "model_id": "b9ac5614f2334585974d5897022a0db0",
              "version_minor": 0,
              "version_major": 2
            },
            "text/plain": [
              "interactive(children=(FloatSlider(value=2.0, description='mu:', max=10.0, min=-10.0, style=SliderStyle(descrip…"
            ]
          },
          "metadata": {
            "tags": []
          }
        }
      ]
=======
      "outputs": []
>>>>>>> Hakuri
    },
    {
      "cell_type": "markdown",
      "metadata": {
        "id": "hIcFqEROimqK",
        "colab_type": "text"
      },
      "source": [
        "**Summary**\n",
        "\n",
<<<<<<< HEAD
        "TODO - Need help "
=======
        "The gaussian distribution can be very useful in various situations and fields. Including biomedical, in our case, it can model the error observed in the sensory feedback but it can also represent the distribution of different measurements including measures of size of living tissue (length, height, skin area, weight), the length of inert appendages (hair, claws, nails, teeth) of biological specimens, ...\n",
        "\n",
        "Let's use this distribution for decision making ! \n",
        "---"
>>>>>>> Hakuri
      ]
    },
    {
      "cell_type": "markdown",
      "metadata": {
        "id": "FNA_YTl5Xx8U",
        "colab_type": "text"
      },
      "source": [
        "# Part 2 : Sequential probability ratio test (SPRT) - Decision making\n",
        "\n",
<<<<<<< HEAD
        "Humans and animals are able to make decisions when they faced a binary alternative. In this section, we will model decision making using sequential probability ratio test (SPRT). This model can be used in a random dot motion task (see [here](https://www.youtube.com/watch?v=oDxcyTn-0os) for an example). In this paradigm, a patch of points moving either on average to the left or to the right is shown to the subject that has to determine the direction of movement. Subjects' goal is to determine the direction of the velocity which can be easy or though depending on the coherence of each individual point.\n",
        "\n",
        "\n",
        "In this tutorial, we consider a simplified version of the random dot motion task. On each trial $i$, the subject is shown a single dot moving at velocity $v_i$ generated by a fixed probability distribution, which we know to be either: \n",
=======
        "[Click](https://github.com/fblondiaux/LGBIO2060-2020/blob/Hakuri/WorkFromHomeText/TP1-Part2.txt) *for more explanations if you are working from home*\n",
        "\n",
        "On each trial $i$, the subject is shown a single dot moving at velocity $v_i$ generated by a fixed probability distribution, which we know to be either: \n",
>>>>>>> Hakuri
        "\n",
        "\n",
        "$$\n",
        "\\\\\n",
        "\\begin{eqnarray}\n",
        "p_L &=& \\mathcal{N}\\left(-1,\\sigma^2\\right)\\\\\n",
        "&& \\textrm{or}\\\\\n",
        "p_R &=& \\mathcal{N}\\left(+1,\\sigma^2\\right)\\\\\n",
        "\\end{eqnarray}\n",
        "$$\n",
        "\n",
<<<<<<< HEAD
        "This means that the dot is moving leftward or rightward and that its speed is normally distributed around $|1|$. We want to determine which distribution amongst $p_L$ and $p_R$ is the true data generating distribution. In order to do that, we will define two alternative hypotheses, the first one $H_L$ states that $p_L$ is the data generating distribution while $H_R$ states that it is $p_R$. The decision process is based on the time-evolution of the log likelihood ratio between these two hypotheses. For both hypothesis, we will define the likelihood function that will quantify how probable it is that the data point $x_i$ comes from a given distribution. For a given occurence of the point $x_i$, the two likelihood functions will be defined by $p_L\\left(x_i|z=0\\right)$ and $p_R\\left(x_i|z=1\\right)$, which are two gaussian distributions.\n",
=======
        "We want to determine which distribution amongst $p_L$ and $p_R$ is the true data generating distribution. In order to do that, we will define two alternative hypotheses, the first one $H_L$ states that $p_L$ is the data generating distribution while $H_R$ states that it is $p_R$. The decision process is based on the time-evolution of the log likelihood ratio between these two hypotheses. For both hypothesis, we will define the likelihood function that will quantify how probable it is that the data point $x_i$ comes from a given distribution. For a given occurence of the point $x_i$, the two likelihood functions will be defined by $p_L\\left(x_i|z=0\\right)$ and $p_R\\left(x_i|z=1\\right)$, which are two gaussian distributions.\n",
>>>>>>> Hakuri
        "\n",
        "\n",
        "Using the following gaussian observations models\n",
        "\n",
        "$$\\begin{eqnarray}\n",
        "p_L\\left(x|z=0\\right) & = & \\mathcal{N}\\left(\\mu_L,\\sigma_L^2\\right)\\\\\n",
        "p_R\\left(x|z=1\\right) & = & \\mathcal{N}\\left(\\mu_R,\\sigma_R^2\\right)\\\\\n",
        "\\end{eqnarray}\n",
        "$$\n",
        "\n",
        "and the definition of the log-likelihood ratio\n",
        "\n",
        "**Compute the expression of $\\log \\Lambda_i$, the log-likelihood ratio at iteration $i$** \n",
        "\n",
        "Click [here](https://github.com/fblondiaux/LGBIO2060-2020/blob/Hakuri/Solutions/Tuto1SolLikelihood) for solution\n",
        "\n",
        "\n",
<<<<<<< HEAD
        "Without loss of generality, let's further assume the true data generating distribution is $p_R$. In this case $x_i$ can be expressed as $x_i = \\mu_R + \\sigma_R \\epsilon$ where $\\epsilon$ comes from a standard Gaussian. The foregoing formula can then be rewritten as\n",
        "$$\n",
        "\\log \\Lambda_i = \\left( \\log\\dfrac{\\sigma_L}{\\sigma_R} + 0.5\\dfrac{\\left(\\mu_R-\\mu_L\\right)^2}{\\sigma_L^2}\\right) + \\left(\\dfrac{\\mu_L-\\mu_R}{\\sigma_L^2}\\sigma_R\\,\\epsilon - 0.5\\left[1-\\left(\\dfrac{\\sigma_R}{\\sigma_L}\\right)^2\\right]\\epsilon^2\\right)\n",
        "$$\n",
        "\n",
        "Where the first two constant terms serve as the drifting part and the last terms are the diffusion part. If we further let $\\sigma_L = \\sigma_R$, we can get rid of the quadratic term and this reduces to the classical deiscrete drift-diffusion equation where we have analytical solutions for mean and expected auto-covariance:\n",
        "\n",
        "$$\n",
        "\\log \\Lambda_i = 0.5\\dfrac{\\left(\\mu_R - \\mu_L\\right)^2}{\\sigma^2} + \\dfrac{\\mu_R - \\mu_L}{\\sigma_L^2}\\epsilon, \\,\\,\\,\\,\\, \\text{where } \\epsilon\\sim\\mathcal{N}\\left(0,1\\right)\n",
        "$$\n",
        "\n",
        "Using this very last expression, implement the function *compute_SPRT* whose signature is given below.\n"
=======
        "Using this expression of the log-likelihood ratio you computed, implement the function *compute_SPRT* whose signature is given below.\n"
>>>>>>> Hakuri
      ]
    },
    {
      "cell_type": "code",
      "metadata": {
        "id": "4Nuwv7vf6uIZ",
        "colab_type": "code",
<<<<<<< HEAD
        "colab": {
          "base_uri": "https://localhost:8080/",
          "height": 209
        },
        "outputId": "4d74c35a-eb39-4959-b2d8-55b122579489"
      },
      "source": [
        "def compute_SPRT(sigma,true_dist=1,data):\n",
        "  \"\"\"\n",
        "  Computes the time evolution of the likelihood ratio between left & right hypothesis\n",
        "\n",
        "  Inputs : \n",
        "    sigma (double) :  standard deviation (noise around the real direction value)\n",
        "    true_dist (0 or 1) : Which state is the true state.\n",
        "    data is the true data\n",
        "\n",
        "  Returns : \n",
        "    evidence_history (numpy vector) : the history of cumulated evidence given\n",
        "                                      generated data\n",
        "    decision (int) : 1 for pR, 0 for pL\n",
        "    data (numpy vector) : the generated sequences of data in this trial\n",
        "  \"\"\"\n",
        "  muL = -1.0\n",
        "  muR = 1.0\n",
        "\n",
        "  pL = stats.norm(loc=-1, scale = sigma)\n",
        "  pR = stats.norm(loc= 1, scale = sigma)\n",
        "\n",
        "\n",
        "  #Generate a random sequence of data\n",
        "  if true_dist ==1:\n",
        "    data = pR.rvs(size=stop_time)\n",
        "  else:\n",
        "    data = pL.rvs(size=stop_time)\n",
        "  \n",
        "  # calculate the cumulated evidence\n",
        "\n",
        "  ll_ratio_vec = log_likelihood_ratio(data,pL,pR)\n",
        "\n",
        "  evidence_history = np.cumsum(data,pL,pR)\n",
        "\n",
        "  if evidence_history[-1] >0:\n",
        "    decision = 1\n",
        "  elif evidence_history[-1] < 0:\n",
        "    decision = 0\n",
        "  else:\n",
        "    decision = np.random.randint(2)\n",
        "  \n",
        "  return evidence_history, decision, data\n",
        "\n",
        "np.random.seed(1000)\n",
        "sigma=3.5\n",
        "num_sample=10\n",
        "stop_time=150\n",
        "\n",
        "\n",
        "#TO do codes\n"
      ],
      "execution_count": null,
      "outputs": [
        {
          "output_type": "error",
          "ename": "NameError",
          "evalue": "ignored",
          "traceback": [
            "\u001b[0;31m---------------------------------------------------------------------------\u001b[0m",
            "\u001b[0;31mNameError\u001b[0m                                 Traceback (most recent call last)",
            "\u001b[0;32m<ipython-input-20-69a627ca338b>\u001b[0m in \u001b[0;36m<module>\u001b[0;34m()\u001b[0m\n\u001b[1;32m     37\u001b[0m \u001b[0;34m\u001b[0m\u001b[0m\n\u001b[1;32m     38\u001b[0m \u001b[0;34m\u001b[0m\u001b[0m\n\u001b[0;32m---> 39\u001b[0;31m \u001b[0msimulate_and_plot_SPRT_fixedtime\u001b[0m\u001b[0;34m(\u001b[0m\u001b[0msigma\u001b[0m\u001b[0;34m,\u001b[0m\u001b[0mstop_time\u001b[0m\u001b[0;34m,\u001b[0m\u001b[0mnum_sample\u001b[0m\u001b[0;34m)\u001b[0m \u001b[0;31m# function to create!!!!\u001b[0m\u001b[0;34m\u001b[0m\u001b[0;34m\u001b[0m\u001b[0m\n\u001b[0m",
            "\u001b[0;31mNameError\u001b[0m: name 'simulate_and_plot_SPRT_fixedtime' is not defined"
          ]
        }
      ]
=======
        "colab": {}
      },
      "source": [
        "def compute_SPRT_fixedtime(sigma,true_dist,stopTime):\n",
        "    \"\"\"\n",
        "    This function performs the sequential probability ratio test using the fixed time stopping criterion\n",
        "    Authors : Florence Blondiaux & Antoine de Comite \n",
        "\n",
        "    Inputs :  sigma (float) is the standard deviation of both distribution\n",
        "              true_dist (int) is the true distribution 0 or 1\n",
        "              stopTime (int) number of samples to take before stopping\n",
        "    Output : evidence_history (numpy vector) containing the history of evidence\n",
        "            decision (integer) 0 or 1 depending on the most probable decision at the end of trial\n",
        "    \"\"\"\n",
        "\n",
        "    ##########################\n",
        "    ##### Your code here #####\n",
        "    ##########################\n",
        "    \n",
        "    return evidence_history,decision\n",
        "\n",
        "\n",
        "\n",
        "# Simulate 10 trials and plot their evidence history.\n",
        "# For the example of solution, sigma was set to 3.5\n",
        "\n",
        "\n",
        "def simulate_and_plot_SPRT_fixedtime(nb_trials, sigma=3.5, true_dist = 1,stopTime = 150 ):\n",
        "    '''\n",
        "    Simulate and plot a SPRT for a fixed amount of time given a std.\n",
        "    Authors : Florence Blondiaux & Antoine de Comite \n",
        "    Input: nb_trials: Number of simulations to run per stopping time\n",
        "          sigma (float) is the standard deviation of both distribution\n",
        "          true_dist (int) is the true distribution 0 or 1\n",
        "          stopTime (int) number of samples to take before stopping\n",
        "\n",
        "    '''\n",
        "    ##########################\n",
        "    ##### Your code here #####\n",
        "    ##########################\n",
        "\n",
        "np.random.seed(100) \n",
        "simulate_and_plot_SPRT_fixedtime(10)"
      ],
      "execution_count": 111,
      "outputs": []
    },
    {
      "cell_type": "markdown",
      "metadata": {
        "id": "dGHamr24rhJj",
        "colab_type": "text"
      },
      "source": [
        "Click [here](https://github.com/fblondiaux/LGBIO2060-2020/blob/Hakuri/Solutions/Exercise2Solution) for solution\n",
        "\n",
        "*Example output:*\n",
        "\n",
        "<img alt='Solution hint' align='left' width=573 height=416 src=https://raw.githubusercontent.com/fblondiaux/LGBIO2060-2020/Hakuri/Solutions/TP1_Ex2.png>\n",
        "\n",
        "Explore different values for sigma and stop_time using the following widget."
      ]
    },
    {
      "cell_type": "code",
      "metadata": {
        "id": "dyObW5eIEdFI",
        "colab_type": "code",
        "colab": {}
      },
      "source": [
        "#@title\n",
        "\n",
        "#@markdown Make sure you execute this cell to enable the widget!\n",
        "np.random.seed(100)\n",
        "num_sample = 10\n",
        "\n",
        "@widgets.interact\n",
        "def plot(sigma=(0.05, 10.0, 0.05), stop_time=(5, 500, 5),true_dist= [0,1]):\n",
        "  simulate_and_plot_SPRT_fixedtime(num_sample,sigma,true_dist,stop_time)"
      ],
      "execution_count": null,
      "outputs": []
>>>>>>> Hakuri
    },
    {
      "cell_type": "markdown",
      "metadata": {
<<<<<<< HEAD
        "id": "dGHamr24rhJj",
        "colab_type": "text"
      },
      "source": [
        "Click [here](https://github.com/fblondiaux/LGBIO2060-2020/blob/Hakuri/Solutions/Exercise1Solution) for solution\n",
        "\n",
        "\n",
=======
        "id": "MGkl1TpEFydZ",
        "colab_type": "text"
      },
      "source": [
>>>>>>> Hakuri
        "\n",
        "\n",
        "In this first example, the decision is made after a given time (that may be very long); this is not always the optimal way to stop the drift diffusion model. In the next section, we will investigate another stopping criterion."
      ]
    },
    {
      "cell_type": "markdown",
      "metadata": {
        "id": "wMFJ27i1YzGs",
        "colab_type": "text"
      },
      "source": [
<<<<<<< HEAD
        "# Part 4 : Drift diffusion model with fixed threshold\n",
        "\n",
        "\n",
        "The thresholding stopping rule defined a desire error rate and will continue making measurements until that error rate is reached. Experimental evidence suggested that evidence accumulation and thresholding stopping strategy happens at neuronal level (see [this article](tospoiler) for further reading).\n",
        "\n",
        "In this exerise, we will use thresholding as our stopping rule and observe the behavior of the DDM. \n",
        "\n",
        "With thresholding stopping rule, we define a desired error rate and will continue making measurements until that error is reached. Experimental evidence suggested that evidence accumulation and thresholding stopping strategy happen at neuronal level.\n",
=======
        "# Part 3 : Drift diffusion model with fixed threshold\n",
        "Working from home ? Click [here](https://github.com/fblondiaux/LGBIO2060-2020/blob/Hakuri/WorkFromHomeText/TP1-Part3.txt)\n",
        "\n",
        "In this exerise, we will use thresholding as our stopping rule and observe the behavior of the DDM. \n",
        "\n",
>>>>>>> Hakuri
        "\n",
        "Mathematically speaking, the threshold is defined based on the likelihood ratio that has been computed before. We define the error rate $\\alpha$ that we want to accept. Based on the properties of probability, we have the following definition of thresholds:\n",
        "\n",
        "$$\n",
        "\\begin{eqnarray}\n",
        "th_L = \\log \\dfrac{\\alpha}{1-\\alpha} & = & -th_R\\\\\n",
        "th_R = \\log \\dfrac{1-\\alpha}{\\alpha} & = & -th_L\n",
        "\\end{eqnarray}\n",
        "$$\n",
        "\n",
        "Implement the function *threshold_DDM* whose signature is given below :\n",
        "\n"
      ]
    },
    {
      "cell_type": "code",
      "metadata": {
        "id": "PZD1DxQm-Qh1",
        "colab_type": "code",
<<<<<<< HEAD
        "colab": {}
      },
      "source": [
        "def threshold_DDM(sigma,alpha,true_dist=1):\n",
        "  muL = -1.0\n",
        "  muR = 1.0\n",
        "  pL = stats.norm(muL,sigma)\n",
        "  pR = stats.norm(muR,sigma)\n",
        "  evidenc_history = []\n",
        "  is_it_ok = False\n",
        "  while not is_it_ok:\n",
        "    ll_ratio = TODO\n",
        "    evidence_history.append(ll_ratio)\n",
        "    current_evidence = evidence_history[-1]\n",
        "\n",
        "    if abs(current_evidence)>threshold:\n",
        "      is_it_ok = True \n",
        "  evidence_history = np.array(evidence_history)\n",
        "\n",
        "  if evidence_history[-1]>0:\n",
        "    decision = 1\n",
        "  elif evidence_history[-1]<0:\n",
        "    deicison = 0\n",
        "  else:\n",
        "    decision = np.random.randint(2)\n",
        "  \n",
        "np.random.seed(100)\n",
        "sigma = 2.8\n",
        "num_sample = 10\n",
        "log10_alpha = -6.5\n",
        "alpha = np.power(10.0, log10_alpha)\n",
        "\n",
        "\n",
        "\n",
        "###\n",
        "#To do plot handling"
      ],
      "execution_count": null,
      "outputs": []
=======
        "colab": {
          "base_uri": "https://localhost:8080/",
          "height": 334
        },
        "outputId": "7b2b9979-a04f-4d07-f414-0aca8e2c309e"
      },
      "source": [
        "def compute_SPRT_threshold(sigma,true_dist,alpha):\n",
        "    \"\"\"\n",
        "    This function performs the sequential probability ratio test using the threshold stopping criterion\n",
        "    Authors : Florence Blondiaux & Antoine de Comite \n",
        "\n",
        "    Inputs :  sigma (float) is the standard deviation of both distribution\n",
        "              true_dist (int) is the true distribution 0 or 1\n",
        "              alpha (int): Desired  error rate that we want to accept.\n",
        "    Output : evidence_history (numpy vector) containing the history of evidence\n",
        "            decision (integer) 0 or 1 depending on the most probable decision at the end of trial\n",
        "    \"\"\"\n",
        "\n",
        "\n",
        "    ##########################\n",
        "    ##### Your code here #####\n",
        "    ##########################\n",
        "    \n",
        "    \n",
        "    return evidence_history,decision\n",
        "\n",
        "def simulate_and_plot_SPRT_threshold(nb_trials, sigma = 2.9, true_dist = 1, alpha = 1e-3):\n",
        "    '''\n",
        "    Simulate and plot a SPRT for a fixed amount of time given a std.\n",
        "    Authors : Florence Blondiaux & Antoine de Comite \n",
        "    Input: nb_trials: Number of simulations to run\n",
        "           sigma (float) is the standard deviation of both distribution\n",
        "           true_dist (int) is the true distribution 0 or 1\n",
        "           alpha (int): Desired  error rate that we want to accept.\n",
        "    '''\n",
        "\n",
        "    ##########################\n",
        "    ##### Your code here #####\n",
        "    ##########################\n",
        "    \n",
        "\n",
        "np.random.seed(100) \n",
        "simulate_and_plot_SPRT_threshold(10, sigma = 2.9, true_dist = 1, alpha = 1e-3)"
      ],
      "execution_count": 110,
      "outputs": [
        {
          "output_type": "stream",
          "text": [
            "/usr/local/lib/python3.6/dist-packages/matplotlib/backends/backend_agg.py:214: RuntimeWarning: Glyph 8722 missing from current font.\n",
            "  font.set_text(s, 0.0, flags=flags)\n"
          ],
          "name": "stderr"
        },
        {
          "output_type": "display_data",
          "data": {
            "image/png": "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\n",
            "text/plain": [
              "<Figure size 432x288 with 1 Axes>"
            ]
          },
          "metadata": {
            "tags": []
          }
        }
      ]
    },
    {
      "cell_type": "markdown",
      "metadata": {
        "id": "Porl1QVJBCP2",
        "colab_type": "text"
      },
      "source": [
        "Click [here](https://github.com/fblondiaux/LGBIO2060-2020/blob/Hakuri/Solutions/Exercise3Solution) for solution\n",
        "\n",
        "*Example output:*\n",
        "\n",
        "<img alt='Solution hint' align='left' width=573 height=416 src=https://raw.githubusercontent.com/fblondiaux/LGBIO2060-2020/Hakuri/Solutions/TP1_Ex3.png>\n",
        "\n",
        "Explore different values for sigma and alpha using the following widget."
      ]
    },
    {
      "cell_type": "code",
      "metadata": {
        "id": "kI1FN93yw3lm",
        "colab_type": "code",
        "colab": {
          "base_uri": "https://localhost:8080/",
          "height": 394,
          "referenced_widgets": [
            "17be8701a0bd4ea4960faae95693660d",
            "62274e2ea019495a9bfb7f88028367c3",
            "aee69d37275f4e67bc491372f3a74013",
            "25534a70a1ba45319ad9ffca54cb1d12",
            "ed6fc9600d5148d5af757059e9a9071f",
            "d813df9e9f4d46bca4332d988001324d",
            "e4992ae8c0f6480894cb423ee03ea951",
            "2dd1aacf45604862bfbf115719a1840e",
            "87dea3b317074b8eb6fc66aa159875fb",
            "c59d72ea0fb54865b72507720844d6bf",
            "a0ac21f3018840f085202b2bb3f610d8",
            "3dc0bf2e17034d01b92a96d8c88e9c09",
            "e0843c8687e743d1b8ba52d086bd45eb"
          ]
        },
        "outputId": "4a475870-4a91-4c23-bf60-ca1a5e076e97"
      },
      "source": [
        "#@title\n",
        "\n",
        "#@markdown Make sure you execute this cell to enable the widget!\n",
        "\n",
        "\n",
        "#@markdown The error rate alpha is in percent.\n",
        "np.random.seed(100)\n",
        "num_sample = 10\n",
        "\n",
        "@widgets.interact\n",
        "def plot(sigma=(0.05, 10.0, 0.05), alpha=(0.1, 10, 0.1),true_dist= [0,1]):\n",
        "  print(3)\n",
        "  simulate_and_plot_SPRT_threshold(num_sample,sigma,true_dist,alpha10_3*1e-2)"
      ],
      "execution_count": 93,
      "outputs": [
        {
          "output_type": "display_data",
          "data": {
            "application/vnd.jupyter.widget-view+json": {
              "model_id": "17be8701a0bd4ea4960faae95693660d",
              "version_minor": 0,
              "version_major": 2
            },
            "text/plain": [
              "interactive(children=(FloatSlider(value=5.0, description='sigma', max=10.0, min=0.05, step=0.05), FloatSlider(…"
            ]
          },
          "metadata": {
            "tags": []
          }
        }
      ]
>>>>>>> Hakuri
    },
    {
      "cell_type": "markdown",
      "metadata": {
        "id": "f-CN1piiYzQE",
        "colab_type": "text"
      },
      "source": [
<<<<<<< HEAD
        "# Part 5 : Accuracy vs. Threshold\n",
        "\n",
        "The faster you make a decision, the lower your accuracy often is. This phenomenon is known as the **speed/accuracy tradeoff**. Humans can make this tradeoff in a wide range of situtations as many animal species, including ants, bees, rodents, and monkeys also show similar effects.\n",
        "\n",
        "To illustrate the speed/accuracy tradeoff under thresholding stopping rule, let's run some simulations under different thresholds and look at how average decision speed (1/length) changes with average decision accuracy. We used speed rater than accuracy because in real experiments, subjects can be incetivized to respond faster or slower, it's much harder to precisely control their deicison time or error threshold.\n",
        "\n",
        "*     Complete the function simulate_accuracy_vs_threshold to simulate and compute accuracies vs. average decision lengths for a list of error thresholds. You will need to supply code to calculate average decision \"speed\" from the lengts of trials. You should also calculate the overall accuracy across these trials.\n",
        "\n",
        "*      We've set up a list of error thresholds. Run repeated simulations and collect average accuracy with average length for each error rate in this list, and use our provided code to visualize the speed/accuracy tradeoff. You should see a positive correlation between length and accuracy."
      ]
    },
    {
      "cell_type": "markdown",
      "metadata": {
        "id": "81UL8pvfYzXc",
        "colab_type": "text"
      },
      "source": [
        "# BONUS : Urgency gating"
=======
        "# Part 4 : Accuracy vs. Threshold\n",
        "\n",
        "Working from home ? Click [here](https://github.com/fblondiaux/LGBIO2060-2020/blob/Hakuri/WorkFromHomeText/TP1-Part4.txt)\n",
        "\n",
        "The faster you make a decision, the lower your accuracy often is. This phenomenon is known as the **speed/accuracy tradeoff**. \n",
        "\n",
        "To illustrate the speed/accuracy tradeoff under thresholding stopping rule, let's run some simulations under different thresholds and look at how average decision speed (1/length) changes with average decision accuracy.\n",
        "\n",
        "*     Complete the function simulate_accuracy_vs_threshold to simulate and compute accuracies vs. average decision lengths for a list of error thresholds. You will need to supply code to calculate average decision \"speed\" from the lengts of trials. You should also calculate the overall accuracy across these trials.\n",
        "\n",
        "*      We've set up a list of error thresholds. Run repeated simulations and collect average accuracy with average length for each error rate in this list."
      ]
    },
    {
      "cell_type": "code",
      "metadata": {
        "id": "Ari5EnLd7TUv",
        "colab_type": "code",
        "colab": {
          "base_uri": "https://localhost:8080/",
          "height": 303
        },
        "outputId": "b9166746-6868-4423-ecf3-22211a4687ec"
      },
      "source": [
        "def simulate_accuracy_vs_threshold(sigma, alpha_list, num_sample):\n",
        "  \"\"\"Calculate the average decision accuracy vs. average decision speed by\n",
        "  running repeated SPRT simulations with thresholding stopping rule for each\n",
        "  threshold.\n",
        "  Args:\n",
        "      sigma (float): standard deviation for observation model\n",
        "      alpha_list (list-like object): a list of error rates alpha to run\n",
        "                                          over\n",
        "      num_sample (int): number of simulations to run\n",
        "  Returns:\n",
        "      accuracy_list: a list of average accuracies corresponding to input\n",
        "                      `threshold_list`\n",
        "      decision_speed_list: a list of average decision speeds\n",
        "  \"\"\"\n",
        "    ##########################\n",
        "    ##### Your code here #####\n",
        "    ##########################\n",
        "\n",
        "  return accuracy_list, decision_speed_list\n",
        "\n",
        "\n",
        "def simulate_and_plot_accuracy_vs_threshold(sigma, threshold_list, num_sample):\n",
        "  \"\"\"Simulate and plot a SPRT for a set of thresholds given a std.\n",
        "\n",
        "  Args:\n",
        "    sigma (float): Standard deviation of the observations.\n",
        "    alpha_list (float): List of thresholds for making a decision.\n",
        "    num_sample (int): The number of samples to plot.\n",
        "  \"\"\"\n",
        "    ##########################\n",
        "    ##### Your code here #####\n",
        "    ##########################\n",
        "\n",
        "np.random.seed(100)\n",
        "sigma = 3.75\n",
        "num_sample = 200\n",
        "alpha_list = np.linspace(0.001,0.5, 9) \n",
        "simulate_and_plot_accuracy_vs_threshold(sigma, alpha_list, num_sample)"
      ],
      "execution_count": 107,
      "outputs": [
        {
          "output_type": "display_data",
          "data": {
            "image/png": "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\n",
            "text/plain": [
              "<Figure size 432x288 with 1 Axes>"
            ]
          },
          "metadata": {
            "tags": []
          }
        }
>>>>>>> Hakuri
      ]
    },
    {
      "cell_type": "markdown",
      "metadata": {
<<<<<<< HEAD
        "id": "LwI_YeLOZJNW",
        "colab_type": "text"
      },
      "source": [
        "# **Take-home message**"
=======
        "id": "nr10qZ20DqIh",
        "colab_type": "text"
      },
      "source": [
        "Click [here](https://github.com/fblondiaux/LGBIO2060-2020/blob/Hakuri/Solutions/Exercise4Solution) for solution\n",
        "\n",
        "*Example output:*\n",
        "\n",
        "<img alt='Solution hint' align='left' width=573 height=416 src=https://raw.githubusercontent.com/fblondiaux/LGBIO2060-2020/Hakuri/Solutions/TP1_Ex4.png>"
>>>>>>> Hakuri
      ]
    }
  ]
}