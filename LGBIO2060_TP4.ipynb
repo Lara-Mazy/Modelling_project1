{
  "nbformat": 4,
  "nbformat_minor": 0,
  "metadata": {
    "colab": {
      "name": "LGBIO2060_TP4.ipynb",
      "provenance": [],
      "collapsed_sections": [],
      "include_colab_link": true
    },
    "kernelspec": {
      "name": "python3",
      "display_name": "Python 3"
    }
  },
  "cells": [
    {
      "cell_type": "markdown",
      "metadata": {
        "id": "view-in-github",
        "colab_type": "text"
      },
      "source": [
        "<a href=\"https://colab.research.google.com/github/fblondiaux/LGBIO2060-2020/blob/TP4-Draft/LGBIO2060_TP4.ipynb\" target=\"_parent\"><img src=\"https://colab.research.google.com/assets/colab-badge.svg\" alt=\"Open In Colab\"/></a>"
      ]
    },
    {
      "cell_type": "markdown",
      "metadata": {
        "id": "rd-uRhH1cmSn"
      },
      "source": [
        "# LGBIO2060 - Exercise session 4\n",
        "Kalman filtering or how to implement the prior and likelihood dynamically? \n"
      ]
    },
    {
      "cell_type": "markdown",
      "metadata": {
        "id": "cEi52Hd4c3OE"
      },
      "source": [
        "## Import and helper functions\n",
        "**Please execute the cell below to initialize the notebook environment**"
      ]
    },
    {
      "cell_type": "code",
      "metadata": {
        "id": "X_He_4QlckhJ",
        "cellView": "both"
      },
      "source": [
        "#@title Imports\n",
        "import numpy as np\n",
        "import matplotlib.pyplot as plt"
      ],
      "execution_count": null,
      "outputs": []
    },
    {
      "cell_type": "markdown",
      "metadata": {
        "id": "Ytv17jb8dhEH"
      },
      "source": [
        "## Tutorial objectives \n",
        "\n",
        "At the end of this tutorial, you should be able to understand the "
      ]
    },
    {
      "cell_type": "markdown",
      "metadata": {
        "id": "vYDwDdw8eMLJ"
      },
      "source": [
        "# Section 1 - Model Formulation"
      ]
    },
    {
      "cell_type": "code",
      "metadata": {
        "id": "hK0CHcwKCR71"
      },
      "source": [
        "N = 50  # Nb of steps\n",
        "\n",
        "dt = 0.01\n",
        "kv = 0.1\n",
        "tau = 0.05\n",
        "lamb = 0\n",
        "ns = 10\n",
        "A = np.array([(1, 0, dt, 0, 0, 0, 0, 0, 0, 0),\n",
        "              (0, 1, 0, dt, 0, 0, 0, 0, 0, 0),\n",
        "              (0, 0, 1 - dt * kv, 0, dt, 0, 0, 0, 0, 0),\n",
        "              (0, 0, 0, 1 - dt * kv, 0, dt, 0, 0, 0, 0),\n",
        "              (0, 0, 0, 0, 1 - (dt / tau), 0, 0, 0, 0, 0),\n",
        "              (0, 0, 0, 0, 0, 1 - (dt / tau), 0, 0, 0, 0),\n",
        "              (0, 0, 0, 0, 0, 0, 1, 0, 0, 0),\n",
        "              (0, 0, 0, 0, 0, 0, 0, 1, 0, 0),\n",
        "              (0, 0, 0, 0, 0, 0, 0, 0, 1, 0),\n",
        "              (0, 0, 0, 0, 0, 0, 0, 0, 0, 1)])\n",
        "B = np.array([(0, 0),\n",
        "              (0, 0),\n",
        "              (0, 0),\n",
        "              (0, 0),\n",
        "              (dt / tau, lamb * dt / tau),\n",
        "              (lamb * dt / tau, dt / tau),\n",
        "              (0, 0),\n",
        "              (0, 0),\n",
        "              (0, 0),\n",
        "              (0, 0)])"
      ],
      "execution_count": null,
      "outputs": []
    },
    {
      "cell_type": "markdown",
      "metadata": {
        "id": "HMV7buBNxZoj"
      },
      "source": [
        "## Section 2 - Cost Function"
      ]
    },
    {
      "cell_type": "code",
      "metadata": {
        "id": "7W4CQy_WCUxn"
      },
      "source": [
        "w1 = 100\n",
        "w2 = 100\n",
        "w3 = 10\n",
        "w4 = 10\n",
        "QN = np.array([(w1, 0, 0, 0, 0, 0, -w1, 0, 0, 0),\n",
        "               (0, w2, 0, 0, 0, 0, 0, -w2, 0, 0),\n",
        "               (0, 0, w3, 0, 0, 0, 0, 0, -w3, 0),\n",
        "               (0, 0, 0, w4, 0, 0, 0, 0, 0, -w4),\n",
        "               (0, 0, 0, 0, 0, 0, 0, 0, 0, 0),\n",
        "               (0, 0, 0, 0, 0, 0, 0, 0, 0, 0),\n",
        "               (-w1, 0, 0, 0, 0, 0, w1, 0, 0, 0),\n",
        "               (0, -w2, 0, 0, 0, 0, 0, w2, 0, 0),\n",
        "               (0, 0, -w3, 0, 0, 0, 0, 0, w3, 0),\n",
        "               (0, 0, 0, -w4, 0, 0, 0, 0, 0, w4)])\n",
        "R = np.array([(10 ** -4, 0), (0, 10 ** -4)])"
      ],
      "execution_count": null,
      "outputs": []
    },
    {
      "cell_type": "markdown",
      "metadata": {
        "id": "XWpfZPVZLk5M"
      },
      "source": [
        "## Section 3 - Optimal Control\n",
        "\n",
        "Now that our system is defined and that we have our cost function, we want to find the control sequence $u_1$, $u_2$, $u_3$, ... $u_n$ that minimizes the cost. From all the motor commands we can do to reach our goal, we want to find the most optimal. \n",
        "\n",
        "The solution of this problem ([proof here]()) is given by the following **backward** recursion.\n",
        "\n",
        "\\begin{eqnarray}\n",
        "S_N &=& Q_N, \\qquad s_N = 0,\\\\\n",
        "L_k &=& \\left(R+B^TS_{k+1}B\\right)^{-1}B^TS_{k+1}A,\\\\\n",
        "S_k &=& Q_k + A^TS_{k+1}(A-BL_k).\n",
        "\\end{eqnarray}\n",
        "\n",
        "We can simulate the system forward since the control signal is defined as $u_k = -L_k x_k$, the dynamics becomes:\n",
        "\n",
        "\\begin{eqnarray}\n",
        "x_{k+1} = (A-BL_k)x_k + \\textrm{noise}.\n",
        "\\end{eqnarray}\n",
        "\n",
        "The noise term correspond to the "
      ]
    },
    {
      "cell_type": "code",
      "metadata": {
        "id": "2OKxeC3lLrzx"
      },
      "source": [
        "L = np.zeros((N, 2, ns))\n",
        "S = np.zeros((N, ns, ns))\n",
        "Q = np.zeros((N, ns, ns))\n",
        "Q[N - 1, :, :] = QN\n",
        "S[N - 1, :, :] = QN\n",
        "\n",
        "for i in range(N - 1, 0, -1):\n",
        "    L[i - 1, :, :] = np.linalg.inv(R + B.T @ S[i, :, :] @ B) @ B.T @ S[i, :, :] @ A \n",
        "    S[i - 1, :, :] = Q[i - 1] + A.T @ S[i, :, :] @ (A - B @ L[i - 1, :, :])\n"
      ],
      "execution_count": null,
      "outputs": []
    },
    {
      "cell_type": "markdown",
      "metadata": {
        "id": "bw3Mf7CpBNZc"
      },
      "source": [
        "Using the control gains you have computed above, you can already simulate some movements, try to set a goal and run your code to see if this model behaves as you would expect."
      ]
    },
    {
      "cell_type": "code",
      "metadata": {
        "id": "LRrG4elzB4r3",
        "outputId": "b1610329-801e-43fe-a8cb-84860daa2e51",
        "colab": {
          "base_uri": "https://localhost:8080/",
          "height": 283
        }
      },
      "source": [
        "X = np.zeros((N, ns, 1))\n",
        "\n",
        "#set a goal\n",
        "X[0, :, :] = [[0.01], [0.01], [0], [0], [0], [0], [0.04], [0.03], [0], [0]]\n",
        "\n",
        "#compute the motor noise \n",
        "Xi = np.random.normal(loc=0, scale=10 ** -4, size=(N, 10, 1))\n",
        "for j in range(0, N - 1):\n",
        "    X[j + 1, :, :] = ((A - B @ L[j, :, :]) @ X[j, :, :]) + Xi[j, :, :]\n",
        "\n",
        "plt.plot(X[:, 0, :],X[:, 1, :])"
      ],
      "execution_count": null,
      "outputs": [
        {
          "output_type": "execute_result",
          "data": {
            "text/plain": [
              "[<matplotlib.lines.Line2D at 0x7fd0b172eba8>]"
            ]
          },
          "metadata": {
            "tags": []
          },
          "execution_count": 8
        },
        {
          "output_type": "display_data",
          "data": {
            "image/png": "[encoded data removed]",
            "text/plain": [
              "<Figure size 432x288 with 1 Axes>"
            ]
          },
          "metadata": {
            "tags": [],
            "needs_background": "light"
          }
        }
      ]
    },
    {
      "cell_type": "markdown",
      "metadata": {
        "id": "w0E0HF9bjfhN"
      },
      "source": [
        "##Section 4 - State Estimation\n",
        "\n",
        "\n"
      ]
    },
    {
      "cell_type": "markdown",
      "metadata": {
        "id": "YKT61go4IfYT"
      },
      "source": [
        "Once again, our sensory inputs are not good enough to infer the position of the fly we are tracking. In order to have a better estimation of the fly's position at every time, we will use a continuous adaptation of Bayes' theorem: the **Kalman filter**. \n",
        "\n",
        "At every time step, the Kalman filter computes the weighted sum of the prior and the likelihood, weighted by a factor that characterises how trustable each term is. The result of this weighted sum will be the posterior distribution; this posterior distribution is the optimal estimator of the latent state of the system. \n",
        "\n",
        "The estimated state, denoted $\\hat{x}$ is computed this way : \n",
        "\n",
        "$\\begin{eqnarray}\n",
        "& & \\\\\n",
        "\\hat{x}[t] & = & \\text{trust}_{\\text{prior}}x_{\\text{prior}} + \\text{trust}_{\\text{likelihood}}x_{\\text{likelihood}}\\\\\n",
        "& & \\\\\n",
        "\\hat{x}[t+1] & = & A  \\hat{x}[t]+ K[t]\\left(y[t] - H \\hat{x}[t]\\right)\\\\\n",
        "& & \\\\\n",
        "\\end{eqnarray}$\n",
        "\n",
        "Where $K[t]$ is the Kalman gain evaluated at time $t$. These Kalman gains will be the weighting parameters that characterises how much we trust one source of information (prior and likelihood) over the other. Since these gains quantifies the trust we have in each source, they will be computed based on the covariances matrices of these two sources. The covariance matrix related to the prior is $\\Omega_{\\text{motor}}$ and the one related to the likelihood is $\\Omega_{\\text{sensory}}$. Therefore the gain of the kalman filter are recursively computed as follows:  \n",
        "\n",
        "$\\begin{eqnarray}\n",
        "& & \\\\\n",
        "K[t]& = &A\\, \\Sigma[t] \\,H^T \\left(H \\,\\Sigma[T]\\,H^T+\\Omega_{\\text{motor}}\\right)^{-1} \\\\\n",
        "& & \\\\\n",
        "\\Sigma[t+1] & = & \\Omega_{\\text{sensory}} + \\left(A-K[t]\\,H\\right)\\Sigma[T]\\,A^T\n",
        "\\end{eqnarray}$\n",
        "\n",
        "Where $\\Sigma[t] = \\mathbb{C}\\text{ov}\\left\\{\\hat{x}[t]\\right\\}$ is the covariance matrix of the estimated state at time t. \n",
        "\n",
        "\n",
        "**Exercice 3 - Implement the function below to apply Kalman filter to the dynamical linear system**\n"
      ]
    },
    {
      "cell_type": "code",
      "metadata": {
        "id": "ng6lKJ0nCvQo",
        "outputId": "acd3169f-95bf-4869-b3c6-d1b05e0a3efc",
        "colab": {
          "base_uri": "https://localhost:8080/",
          "height": 283
        }
      },
      "source": [
        "Xhat = np.zeros((N, ns, 1))\n",
        "Xhat[0, :, :] = X[0, :, :]\n",
        "\n",
        "Y = np.zeros((N, ns, 1))\n",
        "U = np.zeros((N,2,1))\n",
        "\n",
        "Sigma = np.zeros((N, ns, ns))\n",
        "Sigma[0,:,:] = np.eye(ns)*10**-6\n",
        "\n",
        "K = np.zeros((N, ns, ns))\n",
        "H = np.eye(ns)\n",
        "\n",
        "Xi = np.random.normal(loc=0, scale=10 ** -4, size=(N, ns, 1))\n",
        "Omega = np.random.normal(loc=0, scale=10 ** -2, size=(N, ns, 1))\n",
        "oXi = 0.1 * (B @ B.T)\n",
        "oOmega = 0.1 * np.max(np.max(oXi)) * np.eye(ns)\n",
        "\n",
        "for j in range(0, N - 1):\n",
        "    X[j + 1, :, :] = ((A - B @ L[j, :, :]) @ X[j, :, :]) + Xi[j, :, :]\n",
        "    Y[j, :, :] = H @ X[j] + Omega[j, :, :]\n",
        "    K[j,:,:] = A @ Sigma[j,:,:] @ H.T @ np.linalg.inv(H@Sigma[j,:,:] @H.T + oOmega)\n",
        "    Sigma[j + 1, :, :] = oXi + (A - K[j, :, :] @ H) @ Sigma[j, :, :] @ A.T\n",
        "    U[j,:,:] = - L[j,:,:] @ Xhat[j,:,:]\n",
        "    Xhat[j+1,:,:] = A @ Xhat[j,:,:] + B @ U[j,:,:] + K[j,:,:] @ (Y[j,:,:] - H @ Xhat[j,:,:] )\n",
        "\n",
        "plt.plot(Xhat[:, 0, :],Xhat[:, 1, :])"
      ],
      "execution_count": null,
      "outputs": [
        {
          "output_type": "execute_result",
          "data": {
            "text/plain": [
              "[<matplotlib.lines.Line2D at 0x7fd0b171e940>]"
            ]
          },
          "metadata": {
            "tags": []
          },
          "execution_count": 9
        },
        {
          "output_type": "display_data",
          "data": {
            "image/png": "[encoded data removed]",
            "text/plain": [
              "<Figure size 432x288 with 1 Axes>"
            ]
          },
          "metadata": {
            "tags": [],
            "needs_background": "light"
          }
        }
      ]
    }
  ]
}