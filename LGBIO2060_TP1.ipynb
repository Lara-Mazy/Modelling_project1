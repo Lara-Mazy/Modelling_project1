{
 "cells": [
  {
   "cell_type": "code",
   "execution_count": 1,
   "metadata": {
    "colab": {},
    "colab_type": "code",
    "executionInfo": {
     "elapsed": 582,
     "status": "ok",
     "timestamp": 1599487555290,
     "user": {
      "displayName": "Antoine de Comité",
      "photoUrl": "",
      "userId": "14412021039052808935"
     },
     "user_tz": -120
    },
    "id": "tg1WKjlfQuXF"
   },
   "outputs": [],
   "source": [
    "import numpy as np\n",
    "import matplotlib.pyplot as plt\n",
    "\n",
    "\n",
    "# Some helper functions\n",
    "\n",
    "def plot_my_gaussian(x,px):\n",
    "  \"\"\"\n",
    "  This function plots a Gaussian distribution\n",
    "\n",
    "  Inputs : x (numpy array) along which we want to represent the distribution\n",
    "           px(numpy array) values taken by the distribution\n",
    "  \"\"\"\n",
    "\n",
    "  fig, ax=plt.subplots()\n",
    "  ax.plot(x,px,'C1',LineWidth=2,label='Estimated state')\n",
    "  ax.axvline(x[px.argmax()],label='Latent state')\n",
    "  ax.legend()\n",
    "  ax.set_ylabel('Probability')\n",
    "  ax.set_xlabel('Value')\n",
    "\n",
    "  return ax"
   ]
  },
  {
   "cell_type": "markdown",
   "metadata": {
    "colab_type": "text",
    "id": "UKmvg4dBQvTT"
   },
   "source": [
    "# LGBIO 2060 - Exercise session 1\n",
    "# Sequential probability ratio test and urgency gating\n",
    "\n",
    "Contents : "
   ]
  },
  {
   "cell_type": "markdown",
   "metadata": {
    "colab_type": "text",
    "id": "QiIIrg38RKLh"
   },
   "source": [
    "# Part 1 : Gaussian distribution - Inferring the world through sensitive input\n",
    "When we try to estimate the exact position of our gaze or limb based on  sensory inputs (vision, proprioception), we always end up with an erroneous estimate. This means that, even though we have perfectly working sensory inputs, they are influenced by noise and therefore the inferred latent state will be a noisy approximation of the real latent state. For example, if the exact position of the tip of your fingernail in a given cartesian space is $[2 cm, 3cm]$, you might end up with an estimate which is $[1.95 cm, 3.07 cm]$ when you rely on sensory input to find it.\n",
    "\n",
    "\n",
    "The noisy observation of the latent state can be modelled by a Gaussian distribution whose mean is the value of the latent state and whose variance characterises the amount of noise present in the system. We can therefore write that the observation $y$ of the state $\\mu$ is such that :\n",
    "\n",
    "\n",
    "\n",
    "$$\n",
    "y\\sim\\mathcal{N}\\left(\\mu,\\, \\sigma^2\\right)\n",
    "$$\n",
    "\n",
    "\n",
    "\n",
    "\n",
    "As a reminder, au Gaussian distribution is characterised by the following equation :\n",
    "\n",
    "\n",
    "$$\\mathcal{N}\\left(\\mu,\\sigma^2\\right) = \\frac{1}{\\sqrt{2\\pi \\sigma^2}}\\exp\\left(\\frac{-\\left(x-\\mu\\right)^2}{2\\sigma^2}\\right)$$\n",
    "\n",
    "**Exercise 1**\n",
    "\n",
    "Implement a function that creates a gaussian distribution given its parameters and the *x* vector whose signature is given below\n"
   ]
  },
  {
   "cell_type": "code",
   "execution_count": 4,
   "metadata": {
    "colab": {
     "base_uri": "https://localhost:8080/",
     "height": 297
    },
    "colab_type": "code",
    "executionInfo": {
     "elapsed": 724,
     "status": "ok",
     "timestamp": 1599487521642,
     "user": {
      "displayName": "Antoine de Comité",
      "photoUrl": "",
      "userId": "14412021039052808935"
     },
     "user_tz": -120
    },
    "id": "gVyupXhkUqc-",
    "outputId": "899a5316-e1ec-4833-b350-39ed3f22b573"
   },
   "outputs": [
    {
     "data": {
      "text/plain": [
       "Text(0, 0.5, 'Probability')"
      ]
     },
     "execution_count": 4,
     "metadata": {},
     "output_type": "execute_result"
    },
    {
     "data": {
      "image/png": "[encoded data removed]",
      "text/plain": [
       "<Figure size 432x288 with 1 Axes>"
      ]
     },
     "metadata": {
      "needs_background": "light"
     },
     "output_type": "display_data"
    }
   ],
   "source": [
    "def my_gaussian(x_vector,mu,sigma):\n",
    "  \"\"\"\n",
    "  This function computes the Gaussian  distribution of parameters mu and sigma \n",
    "  over the set x_vector\n",
    "  \n",
    "  Inputs :\n",
    "    x_vector is the set over which we want to evaluate the distribution\n",
    "    mu is the mean value of the distribution\n",
    "    sigma is the standard deviation of the distribution\n",
    "\n",
    "  Outputs : \n",
    "    px is a numpy array that contains the value of the distribution evaluated at \n",
    "    every points of the set x_vector\n",
    "  \"\"\"\n",
    "  px = 1/(np.sqrt(2*np.pi*sigma**2)) *np.exp((-(x_vector-mu)**2)/(2*sigma**2))\n",
    "  ###################################\n",
    "  ####  Insert your code here  ###\n",
    "  ####                            ###\n",
    "  # raise NotImplementedError(\"`my_gaussian` is incomplete\")\n",
    "  ###################################\n",
    "\n",
    "  return px\n",
    "\n",
    "# Test your function on a gaussian of mean 0, variance 1 that you compute over\n",
    "# the set [-5,5]. Create a graphical representation of your distribution\n",
    "\n",
    "x_vector = np.arange(-5,5,0.1)\n",
    "px = my_gaussian(x_vector,0,1)\n",
    "\n",
    "fig, ax=plt.subplots()\n",
    "ax.plot(x_vector,px,'r')\n",
    "ax.set_xlabel(\"Position of the fingernail\")\n",
    "ax.set_ylabel(\"Probability\")"
   ]
  },
  {
   "cell_type": "markdown",
   "metadata": {
    "colab_type": "text",
    "id": "kiPj-_jnXp3D"
   },
   "source": [
    "Use the widget herebelow to investigate the impact of the mean and standard deviation on the shape of the gaussian distribution. \n",
    "\n",
    "\n",
    "**Make sure to execute the cell before playing with the widget**"
   ]
  },
  {
   "cell_type": "code",
   "execution_count": 5,
   "metadata": {
    "colab": {
     "base_uri": "https://localhost:8080/",
     "height": 343,
     "referenced_widgets": [
      "b9ac5614f2334585974d5897022a0db0",
      "3789aed6fcc446ff8edeebda6db4ccaf",
      "3af4df8606e244559fb7dd9ce5869897",
      "dd0643402d1244c89801de6d82a22aa5",
      "14511ea8dbfa4b23aa9daa927c45975b",
      "04a20474464d43eb9c48cf933b0b9af0",
      "d14e290393a34fadb01c215978e78b04",
      "371d56d2bdcd44139eb6c9f53c3a2740",
      "48db1964c9d24834a6b344690f76a774",
      "6cbfb9e66f4e43a89360b25ad140dc21"
     ]
    },
    "colab_type": "code",
    "executionInfo": {
     "elapsed": 890,
     "status": "ok",
     "timestamp": 1599487744637,
     "user": {
      "displayName": "Antoine de Comité",
      "photoUrl": "",
      "userId": "14412021039052808935"
     },
     "user_tz": -120
    },
    "id": "x7NLOnUlsCTF",
    "outputId": "162d7170-43d7-43c0-deb8-f9b94258acd3"
   },
   "outputs": [
    {
     "data": {
      "application/vnd.jupyter.widget-view+json": {
       "model_id": "af040d7bfa064e95a83e4f1fae5a754b",
       "version_major": 2,
       "version_minor": 0
      },
      "text/plain": [
       "interactive(children=(FloatSlider(value=2.0, description='mu:', max=10.0, min=-10.0, style=SliderStyle(descrip…"
      ]
     },
     "metadata": {},
     "output_type": "display_data"
    }
   ],
   "source": [
    "#@title\n",
    "#@markdown Make sure you execute this cell to enable the widget\n",
    "\n",
    "x = np.arange(-10,11,0.1)\n",
    "\n",
    "import ipywidgets as widgets\n",
    "\n",
    "def refresh(mu=1,sigma=1):\n",
    "  gaussian = my_gaussian(x_vector,mu,sigma)\n",
    "\n",
    "  ax = plot_my_gaussian(x_vector,gaussian)\n",
    "  plt.show()\n",
    "\n",
    "style = {'description_width' : 'initial'}\n",
    "\n",
    "_ = widgets.interact(refresh,\n",
    "    mu = widgets.FloatSlider(value=2, min=-10, max=10, steps=0.5, description=\"mu:\", style = style),\n",
    "    sigma = widgets.FloatSlider(value=0.5, min=0.5, max=10, steps=0.5, description=\"sigma\",style=style),\n",
    ")"
   ]
  },
  {
   "cell_type": "markdown",
   "metadata": {
    "colab_type": "text",
    "id": "FNA_YTl5Xx8U"
   },
   "source": [
    "# Part 2 : Sequential probability ratio test (SPRT) - Decision making\n",
    "\n",
    "Humans and animals are able to make decisions when they face a binary alternative. In this section, we will model decision making using sequential probability ratio test (SPRT). This model can be used in a random dot motion task (see [here](https://www.youtube.com/watch?v=oDxcyTn-0os) for an example). In this paradigm, a patch of points moving on average either to the left or to the right is shown to the subject that has to determine the direction of movement. Subject's goal is to determine the direction of the moving dots. The difficulty of the task depends on the coherence of each individual point.\n",
    "\n",
    "\n",
    "In this tutorial, we consider a simplified version of the random dot motion task. On each trial $i$, the subject is shown a single dot moving at velocity $v_i$ generated by a fixed probability distribution, which we know to be either: \n",
    "\n",
    "\n",
    "$$\n",
    "\\\\\n",
    "\\begin{eqnarray}\n",
    "p_L &=& \\mathcal{N}\\left(-1,\\sigma^2\\right)\\\\\n",
    "&& \\textrm{or}\\\\\n",
    "p_R &=& \\mathcal{N}\\left(+1,\\sigma^2\\right)\\\\\n",
    "\\end{eqnarray}\n",
    "$$\n",
    "\n",
    "This means that the dot is moving leftward or rightward and that its speed is normally distributed around $|1|$. We want to determine which distribution amongst $p_L$ and $p_R$ is the true data generating distribution. In order to do that, we will define two alternative hypotheses, the first one $H_L$ states that $p_L$ is the data generating distribution while $H_R$ states that it is $p_R$. The decision process is based on the time-evolution of the log likelihood ratio between these two hypotheses. For both hypothesis, we will define the likelihood function that will quantify how probable it is that the data point $x_i$ comes from a given distribution. For a given occurence of the point $x_i$, the two likelihood functions will be defined by $p_L\\left(x_i|z=0\\right)$ and $p_R\\left(x_i|z=1\\right)$, which are two gaussian distributions.\n",
    "\n",
    "\n",
    "Using the following gaussian observations models\n",
    "\n",
    "$$\\begin{eqnarray}\n",
    "p_L\\left(x|z=0\\right) & = & \\mathcal{N}\\left(\\mu_L,\\sigma_L^2\\right)\\\\\n",
    "p_R\\left(x|z=1\\right) & = & \\mathcal{N}\\left(\\mu_R,\\sigma_R^2\\right)\\\\\n",
    "\\end{eqnarray}\n",
    "$$\n",
    "\n",
    "and the definition of the log-likelihood ratio\n",
    "\n",
    "**Compute the expression of $\\log \\Lambda_i$, the log-likelihood ratio at iteration $i$** \n",
    "\n",
    "[Click here for solution](tospoiler.com)\n",
    "\n",
    "\n",
    "Without loss of generality, let's further assume the true data generating distribution is $p_R$. In this case $x_i$ can be expressed as $x_i = \\mu_R + \\sigma_R \\epsilon$ where $\\epsilon$ comes from a standard Gaussian. The foregoing formula can then be rewritten as\n",
    "$$\n",
    "\\log \\Lambda_i = \\left( \\log\\dfrac{\\sigma_L}{\\sigma_R} + 0.5\\dfrac{\\left(\\mu_R-\\mu_L\\right)^2}{\\sigma_L^2}\\right) + \\left(\\dfrac{\\mu_L-\\mu_R}{\\sigma_L^2}\\epsilon - 0.5\\left[1-\\left(\\dfrac{\\sigma_R}{\\sigma_L}\\right)^2\\right]\\epsilon^2\\right)\n",
    "$$\n",
    "\n",
    "Where the first two constants terms serve as the drifting part and the last terms are the diffusion part. If we further let $\\sigma_L = \\sigma_R$, we can get rid of the quadratic term and this reduces to the classical deiscrete drift-diffusion equation where we have analytical solutions for mean and expected auto-covariance:\n",
    "\n",
    "$$\n",
    "\\log \\Lambda_i = 0.5\\dfrac{\\left(\\mu_R - \\mu_L\\right)^2}{\\sigma^2} + \\dfrac{\\mu_R - \\mu_L}{\\sigma_L^2}\\epsilon, \\,\\,\\,\\,\\, \\text{where } \\epsilon\\sim\\mathcal{N}\\left(0,1\\right)\n",
    "$$\n",
    "\n",
    "Using this very last expression, implement the function *simulate_SPRT_fixedtime* whose signature is given below.\n"
   ]
  },
  {
   "cell_type": "code",
   "execution_count": 20,
   "metadata": {
    "colab": {
     "base_uri": "https://localhost:8080/",
     "height": 209
    },
    "colab_type": "code",
    "executionInfo": {
     "elapsed": 569,
     "status": "error",
     "timestamp": 1599493876980,
     "user": {
      "displayName": "Antoine de Comité",
      "photoUrl": "",
      "userId": "14412021039052808935"
     },
     "user_tz": -120
    },
    "id": "4Nuwv7vf6uIZ",
    "outputId": "4d74c35a-eb39-4959-b2d8-55b122579489"
   },
   "outputs": [
    {
     "ename": "NameError",
     "evalue": "ignored",
     "output_type": "error",
     "traceback": [
      "\u001b[0;31m---------------------------------------------------------------------------\u001b[0m",
      "\u001b[0;31mNameError\u001b[0m                                 Traceback (most recent call last)",
      "\u001b[0;32m<ipython-input-20-69a627ca338b>\u001b[0m in \u001b[0;36m<module>\u001b[0;34m()\u001b[0m\n\u001b[1;32m     37\u001b[0m \u001b[0;34m\u001b[0m\u001b[0m\n\u001b[1;32m     38\u001b[0m \u001b[0;34m\u001b[0m\u001b[0m\n\u001b[0;32m---> 39\u001b[0;31m \u001b[0msimulate_and_plot_SPRT_fixedtime\u001b[0m\u001b[0;34m(\u001b[0m\u001b[0msigma\u001b[0m\u001b[0;34m,\u001b[0m\u001b[0mstop_time\u001b[0m\u001b[0;34m,\u001b[0m\u001b[0mnum_sample\u001b[0m\u001b[0;34m)\u001b[0m \u001b[0;31m# function to create!!!!\u001b[0m\u001b[0;34m\u001b[0m\u001b[0;34m\u001b[0m\u001b[0m\n\u001b[0m",
      "\u001b[0;31mNameError\u001b[0m: name 'simulate_and_plot_SPRT_fixedtime' is not defined"
     ]
    }
   ],
   "source": [
    "def simulate_SPRT_fixedtime(sigma,stop_time,true_dist=1):\n",
    "  \"\"\"\n",
    "  TBA\n",
    "  \"\"\"\n",
    "  muL = -1.0\n",
    "  muR = 1.0\n",
    "\n",
    "  pL = stats.norm(loc=-1, scale = sigma)\n",
    "  pR = stats.norm(loc= 1, scale = sigma)\n",
    "\n",
    "\n",
    "  #Generate a random sequence of data\n",
    "  if true_dist ==1:\n",
    "    data = pR.rvs(size=stop_time)\n",
    "  else:\n",
    "    data = pL.rvs(size=stop_time)\n",
    "  \n",
    "  # calculate the cumulated evidence\n",
    "\n",
    "  ll_ratio_vec = log_likelihood_ratio(data,pL,pR)\n",
    "\n",
    "  evidence_history = np.cumsum(data,pL,pR)\n",
    "\n",
    "  if evidence_history[-1] >0:\n",
    "    decision = 1\n",
    "  elif evidence_history[-1] < 0:\n",
    "    decision = 0\n",
    "  else:\n",
    "    decision = np.random.randint(2)\n",
    "  \n",
    "  return evidence_history, decision, data\n",
    "\n",
    "np.random.seed(1000)\n",
    "sigma=3.5\n",
    "num_sample=10\n",
    "stop_time=150\n",
    "\n",
    "\n",
    "#TO do codes\n"
   ]
  },
  {
   "cell_type": "markdown",
   "metadata": {
    "colab_type": "text",
    "id": "hSlsP3MUYy0V"
   },
   "source": [
    "# Part 3 : Stopping criterions\n",
    "\n",
    "\n",
    "As you have seen in the preceeding graph, the evidence builds toward a threshold corresponding to one of the two alternatives. In order to determine when to stop and to make the decision stopping criterions have to be set. If you stop taking samples too early, (e.g. making a decision after only seeing 5 samples), or there's a huge amount of observation noise that buries the signal, you are likely to be driven by observation noise to a negative cumulated log likelihood ratio and thus make a wrong decision. You could get a sens of this by increasing noise level or decreasing stopping time in the last exercise. \n",
    "\n",
    "Now let's look at how decision accuracy varies with the number of samples we see quantitaively. first we'll fix our observation noise levle. In this exercise you will run several repeated simulations for a certain stopping time to calculate the average decision accuracty. Accuracy is simply defined as the proportion of correct trials across our repeated simulations. \n",
    "\n",
    "Do this for a range of stopping times and plot the relation between average decision accuracy and stoping time. you should get a positive correlation between these two quantities\n",
    "\n",
    "\n",
    "\n",
    "*   Choose a noise level. For example, $\\sigma=3$\n",
    "*   Complete the function 'simulate_accuracy_vs_stoptime' to simulate and compute corresponding average accuracies for a list of stopping times.\n",
    "*   Plot accuracy versus stopping time using the pre-written codes\n",
    "\n",
    "\n",
    "\n",
    "\n",
    "**Taper une démo interactive**"
   ]
  },
  {
   "cell_type": "code",
   "execution_count": null,
   "metadata": {
    "colab": {},
    "colab_type": "code",
    "id": "-2drRMdmV3GQ"
   },
   "outputs": [],
   "source": [
    "#TODO code for students\n"
   ]
  },
  {
   "cell_type": "code",
   "execution_count": null,
   "metadata": {
    "colab": {},
    "colab_type": "code",
    "id": "_WHyzPKZV7gu"
   },
   "outputs": [],
   "source": [
    "#TODO interactive demo"
   ]
  },
  {
   "cell_type": "markdown",
   "metadata": {
    "colab_type": "text",
    "id": "wMFJ27i1YzGs"
   },
   "source": [
    "# Part 4 : DDM with fixed thresholds \n",
    "\n",
    "In this exerise, we will use thresholding as our stopping rule and observe the behavior of the DDM. \n",
    "\n",
    "With thresholding stopping rule, we define a desired error rate and will continue making measurements until that error is reached. Experimental evidence suggested that evidence accumulation and thresholding stopping strategy happen at neuronal level.\n",
    "\n",
    "*     Complete the function threshold_from_errorate to calculate the evidence threshold from desired error rate $\\alpha$ as described in the formulas below. The evidence thresholds $th_L$ $th_R$ for $p_L$ and $p_R$ are opposite of each other as shown below, so you can just return the absolute value.\n",
    "\n",
    "$$\n",
    "\\begin{eqnarray}\n",
    "th_L = \\log \\dfrac{\\alpha}{1-\\alpha} & = & -th_R\\\\\n",
    "th_R = \\log \\dfrac{1-\\alpha}{\\alpha} & = & -th_L\n",
    "\\end{eqnarray}\n",
    "$$\n",
    "*     Complete the function simulate_SPRT_threshold to simulate an SPRT with thresholding stopping rule given noise level and desired threshold\n",
    "*     Run repeated simulations for a given noise level and a desired error rate visualize the DDM traces using our previous code \n",
    "\n",
    "**Taper une démonstration interactive**\n",
    "\n"
   ]
  },
  {
   "cell_type": "markdown",
   "metadata": {
    "colab_type": "text",
    "id": "f-CN1piiYzQE"
   },
   "source": [
    "# Part 5 : Accuracy vs. Threshold\n",
    "\n",
    "The faster you make a decision, the lower your accuracy often is. This phenomenon is known as the **speed/accuracy tradeoff**. Humans can make this tradeoff in a wide range of situtations as many animal species, including ants, bees, rodents, and monkeys also show similar effects.\n",
    "\n",
    "To illustrate the speed/accuracy tradeoff under thresholding stopping rule, let's run some simulations under different thresholds and look at how average decision speed (1/length) changes with average decision accuracy. We used speed rater than accuracy because in real experiments, subjects can be incetivized to respond faster or slower, it's much harder to precisely control their deicison time or error threshold.\n",
    "\n",
    "*     Complete the function simulate_accuracy_vs_threshold to simulate and compute accuracies vs. average decision lengths for a list of error thresholds. You will need to supply code to calculate average decision \"speed\" from the lengts of trials. You should also calculate the overall accuracy across these trials.\n",
    "\n",
    "*      We've set up a list of error thresholds. Run repeated simulations and collect average accuracy with average length for each error rate in this list, and use our provided code to visualize the speed/accuracy tradeoff. You should see a positive correlation between length and accuracy."
   ]
  },
  {
   "cell_type": "markdown",
   "metadata": {
    "colab_type": "text",
    "id": "81UL8pvfYzXc"
   },
   "source": [
    "# BONUS : Urgency gating"
   ]
  },
  {
   "cell_type": "markdown",
   "metadata": {
    "colab_type": "text",
    "id": "LwI_YeLOZJNW"
   },
   "source": [
    "# **Take-home message**"
   ]
  }
 ],
 "metadata": {
  "colab": {
   "authorship_tag": "ABX9TyNrOtLMheHXzANOyhdGJ9IG",
   "collapsed_sections": [],
   "name": "LGBIO2060_TP1",
   "provenance": [],
   "toc_visible": true
  },
  "kernelspec": {
   "display_name": "Python 3",
   "language": "python",
   "name": "python3"
  },
  "language_info": {
   "codemirror_mode": {
    "name": "ipython",
    "version": 3
   },
   "file_extension": ".py",
   "mimetype": "text/x-python",
   "name": "python",
   "nbconvert_exporter": "python",
   "pygments_lexer": "ipython3",
   "version": "3.8.3"
  },
  "widgets": {
   "application/vnd.jupyter.widget-state+json": {
    "04a20474464d43eb9c48cf933b0b9af0": {
     "model_module": "@jupyter-widgets/controls",
     "model_name": "SliderStyleModel",
     "state": {
      "_model_module": "@jupyter-widgets/controls",
      "_model_module_version": "1.5.0",
      "_model_name": "SliderStyleModel",
      "_view_count": null,
      "_view_module": "@jupyter-widgets/base",
      "_view_module_version": "1.2.0",
      "_view_name": "StyleView",
      "description_width": "initial",
      "handle_color": null
     }
    },
    "14511ea8dbfa4b23aa9daa927c45975b": {
     "model_module": "@jupyter-widgets/output",
     "model_name": "OutputModel",
     "state": {
      "_dom_classes": [],
      "_model_module": "@jupyter-widgets/output",
      "_model_module_version": "1.0.0",
      "_model_name": "OutputModel",
      "_view_count": null,
      "_view_module": "@jupyter-widgets/output",
      "_view_module_version": "1.0.0",
      "_view_name": "OutputView",
      "layout": "IPY_MODEL_6cbfb9e66f4e43a89360b25ad140dc21",
      "msg_id": "",
      "outputs": [
       {
        "image/png": "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\n",
        "metadata": {
         "needs_background": "light",
         "tags": []
        },
        "output_type": "display_data",
        "text/plain": "<Figure size 432x288 with 1 Axes>"
       }
      ]
     }
    },
    "371d56d2bdcd44139eb6c9f53c3a2740": {
     "model_module": "@jupyter-widgets/controls",
     "model_name": "SliderStyleModel",
     "state": {
      "_model_module": "@jupyter-widgets/controls",
      "_model_module_version": "1.5.0",
      "_model_name": "SliderStyleModel",
      "_view_count": null,
      "_view_module": "@jupyter-widgets/base",
      "_view_module_version": "1.2.0",
      "_view_name": "StyleView",
      "description_width": "initial",
      "handle_color": null
     }
    },
    "3789aed6fcc446ff8edeebda6db4ccaf": {
     "model_module": "@jupyter-widgets/base",
     "model_name": "LayoutModel",
     "state": {
      "_model_module": "@jupyter-widgets/base",
      "_model_module_version": "1.2.0",
      "_model_name": "LayoutModel",
      "_view_count": null,
      "_view_module": "@jupyter-widgets/base",
      "_view_module_version": "1.2.0",
      "_view_name": "LayoutView",
      "align_content": null,
      "align_items": null,
      "align_self": null,
      "border": null,
      "bottom": null,
      "display": null,
      "flex": null,
      "flex_flow": null,
      "grid_area": null,
      "grid_auto_columns": null,
      "grid_auto_flow": null,
      "grid_auto_rows": null,
      "grid_column": null,
      "grid_gap": null,
      "grid_row": null,
      "grid_template_areas": null,
      "grid_template_columns": null,
      "grid_template_rows": null,
      "height": null,
      "justify_content": null,
      "justify_items": null,
      "left": null,
      "margin": null,
      "max_height": null,
      "max_width": null,
      "min_height": null,
      "min_width": null,
      "object_fit": null,
      "object_position": null,
      "order": null,
      "overflow": null,
      "overflow_x": null,
      "overflow_y": null,
      "padding": null,
      "right": null,
      "top": null,
      "visibility": null,
      "width": null
     }
    },
    "3af4df8606e244559fb7dd9ce5869897": {
     "model_module": "@jupyter-widgets/controls",
     "model_name": "FloatSliderModel",
     "state": {
      "_dom_classes": [],
      "_model_module": "@jupyter-widgets/controls",
      "_model_module_version": "1.5.0",
      "_model_name": "FloatSliderModel",
      "_view_count": null,
      "_view_module": "@jupyter-widgets/controls",
      "_view_module_version": "1.5.0",
      "_view_name": "FloatSliderView",
      "continuous_update": true,
      "description": "mu:",
      "description_tooltip": null,
      "disabled": false,
      "layout": "IPY_MODEL_d14e290393a34fadb01c215978e78b04",
      "max": 10,
      "min": -10,
      "orientation": "horizontal",
      "readout": true,
      "readout_format": ".2f",
      "step": 0.1,
      "style": "IPY_MODEL_04a20474464d43eb9c48cf933b0b9af0",
      "value": 2
     }
    },
    "48db1964c9d24834a6b344690f76a774": {
     "model_module": "@jupyter-widgets/base",
     "model_name": "LayoutModel",
     "state": {
      "_model_module": "@jupyter-widgets/base",
      "_model_module_version": "1.2.0",
      "_model_name": "LayoutModel",
      "_view_count": null,
      "_view_module": "@jupyter-widgets/base",
      "_view_module_version": "1.2.0",
      "_view_name": "LayoutView",
      "align_content": null,
      "align_items": null,
      "align_self": null,
      "border": null,
      "bottom": null,
      "display": null,
      "flex": null,
      "flex_flow": null,
      "grid_area": null,
      "grid_auto_columns": null,
      "grid_auto_flow": null,
      "grid_auto_rows": null,
      "grid_column": null,
      "grid_gap": null,
      "grid_row": null,
      "grid_template_areas": null,
      "grid_template_columns": null,
      "grid_template_rows": null,
      "height": null,
      "justify_content": null,
      "justify_items": null,
      "left": null,
      "margin": null,
      "max_height": null,
      "max_width": null,
      "min_height": null,
      "min_width": null,
      "object_fit": null,
      "object_position": null,
      "order": null,
      "overflow": null,
      "overflow_x": null,
      "overflow_y": null,
      "padding": null,
      "right": null,
      "top": null,
      "visibility": null,
      "width": null
     }
    },
    "6cbfb9e66f4e43a89360b25ad140dc21": {
     "model_module": "@jupyter-widgets/base",
     "model_name": "LayoutModel",
     "state": {
      "_model_module": "@jupyter-widgets/base",
      "_model_module_version": "1.2.0",
      "_model_name": "LayoutModel",
      "_view_count": null,
      "_view_module": "@jupyter-widgets/base",
      "_view_module_version": "1.2.0",
      "_view_name": "LayoutView",
      "align_content": null,
      "align_items": null,
      "align_self": null,
      "border": null,
      "bottom": null,
      "display": null,
      "flex": null,
      "flex_flow": null,
      "grid_area": null,
      "grid_auto_columns": null,
      "grid_auto_flow": null,
      "grid_auto_rows": null,
      "grid_column": null,
      "grid_gap": null,
      "grid_row": null,
      "grid_template_areas": null,
      "grid_template_columns": null,
      "grid_template_rows": null,
      "height": null,
      "justify_content": null,
      "justify_items": null,
      "left": null,
      "margin": null,
      "max_height": null,
      "max_width": null,
      "min_height": null,
      "min_width": null,
      "object_fit": null,
      "object_position": null,
      "order": null,
      "overflow": null,
      "overflow_x": null,
      "overflow_y": null,
      "padding": null,
      "right": null,
      "top": null,
      "visibility": null,
      "width": null
     }
    },
    "b9ac5614f2334585974d5897022a0db0": {
     "model_module": "@jupyter-widgets/controls",
     "model_name": "VBoxModel",
     "state": {
      "_dom_classes": [
       "widget-interact"
      ],
      "_model_module": "@jupyter-widgets/controls",
      "_model_module_version": "1.5.0",
      "_model_name": "VBoxModel",
      "_view_count": null,
      "_view_module": "@jupyter-widgets/controls",
      "_view_module_version": "1.5.0",
      "_view_name": "VBoxView",
      "box_style": "",
      "children": [
       "IPY_MODEL_3af4df8606e244559fb7dd9ce5869897",
       "IPY_MODEL_dd0643402d1244c89801de6d82a22aa5",
       "IPY_MODEL_14511ea8dbfa4b23aa9daa927c45975b"
      ],
      "layout": "IPY_MODEL_3789aed6fcc446ff8edeebda6db4ccaf"
     }
    },
    "d14e290393a34fadb01c215978e78b04": {
     "model_module": "@jupyter-widgets/base",
     "model_name": "LayoutModel",
     "state": {
      "_model_module": "@jupyter-widgets/base",
      "_model_module_version": "1.2.0",
      "_model_name": "LayoutModel",
      "_view_count": null,
      "_view_module": "@jupyter-widgets/base",
      "_view_module_version": "1.2.0",
      "_view_name": "LayoutView",
      "align_content": null,
      "align_items": null,
      "align_self": null,
      "border": null,
      "bottom": null,
      "display": null,
      "flex": null,
      "flex_flow": null,
      "grid_area": null,
      "grid_auto_columns": null,
      "grid_auto_flow": null,
      "grid_auto_rows": null,
      "grid_column": null,
      "grid_gap": null,
      "grid_row": null,
      "grid_template_areas": null,
      "grid_template_columns": null,
      "grid_template_rows": null,
      "height": null,
      "justify_content": null,
      "justify_items": null,
      "left": null,
      "margin": null,
      "max_height": null,
      "max_width": null,
      "min_height": null,
      "min_width": null,
      "object_fit": null,
      "object_position": null,
      "order": null,
      "overflow": null,
      "overflow_x": null,
      "overflow_y": null,
      "padding": null,
      "right": null,
      "top": null,
      "visibility": null,
      "width": null
     }
    },
    "dd0643402d1244c89801de6d82a22aa5": {
     "model_module": "@jupyter-widgets/controls",
     "model_name": "FloatSliderModel",
     "state": {
      "_dom_classes": [],
      "_model_module": "@jupyter-widgets/controls",
      "_model_module_version": "1.5.0",
      "_model_name": "FloatSliderModel",
      "_view_count": null,
      "_view_module": "@jupyter-widgets/controls",
      "_view_module_version": "1.5.0",
      "_view_name": "FloatSliderView",
      "continuous_update": true,
      "description": "sigma",
      "description_tooltip": null,
      "disabled": false,
      "layout": "IPY_MODEL_48db1964c9d24834a6b344690f76a774",
      "max": 10,
      "min": 0.5,
      "orientation": "horizontal",
      "readout": true,
      "readout_format": ".2f",
      "step": 0.1,
      "style": "IPY_MODEL_371d56d2bdcd44139eb6c9f53c3a2740",
      "value": 0.5
     }
    }
   }
  }
 },
 "nbformat": 4,
 "nbformat_minor": 1
}
