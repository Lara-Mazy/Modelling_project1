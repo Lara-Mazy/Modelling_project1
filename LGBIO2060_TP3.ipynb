{
  "nbformat": 4,
  "nbformat_minor": 0,
  "metadata": {
    "colab": {
      "name": "LGBIO2060_TP3.ipynb",
      "provenance": [],
      "collapsed_sections": []
    },
    "kernelspec": {
      "name": "python3",
      "display_name": "Python 3"
    }
  },
  "cells": [
    {
      "cell_type": "markdown",
      "metadata": {
        "id": "rd-uRhH1cmSn",
        "colab_type": "text"
      },
      "source": [
        "# LGBIO2060 - Exercise session 3\n",
        "Kalman filtering or how to implement the prior and likelihood dynamically? \n"
      ]
    },
    {
      "cell_type": "markdown",
      "metadata": {
        "id": "cEi52Hd4c3OE",
        "colab_type": "text"
      },
      "source": [
        "## Import and helper functions\n",
        "**Please execute the cell below to initialize the notebook environment**"
      ]
    },
    {
      "cell_type": "code",
      "metadata": {
        "id": "X_He_4QlckhJ",
        "colab_type": "code",
        "colab": {}
      },
      "source": [
        "import numpy as np\n",
        "import matplotlib.pyplot as plt\n",
        "\n"
      ],
      "execution_count": null,
      "outputs": []
    },
    {
      "cell_type": "code",
      "metadata": {
        "id": "DDxnOtZ78iG5",
        "colab_type": "code",
        "colab": {}
      },
      "source": [
        "def plot_my_system(state_evolution):\n",
        "  \"\"\"\n",
        "  Do not edit this function...\n",
        "\n",
        "  the aim of this function is to represent the time-evolution of a dynamical linear system\n",
        "  Author : Antoine de Comite \n",
        "  \"\"\"\n",
        "  fig, ax = plt.subplots(figsize=(8,6))\n",
        "  xlim = None\n",
        "  ylim = None\n",
        "  ax.scatter(state_evolution[0,:],state_evolution[1,:],c='m',s=100,alpha=0.7)\n",
        "  ax.plot(state_evolution[0,:],state_evolution[1,:],LineWidth=2,c='k')\n",
        "  ax.set_xlabel(\"x_1\")\n",
        "  ax.set_ylabel(\"x_2\")\n",
        "  ax.set(xlim=xlim)\n",
        "  ax.set(ylim=ylim)\n",
        "  return ax\n",
        "\n",
        "\n",
        "def plot_my_system_with_obs(state_evolution,obs_evolution):\n",
        "  \"\"\"\n",
        "  Do not edit this function...\n",
        "\n",
        "  the aim of this function is to represent the time-evolution of a dynamical linear system\n",
        "  Author : Antoine de Comite \n",
        "  \"\"\"\n",
        "  fig, ax = plt.subplots(figsize=(8,6))\n",
        "  xlim = None\n",
        "  ylim = None\n",
        "  ax.scatter(state_evolution[0,:],state_evolution[1,:],c='m',s=100,alpha=0.7)\n",
        "  ax.plot(state_evolution[0,:],state_evolution[1,:],LineWidth=2,c='k',label='Latent state')\n",
        "  ax.plot(obs_evolution[0,:],obs_evolution[1,:],LineWidth=2,c='g',label='Observation')\n",
        "  ax.set_xlabel(\"x_1\")\n",
        "  ax.set_ylabel(\"x_2\")\n",
        "  ax.set(xlim=xlim)\n",
        "  ax.set(ylim=ylim)\n",
        "  ax.legend()\n",
        "  return ax\n",
        "  \n",
        "import ipywidgets as widgets  # interactive display\n",
        "%config InlineBackend.figure_format = 'retina'\n",
        "# use NMA plot style\n",
        "plt.style.use(\"https://raw.githubusercontent.com/NeuromatchAcademy/course-content/master/nma.mplstyle\")\n",
        "my_layout = widgets.Layout()"
      ],
      "execution_count": null,
      "outputs": []
    },
    {
      "cell_type": "markdown",
      "metadata": {
        "id": "Ytv17jb8dhEH",
        "colab_type": "text"
      },
      "source": [
        "## Tutorial objectives \n",
        "\n",
        "At the end of this tutorial, you should be able to explain the concepts of dynamical system and continuous dynamic application of Bayes' theorem. "
      ]
    },
    {
      "cell_type": "markdown",
      "metadata": {
        "id": "vYDwDdw8eMLJ",
        "colab_type": "text"
      },
      "source": [
        "# Section 1 - Dynamical systems"
      ]
    },
    {
      "cell_type": "markdown",
      "metadata": {
        "id": "zP7Ct3GneUt6",
        "colab_type": "text"
      },
      "source": [
        "In this tutorial, we will be applying Bayes' theorem to dynamical systems. A dynamical system is a system for which the time-evolution of any point can be described by a time-dependent function. Many systems that we encounter in our daily life are dynamical systems: eyes movements, reaching movements, walking, population dynamics,... \n",
        "\n",
        "\n",
        "A dynamical system can be observed through some noise and uncertainty similarly to fixed variable (see the first two tutorials). Therefore, in order to obtain the best estimate of the latent state of the system, we can apply Bayes theorem at every time step. This is what we will do in this tutorial.\n",
        "\n",
        "\n",
        "A dynamical system has the following continuous and discrete forms, respectively : \n",
        "\n",
        "\\begin{eqnarray}\n",
        "& & \\\\\n",
        "\\dot{x}\\left(t\\right) & = & A x\\left(t\\right) + \\xi\\left(t\\right)\\\\\n",
        "& & \\\\\n",
        "x\\left[t+1\\right] & = & A x\\left[t\\right] + \\xi\\left[t\\right] \\\\\n",
        "& & \\\\\n",
        "\\end{eqnarray}\n",
        "\n",
        "where $A$ is called the **state-transition matrix** matrix and $\\xi\\left(t\\right)$ is Gaussian white noise generated from $\\mathcal{N}\\left(0,\\Omega_{\\text{motor}}\\right)$. $\\Omega_{\\text{motor}}$ is the covariance matrix of the motor noise.\n",
        "\n",
        "The latent state $x$ can have more than one entry, for example we may want to estimate the x- and y-positions of a fly. In this case, the latent state will become a latent state vector $x = \\left[x_1,x_2 \\right]^T$ and the dynamical can be written : \n",
        "\n",
        "\n",
        "\\begin{eqnarray}\n",
        "&&\\\\\n",
        "\\begin{bmatrix}\n",
        "  x_1[t+1] \\\\\n",
        "  x_2[t+1]\n",
        "  \\end{bmatrix} &=& \\begin{bmatrix}A_{11} & A_{12}\\\\ A_{21} & A_{22} \\end{bmatrix}\\begin{bmatrix}x_1[t]\\\\ x_2[t]\\end{bmatrix} + \\begin{bmatrix}\\xi_1[t] \\\\ \\xi_2[t] \\end{bmatrix}\n",
        "  &&\\\\\n",
        "\\end{eqnarray}\n",
        "\n",
        "**Exercise 1 - Implement a function that defines the system mentionned above**\n",
        "\n",
        "Hints : \n",
        "* You can assume that the covariance matrix of the motor noise is diagonal and that all the entries of the diagonal are equal to $\\sigma_{\\text{motor}}$. **Hint**: Use the function numpy.random.multivariate_normal\n",
        "* You will be performing matrix multiplications, consider this while implementing your function\n",
        "* You can use the function *plot_my_system* to represent the time-evolution of your linear dynamical system\n",
        "\n",
        "\n",
        "\n"
      ]
    },
    {
      "cell_type": "code",
      "metadata": {
        "id": "VSquLf_cvD2W",
        "colab_type": "code",
        "colab": {}
      },
      "source": [
        "def my_system(nsteps,x0,A,dt,sigma_motor):\n",
        "  \"\"\"\n",
        "  my_system is a function that model the time-evolution of a linear dynamical system\n",
        "  with state transition matrix A.\n",
        "  Inputs : nsteps is the number of time steps to model\n",
        "           x0 is the initial state (where we are starting from)\n",
        "           A is the state-transition matrix\n",
        "           dt is the time step used in the discretization\n",
        "           sigma_motor is the std of the motor noise\n",
        "  Outputs : state_evolution is a numpy array that contains the time-evolution of \n",
        "            the state vector\n",
        "  \"\"\"\n",
        "  \n",
        "  ######################\n",
        "  ### your code here ###\n",
        "  ######################\n",
        "\n",
        "  \n",
        "  return state_evolution\n",
        "\n",
        "# Run the lines below to test your code\n",
        "\n",
        "nsteps = 50\n",
        "dt = 0.1\n",
        "x0 = np.array([0,0]).T\n",
        "A = np.array([[1., 1.], [-(2*np.pi/20.)**2., .9]])\n",
        "sigma_motor = 0.05\n",
        "\n",
        "######################\n",
        "### your code here ###\n",
        "######################"
      ],
      "execution_count": null,
      "outputs": []
    },
    {
      "cell_type": "markdown",
      "metadata": {
        "id": "7nQ__9qRFBLA",
        "colab_type": "text"
      },
      "source": [
        "**What is the effect of the noise covariance on the behaviour of the system?**\n",
        "\n",
        "\n",
        "Play with the widget below to explore this effect. "
      ]
    },
    {
      "cell_type": "code",
      "metadata": {
        "id": "lFwCNuwDArt4",
        "colab_type": "code",
        "colab": {}
      },
      "source": [
        "# @title\n",
        "# @markdown Make sure you execute this cell to enable the widget!\n",
        "my_layout.width = '450px'\n",
        "@widgets.interact(\n",
        "    sigma_motor=widgets.FloatSlider(0.05, min=0, max=1, step=0.05, layout=my_layout)\n",
        "\n",
        ")\n",
        "\n",
        "def sigma_motor(sigma_motor = 0.05):\n",
        "    nsteps = 50\n",
        "    dt = 0.1\n",
        "    x0 = np.array([1,1]).T\n",
        "    A = np.array([[1., 1.], [-(2*np.pi/20.)**2., .9]])\n",
        "    state_evolution = my_system(nsteps,x0,A,dt,sigma_motor)\n",
        "    plot_my_system(state_evolution)\n"
      ],
      "execution_count": null,
      "outputs": []
    },
    {
      "cell_type": "markdown",
      "metadata": {
        "id": "064vvCvAFyQB",
        "colab_type": "text"
      },
      "source": [
        "---\n",
        "However, as we saw in the previous tutorials, our sensory inputs are not perfect and it is impossible to know the real latent state; we can only get a rough estimate of it. Mathematically, we can define the observation of the latent state of our dynamical system as follows: \n",
        "\n",
        "\n",
        "$\\begin{eqnarray}\n",
        "& & \\\\\n",
        "y[t]& = & H x[t] + \\eta[t]\\\\\n",
        " & & \\\\\n",
        "\\begin{bmatrix}y_1[t]\\\\ y_2[t]\\end{bmatrix} & = &\\begin{bmatrix}1 & 0 \\\\ 0 & 1\\end{bmatrix} \\begin{bmatrix}x_1[t] \\\\ x_2[t]\\end{bmatrix} + \\begin{bmatrix}\\eta_1[t]\\\\ \\eta_2[t]\\end{bmatrix}\n",
        "& &\\\\\n",
        "\\end{eqnarray}$\n",
        "\n",
        "where $H$ is the observation matrix and $\\eta[t]$ is a vector of Gaussian white noise generated from $\\mathcal{N}\\left(0,\\Omega_{\\text{sensory}}\\right)$. \n",
        "\n",
        "**Exercise 2 - Implement the observation of the latent state**\n",
        "\n",
        "* you can use the function *plot_my_system_with_obs* for the plot"
      ]
    },
    {
      "cell_type": "code",
      "metadata": {
        "id": "LeCRZ5oQPgXm",
        "colab_type": "code",
        "colab": {}
      },
      "source": [
        "def my_system_with_obs(nsteps,x0,A,H,dt,sigma_motor,sigma_sensory):\n",
        "  \"\"\"\n",
        "  my_system_with_obs is a function that model the time-evolution of the latent state \n",
        "  and its observation\n",
        "  \"\"\"\n",
        "  ######################\n",
        "  ### your code here ###\n",
        "  ######################\n",
        "\n",
        "  return state_evolution,obs_evolution\n",
        "\n",
        "# Run the lines below to test your code \n",
        "nsteps = 50\n",
        "dt = 0.1\n",
        "x0 = np.array([0,0]).T\n",
        "A = np.array([[1.,1.],[-(2*np.pi/20.)**2.,0.9]])\n",
        "H = np.eye(2)\n",
        "sigma_motor = 0.05\n",
        "sigma_sensory = 0.02\n",
        "######################\n",
        "### your code here ###\n",
        "######################\n"
      ],
      "execution_count": null,
      "outputs": []
    },
    {
      "cell_type": "markdown",
      "metadata": {
        "id": "embb74sbOnq7",
        "colab_type": "text"
      },
      "source": [
        "**Compared to the first and second tutorials, what does the green line correspond to (in terms of Bayes' theorem?**"
      ]
    },
    {
      "cell_type": "markdown",
      "metadata": {
        "id": "HMV7buBNxZoj",
        "colab_type": "text"
      },
      "source": [
        "## Section 2 - Kalman filter or the optimal observation of continuous linear dynamical systems"
      ]
    }
  ]
}